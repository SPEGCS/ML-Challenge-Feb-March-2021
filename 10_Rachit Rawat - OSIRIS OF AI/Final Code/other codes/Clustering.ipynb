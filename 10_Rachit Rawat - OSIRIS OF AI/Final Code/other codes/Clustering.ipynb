{
  "nbformat": 4,
  "nbformat_minor": 0,
  "metadata": {
    "colab": {
      "name": "Clustering.ipynb",
      "provenance": []
    },
    "kernelspec": {
      "name": "python3",
      "display_name": "Python 3"
    }
  },
  "cells": [
    {
      "cell_type": "markdown",
      "metadata": {
        "id": "8Q75z8Ey3vIK"
      },
      "source": [
        "# USED FOR GETTING CLUSTER CENTERS OF TWO REGIONS"
      ]
    },
    {
      "cell_type": "code",
      "metadata": {
        "colab": {
          "base_uri": "https://localhost:8080/"
        },
        "id": "yDgfXSwR1yYF",
        "outputId": "f11b97e0-bb80-4f87-e96c-369f2761c5b3"
      },
      "source": [
        "\"\"\"\r\n",
        "CLUSTERING\r\n",
        "\r\n",
        "Clustering the training files in two region.\r\n",
        "Cluster centers are later used to allot region to new file.\r\n",
        "\r\n",
        "\"\"\"\r\n",
        "import numpy as np \r\n",
        "import pandas as pd \r\n",
        "\r\n",
        "from sklearn.cluster import KMeans\r\n",
        "\r\n",
        "# this csv contains latitude and longitude of training files\r\n",
        "!gdown --id 1-Ru25gNOfplrfkiT6Bzikh69BZI5nF8Y\r\n",
        "\r\n",
        "data = pd.read_csv('dataINFO.csv')\r\n",
        "print(data.head())"
      ],
      "execution_count": 7,
      "outputs": [
        {
          "output_type": "stream",
          "text": [
            "Downloading...\n",
            "From: https://drive.google.com/uc?id=1-Ru25gNOfplrfkiT6Bzikh69BZI5nF8Y\n",
            "To: /content/dataINFO.csv\n",
            "\r  0% 0.00/16.6k [00:00<?, ?B/s]\r100% 16.6k/16.6k [00:00<00:00, 20.4MB/s]\n",
            "               fileName  depth_min  depth_max       lat      long\n",
            "0  84967b1f42e0_TGS.las     4216.0    22510.0  5.493608  3.508577\n",
            "1  56d922368bbb_TGS.las       76.0     3189.0  1.938850  9.844046\n",
            "2  146b023afbcf_TGS.las     1450.0     9380.0  4.551584  2.128100\n",
            "3  d2ee13fadfac_TGS.las     5405.0    15896.0  5.794372  4.791834\n",
            "4  8dd418b39f5d_TGS.las     3534.0    12816.0  5.965102  4.182719\n"
          ],
          "name": "stdout"
        }
      ]
    },
    {
      "cell_type": "code",
      "metadata": {
        "colab": {
          "base_uri": "https://localhost:8080/"
        },
        "id": "fMHfQt-S2kdn",
        "outputId": "89080cec-97dd-4aad-cdb6-625f67979731"
      },
      "source": [
        "X = data[[\"lat\",\"long\"]]\r\n",
        "\r\n",
        "kmeans = KMeans(n_clusters=2, random_state=0).fit(X)\r\n",
        "\r\n",
        "print(\"\\nCluster Centers : \")\r\n",
        "print(kmeans.cluster_centers_)"
      ],
      "execution_count": 8,
      "outputs": [
        {
          "output_type": "stream",
          "text": [
            "\n",
            "Cluster Centers : \n",
            "[[5.80127095 3.52103194]\n",
            " [2.27100945 7.48227453]]\n"
          ],
          "name": "stdout"
        }
      ]
    }
  ]
}