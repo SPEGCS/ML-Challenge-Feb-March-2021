{
  "nbformat": 4,
  "nbformat_minor": 0,
  "metadata": {
    "colab": {
      "name": "Initial Approach.ipynb",
      "provenance": []
    },
    "kernelspec": {
      "name": "python3",
      "display_name": "Python 3"
    }
  },
  "cells": [
    {
      "cell_type": "markdown",
      "metadata": {
        "id": "mWHeYnDii9Hk"
      },
      "source": [
        "# The First Approach We Tried"
      ]
    },
    {
      "cell_type": "markdown",
      "metadata": {
        "id": "qlChrZz8jD-H"
      },
      "source": [
        "#### Prerequisites"
      ]
    },
    {
      "cell_type": "code",
      "metadata": {
        "id": "0FlDNuokgNHQ"
      },
      "source": [
        "%%capture\r\n",
        "!pip install lasio\r\n",
        "!pip install welly"
      ],
      "execution_count": 1,
      "outputs": []
    },
    {
      "cell_type": "code",
      "metadata": {
        "id": "DhthhWClgZcU"
      },
      "source": [
        "import numpy as np \r\n",
        "import pandas as pd \r\n",
        "import os\r\n",
        "import matplotlib.pyplot as plt\r\n",
        "import welly\r\n",
        "import collections\r\n",
        "from welly import Well\r\n",
        "from welly import Project\r\n",
        "import csv\r\n",
        "import lasio \r\n",
        "from tqdm.notebook import tqdm\r\n",
        "import seaborn as sns\r\n",
        "from sklearn.model_selection import train_test_split\r\n",
        "from sklearn.metrics import mean_squared_error as MSE\r\n",
        "import xgboost as xg\r\n",
        "from sklearn import preprocessing\r\n",
        "from sklearn.preprocessing import StandardScaler\r\n",
        "# from catboost import CatBoostRegressor\r\n",
        "from sklearn.kernel_ridge import KernelRidge\r\n",
        "from scipy import stats\r\n",
        "from sklearn.model_selection import RandomizedSearchCV, KFold\r\n",
        "from sklearn.metrics import mean_squared_error\r\n",
        "from sklearn.linear_model import LinearRegression, Ridge, Lasso, BayesianRidge, SGDRegressor\r\n",
        "from sklearn.model_selection import GridSearchCV\r\n",
        "from sklearn.svm import SVR\r\n",
        "from scipy import stats\r\n",
        "from sklearn.neural_network import MLPRegressor\r\n",
        "\r\n",
        "import warnings\r\n",
        "warnings.filterwarnings('ignore')"
      ],
      "execution_count": 3,
      "outputs": []
    },
    {
      "cell_type": "code",
      "metadata": {
        "colab": {
          "base_uri": "https://localhost:8080/"
        },
        "id": "9r6h9nRlgtW6",
        "outputId": "79c04600-748e-4619-b076-f22bf61a076c"
      },
      "source": [
        "# CSV Containing Info about logs and units of logs  \r\n",
        "!gdown --id 1-1bPAcTXXv2TqaQDMGHIgH0wvneQdVEZ\r\n",
        "!unzip -qq /content/wellloginfo.zip -d 'wellloginfo'\r\n",
        "os.remove(\"/content/wellloginfo.zip\")\r\n",
        "\r\n",
        "# Stacked file For both regions\r\n",
        "!gdown --id 1--mnuePiANuTUuljKIj_W0lIP_tAJOXU\r\n",
        "!unzip -qq /content/stacked-data-both-regions.zip -d 'stacked-data-both-regions'\r\n",
        "os.remove(\"/content/stacked-data-both-regions.zip\")\r\n",
        "\r\n",
        "!gdown --id 1-43M2dHo-p7sBMQv0DK2RK8ZC1cNpVUC\r\n",
        "!unzip -qq final-data.zip -d 'test-data'\r\n",
        "os.remove(\"final-data.zip\")"
      ],
      "execution_count": 4,
      "outputs": [
        {
          "output_type": "stream",
          "text": [
            "Downloading...\n",
            "From: https://drive.google.com/uc?id=1-1bPAcTXXv2TqaQDMGHIgH0wvneQdVEZ\n",
            "To: /content/wellloginfo.zip\n",
            "100% 3.26k/3.26k [00:00<00:00, 3.55MB/s]\n",
            "Downloading...\n",
            "From: https://drive.google.com/uc?id=1--mnuePiANuTUuljKIj_W0lIP_tAJOXU\n",
            "To: /content/stacked-data-both-regions.zip\n",
            "120MB [00:02, 56.7MB/s]\n"
          ],
          "name": "stdout"
        }
      ]
    },
    {
      "cell_type": "markdown",
      "metadata": {
        "id": "BzzxQu9cjIn_"
      },
      "source": [
        "#### Unit Values Selection and Prediction"
      ]
    },
    {
      "cell_type": "code",
      "metadata": {
        "colab": {
          "base_uri": "https://localhost:8080/"
        },
        "id": "3iVIfaxDggZt",
        "outputId": "77299a36-d2b5-4fe0-d346-d107acc6456e"
      },
      "source": [
        "dataF = pd.read_csv('/content/stacked-data-both-regions/data_stacked_T_ (1).csv')\r\n",
        "dataF = dataF[dataF['DTSM'].notna()]\r\n",
        "dataF.shape"
      ],
      "execution_count": 6,
      "outputs": [
        {
          "output_type": "execute_result",
          "data": {
            "text/plain": [
              "(805987, 163)"
            ]
          },
          "metadata": {
            "tags": []
          },
          "execution_count": 6
        }
      ]
    },
    {
      "cell_type": "code",
      "metadata": {
        "colab": {
          "base_uri": "https://localhost:8080/",
          "height": 227
        },
        "id": "v8x6uP1RhbzH",
        "outputId": "23a7044e-5a41-4f8a-a2c8-df5d4f1f001c"
      },
      "source": [
        "las2 = lasio.read(\"/content/test-data/1684cc35f399_TGS.las\")\r\n",
        "test_data = las2.df()\r\n",
        "test_data.head(5)"
      ],
      "execution_count": 10,
      "outputs": [
        {
          "output_type": "execute_result",
          "data": {
            "text/html": [
              "<div>\n",
              "<style scoped>\n",
              "    .dataframe tbody tr th:only-of-type {\n",
              "        vertical-align: middle;\n",
              "    }\n",
              "\n",
              "    .dataframe tbody tr th {\n",
              "        vertical-align: top;\n",
              "    }\n",
              "\n",
              "    .dataframe thead th {\n",
              "        text-align: right;\n",
              "    }\n",
              "</style>\n",
              "<table border=\"1\" class=\"dataframe\">\n",
              "  <thead>\n",
              "    <tr style=\"text-align: right;\">\n",
              "      <th></th>\n",
              "      <th>GRR</th>\n",
              "      <th>ILD</th>\n",
              "      <th>ILM</th>\n",
              "      <th>SFLU</th>\n",
              "      <th>SPR</th>\n",
              "      <th>CALR</th>\n",
              "      <th>DTCO</th>\n",
              "      <th>NPHI</th>\n",
              "      <th>DPHI</th>\n",
              "      <th>PE</th>\n",
              "      <th>DRHO</th>\n",
              "      <th>CALD</th>\n",
              "      <th>RHOB</th>\n",
              "    </tr>\n",
              "    <tr>\n",
              "      <th>DEPT</th>\n",
              "      <th></th>\n",
              "      <th></th>\n",
              "      <th></th>\n",
              "      <th></th>\n",
              "      <th></th>\n",
              "      <th></th>\n",
              "      <th></th>\n",
              "      <th></th>\n",
              "      <th></th>\n",
              "      <th></th>\n",
              "      <th></th>\n",
              "      <th></th>\n",
              "      <th></th>\n",
              "    </tr>\n",
              "  </thead>\n",
              "  <tbody>\n",
              "    <tr>\n",
              "      <th>5994.0</th>\n",
              "      <td>82.4304</td>\n",
              "      <td>9.1583</td>\n",
              "      <td>8.6697</td>\n",
              "      <td>8.6378</td>\n",
              "      <td>-24.9283</td>\n",
              "      <td>9.4701</td>\n",
              "      <td>71.2017</td>\n",
              "      <td>NaN</td>\n",
              "      <td>NaN</td>\n",
              "      <td>NaN</td>\n",
              "      <td>NaN</td>\n",
              "      <td>NaN</td>\n",
              "      <td>NaN</td>\n",
              "    </tr>\n",
              "    <tr>\n",
              "      <th>5994.5</th>\n",
              "      <td>80.1221</td>\n",
              "      <td>9.1626</td>\n",
              "      <td>8.6134</td>\n",
              "      <td>9.4136</td>\n",
              "      <td>-26.6600</td>\n",
              "      <td>9.4440</td>\n",
              "      <td>70.2243</td>\n",
              "      <td>NaN</td>\n",
              "      <td>NaN</td>\n",
              "      <td>NaN</td>\n",
              "      <td>NaN</td>\n",
              "      <td>NaN</td>\n",
              "      <td>NaN</td>\n",
              "    </tr>\n",
              "    <tr>\n",
              "      <th>5995.0</th>\n",
              "      <td>77.1246</td>\n",
              "      <td>9.1152</td>\n",
              "      <td>8.4855</td>\n",
              "      <td>10.0892</td>\n",
              "      <td>-27.2562</td>\n",
              "      <td>9.4560</td>\n",
              "      <td>67.5032</td>\n",
              "      <td>NaN</td>\n",
              "      <td>NaN</td>\n",
              "      <td>NaN</td>\n",
              "      <td>NaN</td>\n",
              "      <td>NaN</td>\n",
              "      <td>NaN</td>\n",
              "    </tr>\n",
              "    <tr>\n",
              "      <th>5995.5</th>\n",
              "      <td>76.2724</td>\n",
              "      <td>8.9201</td>\n",
              "      <td>8.3596</td>\n",
              "      <td>10.0951</td>\n",
              "      <td>-28.3344</td>\n",
              "      <td>9.4822</td>\n",
              "      <td>60.7898</td>\n",
              "      <td>NaN</td>\n",
              "      <td>NaN</td>\n",
              "      <td>NaN</td>\n",
              "      <td>NaN</td>\n",
              "      <td>NaN</td>\n",
              "      <td>NaN</td>\n",
              "    </tr>\n",
              "    <tr>\n",
              "      <th>5996.0</th>\n",
              "      <td>77.7058</td>\n",
              "      <td>8.1558</td>\n",
              "      <td>8.1499</td>\n",
              "      <td>9.8005</td>\n",
              "      <td>-30.2277</td>\n",
              "      <td>9.5882</td>\n",
              "      <td>56.5389</td>\n",
              "      <td>NaN</td>\n",
              "      <td>NaN</td>\n",
              "      <td>NaN</td>\n",
              "      <td>NaN</td>\n",
              "      <td>NaN</td>\n",
              "      <td>NaN</td>\n",
              "    </tr>\n",
              "  </tbody>\n",
              "</table>\n",
              "</div>"
            ],
            "text/plain": [
              "            GRR     ILD     ILM     SFLU      SPR  ...  DPHI  PE  DRHO  CALD  RHOB\n",
              "DEPT                                               ...                            \n",
              "5994.0  82.4304  9.1583  8.6697   8.6378 -24.9283  ...   NaN NaN   NaN   NaN   NaN\n",
              "5994.5  80.1221  9.1626  8.6134   9.4136 -26.6600  ...   NaN NaN   NaN   NaN   NaN\n",
              "5995.0  77.1246  9.1152  8.4855  10.0892 -27.2562  ...   NaN NaN   NaN   NaN   NaN\n",
              "5995.5  76.2724  8.9201  8.3596  10.0951 -28.3344  ...   NaN NaN   NaN   NaN   NaN\n",
              "5996.0  77.7058  8.1558  8.1499   9.8005 -30.2277  ...   NaN NaN   NaN   NaN   NaN\n",
              "\n",
              "[5 rows x 13 columns]"
            ]
          },
          "metadata": {
            "tags": []
          },
          "execution_count": 10
        }
      ]
    },
    {
      "cell_type": "code",
      "metadata": {
        "colab": {
          "base_uri": "https://localhost:8080/"
        },
        "id": "8IHJMIbsgsfo",
        "outputId": "6a1594ed-2317-4e0c-8ddb-310b2c7e8ac5"
      },
      "source": [
        "cols_list = []\r\n",
        "for i in test_data.columns:\r\n",
        "    print(i)\r\n",
        "    if i in dataF.columns:\r\n",
        "        cols_list.append(i)\r\n",
        "\r\n",
        "\r\n",
        "d1 = dataF[cols_list]"
      ],
      "execution_count": 11,
      "outputs": [
        {
          "output_type": "stream",
          "text": [
            "GRR\n",
            "ILD\n",
            "ILM\n",
            "SFLU\n",
            "SPR\n",
            "CALR\n",
            "DTCO\n",
            "NPHI\n",
            "DPHI\n",
            "PE\n",
            "DRHO\n",
            "CALD\n",
            "RHOB\n"
          ],
          "name": "stdout"
        }
      ]
    },
    {
      "cell_type": "code",
      "metadata": {
        "colab": {
          "base_uri": "https://localhost:8080/"
        },
        "id": "71Iiwv1bg9zj",
        "outputId": "ccd0c410-7ad1-414e-e84a-65b7efe5e890"
      },
      "source": [
        "unit = 'OHMM'\r\n",
        "Wellloginfo = pd.read_csv(\"/content/wellloginfo/WellLogsInfo.csv\")\r\n",
        "unit_logs = pd.DataFrame()\r\n",
        "for i in range(Wellloginfo.shape[0]):\r\n",
        "    k = Wellloginfo.iloc[i, :]\r\n",
        "    if k[2] == unit and k[0] in d1.columns:\r\n",
        "        print(k[0])\r\n",
        "        unit_logs[k[0]] = d1[k[0]]\r\n",
        "\r\n",
        "\r\n",
        "print(unit_logs.info())\r\n",
        "print(unit_logs.corr())"
      ],
      "execution_count": 16,
      "outputs": [
        {
          "output_type": "stream",
          "text": [
            "ILD\n",
            "ILM\n",
            "SFLU\n",
            "<class 'pandas.core.frame.DataFrame'>\n",
            "Int64Index: 805987 entries, 24224 to 1528014\n",
            "Data columns (total 3 columns):\n",
            " #   Column  Non-Null Count   Dtype  \n",
            "---  ------  --------------   -----  \n",
            " 0   ILD     219895 non-null  float64\n",
            " 1   ILM     189581 non-null  float64\n",
            " 2   SFLU    202497 non-null  float64\n",
            "dtypes: float64(3)\n",
            "memory usage: 24.6 MB\n",
            "None\n",
            "           ILD       ILM      SFLU\n",
            "ILD   1.000000  0.652603  0.735762\n",
            "ILM   0.652603  1.000000  0.667817\n",
            "SFLU  0.735762  0.667817  1.000000\n"
          ],
          "name": "stdout"
        }
      ]
    },
    {
      "cell_type": "code",
      "metadata": {
        "id": "nAluP58Zg-oc"
      },
      "source": [
        "cols_list = ['SPR','DEPT']\r\n",
        "cols_list.append('DTSM')\r\n",
        "unit_logs = unit_logs[cols_list]\r\n",
        "cols_list.pop()\r\n",
        "Xtrain = unit_logs.dropna(thresh = 3)\r\n",
        "print(Xtrain.shape)"
      ],
      "execution_count": null,
      "outputs": []
    },
    {
      "cell_type": "code",
      "metadata": {
        "id": "PZI0tCrNiH3i"
      },
      "source": [
        "train_x, test_x, train_y, test_y = train_test_split(Xtrain[cols_list],Xtrain['DTSM'],test_size=0.3)\r\n",
        "xgb_r = xg.XGBRegressor(booster = 'gbtree', objective='reg:squarederror', n_estimators=500, max_depth = 6)\r\n",
        "xgb_r.fit(train_x,train_y)\r\n",
        "pred = xgb_r.predict(test_x)\r\n",
        "rmse = np.sqrt(MSE(test_y,pred))\r\n",
        "print(rmse)"
      ],
      "execution_count": null,
      "outputs": []
    },
    {
      "cell_type": "code",
      "metadata": {
        "id": "dkbume56iK2Q"
      },
      "source": [
        "pred_unit = xgb_r.predict(test_data[cols_list])"
      ],
      "execution_count": null,
      "outputs": []
    },
    {
      "cell_type": "code",
      "metadata": {
        "id": "DPB3cfjjig3a"
      },
      "source": [
        "final_pred = (pred_OHMM + pred_DEC + pred_GAPI + pred_USF + pred_IN + pred_)/6"
      ],
      "execution_count": null,
      "outputs": []
    }
  ]
}