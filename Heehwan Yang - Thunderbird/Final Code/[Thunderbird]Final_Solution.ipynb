{
  "nbformat": 4,
  "nbformat_minor": 0,
  "metadata": {
    "accelerator": "GPU",
    "colab": {
      "name": "[Thunderbird]Final_Solution",
      "provenance": [],
      "collapsed_sections": [],
      "toc_visible": true,
      "machine_shape": "hm"
    },
    "kernelspec": {
      "display_name": "Python 3",
      "name": "python3"
    }
  },
  "cells": [
    {
      "cell_type": "code",
      "metadata": {
        "colab": {
          "base_uri": "https://localhost:8080/"
        },
        "id": "LXsBOlWIfOTs",
        "outputId": "67304f75-508f-48a7-a0a0-6b2cbc6ebfae"
      },
      "source": [
        "%cd ..\r\n",
        "from google.colab import drive\r\n",
        "drive.mount('/content/gdrive')"
      ],
      "execution_count": null,
      "outputs": [
        {
          "output_type": "stream",
          "text": [
            "/\n",
            "Mounted at /content/gdrive\n"
          ],
          "name": "stdout"
        }
      ]
    },
    {
      "cell_type": "code",
      "metadata": {
        "id": "NWwTEHDafT7L"
      },
      "source": [
        "import numpy as np # linear algebra\r\n",
        "import pandas as pd # data processing, CSV file I/O (e.g. pd.read_csv)\r\n",
        "\r\n",
        "# Suppress warnings \r\n",
        "import warnings\r\n",
        "warnings.filterwarnings('ignore')\r\n",
        "\r\n",
        "import matplotlib\r\n",
        "import matplotlib.pyplot as plt\r\n",
        "import seaborn as sns\r\n",
        "\r\n",
        "from sklearn.preprocessing import LabelEncoder, StandardScaler, RobustScaler\r\n",
        "from sklearn.model_selection import KFold\r\n",
        "from sklearn.metrics import mean_squared_error\r\n",
        "from sklearn.decomposition import PCA\r\n",
        "from sklearn.cluster import KMeans\r\n",
        "from scipy.stats import norm #Analysis \r\n",
        "from scipy import stats #Analysis \r\n",
        "\r\n",
        "import xgboost as xgb\r\n",
        "import lightgbm as lgb\r\n",
        "\r\n",
        "# Set a few plotting defaults\r\n",
        "plt.style.use('ggplot')\r\n",
        "plt.rcParams['figure.figsize'] = (12, 8)\r\n",
        "plt.rcParams['font.size'] = 12\r\n",
        "\r\n",
        "pd.options.display.max_rows = 10000\r\n",
        "pd.options.display.max_columns = 10000\r\n",
        "pd.options.display.max_colwidth = 1000"
      ],
      "execution_count": null,
      "outputs": []
    },
    {
      "cell_type": "code",
      "metadata": {
        "id": "b_iLUl1ZkpG0"
      },
      "source": [
        "RANDOM_SEED = 42\r\n",
        "np.random.seed(RANDOM_SEED)"
      ],
      "execution_count": null,
      "outputs": []
    },
    {
      "cell_type": "code",
      "metadata": {
        "colab": {
          "base_uri": "https://localhost:8080/"
        },
        "id": "T3FeWR--faNy",
        "outputId": "018ebf5c-0824-4b48-a9ac-8da87dfcbeae"
      },
      "source": [
        "!ln -s /content/gdrive/My\\ Drive/ /mydrive\r\n",
        "!ls /mydrive"
      ],
      "execution_count": null,
      "outputs": [
        {
          "output_type": "stream",
          "text": [
            "'Colab Notebooks'\t        images.zip  'My Drive'\t yolov3\n",
            "'Copy of Train_YoloV3 .ipynb'   ML\t     train\t yolov4\n"
          ],
          "name": "stdout"
        }
      ]
    },
    {
      "cell_type": "code",
      "metadata": {
        "colab": {
          "base_uri": "https://localhost:8080/"
        },
        "id": "Huj3Sh99fb-J",
        "outputId": "0b12272f-6ca0-45ba-900d-d80bc77ef54b"
      },
      "source": [
        "!ls /mydrive/ML"
      ],
      "execution_count": null,
      "outputs": [
        {
          "output_type": "stream",
          "text": [
            " Blended2_Well_10.csv\t  Final_Well_9.csv\t     Well12.csv\n",
            " Blended2_Well_1.csv\t 'KNN 1 - TESSST.ipynb'      Well13.csv\n",
            " Blended2_Well_2.csv\t 'KNN 1 - Test.ipynb'\t     Well14.csv\n",
            " Blended2_Well_3.csv\t 'KNN 1 - Train.ipynb'\t     Well15.csv\n",
            " Blended2_Well_4.csv\t  knn_model1.pkl\t     Well16.csv\n",
            " Blended2_Well_5.csv\t  knn_model2.pkl\t     Well17.csv\n",
            " Blended2_Well_6.csv\t  knn_model4.pkl\t     Well18.csv\n",
            " Blended2_Well_7.csv\t  knn_model8.pkl\t     Well19.csv\n",
            " Blended2_Well_8.csv\t  knn_model.pkl\t\t     Well1.csv\n",
            " Blended2_Well_9.csv\t  knn_no_spr.pkl\t     Well1.las\n",
            " Blended_Well_10.csv\t  knn_scaler1.pkl\t     well1_result.csv\n",
            " Blended_Well_1.csv\t  knn_scaler2.pkl\t    'Well 20.csv'\n",
            " Blended_Well_2.csv\t  knn_scaler4.pkl\t     Well2.csv\n",
            " Blended_Well_3.csv\t  knn_scaler8.pkl\t     Well2.las\n",
            " Blended_Well_4.csv\t  knn_scaler.pkl\t     well2_result.csv\n",
            " Blended_Well_5.csv\t  LGBM.ipynb\t\t     Well3.csv\n",
            " Blended_Well_6.csv\t  ML-Challenge-Data.zip      Well3.las\n",
            " Blended_Well_7.csv\t  NaN_Well_10.csv\t     well3_result.csv\n",
            " Blended_Well_8.csv\t  NaN_Well_1.csv\t     Well4.csv\n",
            " Blended_Well_9.csv\t  NaN_Well_2.csv\t     Well4.las\n",
            " challenge-data.csv\t  NaN_Well_3.csv\t     well4_result.csv\n",
            " challenge-new-data.csv   NaN_Well_4.csv\t     Well5.csv\n",
            " Finalized_Well_1.csv\t  NaN_Well_5.csv\t     Well5.las\n",
            " Final_Well_10.csv\t  NaN_Well_6.csv\t     well5_result.csv\n",
            " Final_Well_11.csv\t  NaN_Well_7.csv\t     Well6.csv\n",
            " Final_Well_12.csv\t  NaN_Well_8.csv\t     Well6.las\n",
            " Final_Well_13.csv\t  NaN_Well_9.csv\t     well6_result.csv\n",
            " Final_Well_14.csv\t  Refined_KNN.csv\t     Well7.csv\n",
            " Final_Well_15.csv\t  refined_train.csv\t     Well7.las\n",
            " Final_Well_16.csv\t  Team.csv\t\t     well7_result.csv\n",
            " Final_Well_1.csv\t  Team_Name.xlsx\t     Well8.csv\n",
            " Final_Well_2.csv\t  The_first_regression.csv   Well8.las\n",
            " Final_Well_3.csv\t  train.csv\t\t     well8_result.csv\n",
            " Final_Well_4.csv\t  Well10.csv\t\t     Well9.csv\n",
            " Final_Well_6.csv\t  Well10.las\t\t     Well9.las\n",
            " Final_Well_7.csv\t  well10_result.csv\t     well9_result.csv\n",
            " Final_Well_8.csv\t  Well11.csv\n"
          ],
          "name": "stdout"
        }
      ]
    },
    {
      "cell_type": "code",
      "metadata": {
        "id": "I5jSr3yF8X7P"
      },
      "source": [
        "df = pd.read_csv('../content/gdrive/MyDrive/ML/challenge-new-data.csv')\r\n",
        "df2 = pd.read_csv('../content/gdrive/MyDrive/ML/eed1e9537976_TGS.csv')\r\n",
        "\r\n",
        "### Train Data ###\r\n",
        "\r\n",
        "# combining GRR, GRS, and GRD into GR\r\n",
        "df['GR'] = df['GRR']\r\n",
        "df['GR'] = df['GR'].combine_first(df['GRS'])\r\n",
        "df['GR'] = df['GR'].combine_first(df['GRD'])\r\n",
        "\r\n",
        "# combining NPHI, NPHI_LS, TNPH, and TNPH_LS into PHIN\r\n",
        "df['PHIN'] = df['NPHI']\r\n",
        "df['PHIN'] = df['PHIN'].combine_first(df['NPHI_LS'])\r\n",
        "df['PHIN'] = df['PHIN'].combine_first(df['TNPH'])\r\n",
        "df['PHIN'] = df['PHIN'].combine_first(df['TNPH_LS'])\r\n",
        "\r\n",
        "# combining DPHZ, DPHZ_LS, DPHI, and DPHI_LS into PHID\r\n",
        "df['PHID'] = df['DPHZ']\r\n",
        "df['PHID'] = df['PHID'].combine_first(df['DPHZ_LS'])\r\n",
        "df['PHID'] = df['PHID'].combine_first(df['DPHI'])\r\n",
        "df['PHID'] = df['PHID'].combine_first(df['DPHI_LS'])\r\n",
        "\r\n",
        "# creating new dataframe with the combined logs \r\n",
        "cleanlogdata = df[['DTSM', 'DTCO', 'GR', 'PHIN', 'PHID', 'RHOZ', 'PEFZ', 'SPR']]\r\n",
        "\r\n",
        "# removal of GR outlier (>200)\r\n",
        "refinedGR = cleanlogdata[(cleanlogdata['GR']<200)]\r\n",
        "\r\n",
        "# removal of PEFZ outlier (>5 ~ indicates barite contamination)\r\n",
        "refinedPEFZ = refinedGR[(refinedGR['PEFZ']<5)]\r\n",
        "refineddata = refinedPEFZ\r\n",
        "\r\n",
        "data_dp = refineddata.dropna(subset=['DTSM'],axis=0, how='any')\r\n",
        "train = data_dp[['DTSM','DTCO','GR','PHID','SPR','PEFZ','RHOZ']]\r\n",
        "\r\n",
        "\r\n",
        "### Test Data ###\r\n",
        "\r\n",
        "#available curves\r\n",
        "available = df2.columns.tolist()\r\n",
        "\r\n",
        "#curves we want\r\n",
        "log_list = ['DTCO', 'GRR', 'GRS', 'GRD', 'NPHI','NPHI_LS','NPOR_LS','TNPH','TNPH_LS','DPHZ','DPHZ_LS','DPHI','DPHI_LS','DPO_LS','RHOZ','PEF','PEFL','PEFZ','SPR']\r\n",
        "\r\n",
        "new_data = pd.DataFrame(columns=log_list)\r\n",
        "\r\n",
        "for i in log_list:\r\n",
        "  if i in available:\r\n",
        "    new_data[[i]] = df2[[i]]\r\n",
        "  else:\r\n",
        "    new_data[[i]] = np.nan\r\n",
        "new_data\r\n",
        "\r\n",
        "#combine curves \r\n",
        "new_data['GR'] = new_data['GRD']\r\n",
        "new_data['GR'] = new_data['GR'].combine_first(new_data['GRS']).combine_first(new_data['GRR'])\r\n",
        "new_data = new_data.drop(columns=['GRR', 'GRS', 'GRD'])\r\n",
        "\r\n",
        "new_data['PHIN'] = new_data['NPHI']\r\n",
        "new_data['PHIN'] = new_data['PHIN'].combine_first(new_data['NPHI_LS']).combine_first(new_data['TNPH']).combine_first(new_data['TNPH_LS']).combine_first(new_data['NPOR_LS'])\r\n",
        "new_data = new_data.drop(columns=['NPHI', 'NPHI_LS', 'TNPH', 'TNPH_LS','NPOR_LS'])\r\n",
        "\r\n",
        "new_data['PHID'] = new_data['DPHZ']\r\n",
        "new_data['PHID'] = new_data['PHID'].combine_first(new_data['DPHZ_LS']).combine_first(new_data['DPHI']).combine_first(new_data['DPHI_LS']).combine_first(new_data['DPO_LS'])\r\n",
        "new_data = new_data.drop(columns=['DPHZ', 'DPHZ_LS', 'DPHI', 'DPHI_LS','DPO_LS'])\r\n",
        "\r\n",
        "new_data['PEFZ'] = new_data['PEFZ'].combine_first(new_data['PEF']).combine_first(new_data['PEFL'])\r\n",
        "new_data = new_data.drop(columns=['PEF','PEFL'])\r\n",
        "\r\n",
        "# Test Data Variables\r\n",
        "new_data = new_data[['DTCO','GR','PHID','SPR','PEFZ','RHOZ']]\r\n",
        "\r\n",
        "test = new_data"
      ],
      "execution_count": null,
      "outputs": []
    },
    {
      "cell_type": "code",
      "metadata": {
        "id": "ABZPkoIV76wH"
      },
      "source": [
        "train = train.dropna(subset=['DTSM'])"
      ],
      "execution_count": null,
      "outputs": []
    },
    {
      "cell_type": "code",
      "metadata": {
        "colab": {
          "base_uri": "https://localhost:8080/"
        },
        "id": "927msbhE9yNy",
        "outputId": "51a7589f-02ea-47e9-b847-bbed8e4a614c"
      },
      "source": [
        "train.isnull().sum()"
      ],
      "execution_count": null,
      "outputs": [
        {
          "output_type": "execute_result",
          "data": {
            "text/plain": [
              "DTSM         0\n",
              "DTCO     10091\n",
              "GR           0\n",
              "PHID     24595\n",
              "SPR     212217\n",
              "PEFZ         0\n",
              "RHOZ     18646\n",
              "dtype: int64"
            ]
          },
          "metadata": {
            "tags": []
          },
          "execution_count": 8
        }
      ]
    },
    {
      "cell_type": "code",
      "metadata": {
        "colab": {
          "base_uri": "https://localhost:8080/"
        },
        "id": "TsFjcmqOVugw",
        "outputId": "b6d40fbe-0916-4380-e58b-00fb2e84c7d1"
      },
      "source": [
        "#descriptive statistics summary\r\n",
        "train['DTSM'].describe()"
      ],
      "execution_count": null,
      "outputs": [
        {
          "output_type": "execute_result",
          "data": {
            "text/plain": [
              "count    344730.000000\n",
              "mean        120.753573\n",
              "std          31.096581\n",
              "min          21.645800\n",
              "25%          99.516800\n",
              "50%         114.322700\n",
              "75%         134.920300\n",
              "max         414.580100\n",
              "Name: DTSM, dtype: float64"
            ]
          },
          "metadata": {
            "tags": []
          },
          "execution_count": 9
        }
      ]
    },
    {
      "cell_type": "code",
      "metadata": {
        "colab": {
          "base_uri": "https://localhost:8080/",
          "height": 412
        },
        "id": "fZe1UABiLfQH",
        "outputId": "a5a60c01-982c-4fdd-9a54-200c404db5a8"
      },
      "source": [
        "#histogram\r\n",
        "f, ax = plt.subplots(figsize=(8, 6))\r\n",
        "sns.distplot(train['DTSM'])"
      ],
      "execution_count": null,
      "outputs": [
        {
          "output_type": "execute_result",
          "data": {
            "text/plain": [
              "<matplotlib.axes._subplots.AxesSubplot at 0x7f530ba80590>"
            ]
          },
          "metadata": {
            "tags": []
          },
          "execution_count": 10
        },
        {
          "output_type": "display_data",
          "data": {
            "image/png": "[encoded data removed]",
            "text/plain": [
              "<Figure size 576x432 with 1 Axes>"
            ]
          },
          "metadata": {
            "tags": []
          }
        }
      ]
    },
    {
      "cell_type": "code",
      "metadata": {
        "colab": {
          "base_uri": "https://localhost:8080/"
        },
        "id": "Ztsesq4HWJ5D",
        "outputId": "67b72783-a010-42f0-9169-63764984df72"
      },
      "source": [
        "#skewness and kurtosis\r\n",
        "print(\"Skewness: %f\" % train['DTSM'].skew())\r\n",
        "print(\"Kurtosis: %f\" % train['DTSM'].kurt())"
      ],
      "execution_count": null,
      "outputs": [
        {
          "output_type": "stream",
          "text": [
            "Skewness: 1.690593\n",
            "Kurtosis: 5.806357\n"
          ],
          "name": "stdout"
        }
      ]
    },
    {
      "cell_type": "code",
      "metadata": {
        "colab": {
          "base_uri": "https://localhost:8080/",
          "height": 633
        },
        "id": "BKJD_FGbWKAH",
        "outputId": "4e88ddf6-6882-49b1-c4e1-a06b0b5c45cb"
      },
      "source": [
        "fig = plt.figure(figsize = (15,10))\r\n",
        "\r\n",
        "fig.add_subplot(1,2,1)\r\n",
        "res = stats.probplot(train['DTSM'], plot=plt)\r\n",
        "\r\n",
        "fig.add_subplot(1,2,2)\r\n",
        "res = stats.probplot(np.log1p(train['DTSM']), plot=plt)"
      ],
      "execution_count": null,
      "outputs": [
        {
          "output_type": "display_data",
          "data": {
            "image/png": "[encoded data removed]",
            "text/plain": [
              "<Figure size 1080x720 with 2 Axes>"
            ]
          },
          "metadata": {
            "tags": []
          }
        }
      ]
    },
    {
      "cell_type": "code",
      "metadata": {
        "colab": {
          "base_uri": "https://localhost:8080/",
          "height": 412
        },
        "id": "SmAtyxUbWKDP",
        "outputId": "e8610db1-3814-4c24-8574-d4c287cf7548"
      },
      "source": [
        "train['DTSM'] = np.log1p(train['DTSM'])\r\n",
        "#histogram\r\n",
        "f, ax = plt.subplots(figsize=(8, 6))\r\n",
        "sns.distplot(train['DTSM'])"
      ],
      "execution_count": null,
      "outputs": [
        {
          "output_type": "execute_result",
          "data": {
            "text/plain": [
              "<matplotlib.axes._subplots.AxesSubplot at 0x7f5300ab1d90>"
            ]
          },
          "metadata": {
            "tags": []
          },
          "execution_count": 13
        },
        {
          "output_type": "display_data",
          "data": {
            "image/png": "[encoded data removed]",
            "text/plain": [
              "<Figure size 576x432 with 1 Axes>"
            ]
          },
          "metadata": {
            "tags": []
          }
        }
      ]
    },
    {
      "cell_type": "code",
      "metadata": {
        "colab": {
          "base_uri": "https://localhost:8080/"
        },
        "id": "eVuIWjlLWKF1",
        "outputId": "b0b70eea-0296-43f2-9d4f-4c50e39a5b4b"
      },
      "source": [
        "#skewness and kurtosis\r\n",
        "print(\"Skewness: %f\" % train['DTSM'].skew())\r\n",
        "print(\"Kurtosis: %f\" % train['DTSM'].kurt())"
      ],
      "execution_count": null,
      "outputs": [
        {
          "output_type": "stream",
          "text": [
            "Skewness: 0.122027\n",
            "Kurtosis: 3.646064\n"
          ],
          "name": "stdout"
        }
      ]
    },
    {
      "cell_type": "code",
      "metadata": {
        "colab": {
          "base_uri": "https://localhost:8080/",
          "height": 491
        },
        "id": "iufk36RlWKIK",
        "outputId": "42dffe05-13cc-4f07-fe01-14cf148ac862"
      },
      "source": [
        "sns.heatmap(train.corr(),annot=True,cmap='RdYlGn',linewidths=0.2) #data.corr()-->correlation matrix\r\n",
        "fig=plt.gcf()\r\n",
        "fig.set_size_inches(8,8)\r\n",
        "plt.show()"
      ],
      "execution_count": null,
      "outputs": [
        {
          "output_type": "display_data",
          "data": {
            "image/png": "[encoded data removed]",
            "text/plain": [
              "<Figure size 576x576 with 2 Axes>"
            ]
          },
          "metadata": {
            "tags": []
          }
        }
      ]
    },
    {
      "cell_type": "code",
      "metadata": {
        "colab": {
          "base_uri": "https://localhost:8080/",
          "height": 542
        },
        "id": "5TA5Z4roYxDt",
        "outputId": "e83925bc-83b0-4f39-f8cd-7cb42cd0ba7a"
      },
      "source": [
        "from plotly import tools\r\n",
        "import plotly.offline as py\r\n",
        "py.init_notebook_mode(connected=True)\r\n",
        "import plotly.graph_objs as go\r\n",
        "\r\n",
        "from sklearn import model_selection, preprocessing, metrics, ensemble, naive_bayes, linear_model\r\n",
        "from sklearn.feature_extraction.text import TfidfVectorizer, CountVectorizer\r\n",
        "from sklearn.decomposition import TruncatedSVD\r\n",
        "\r\n",
        "pd.options.mode.chained_assignment = None\r\n",
        "pd.options.display.max_columns = 999\r\n",
        "\r\n",
        "import plotly.graph_objs as go\r\n",
        "\r\n",
        "import time\r\n",
        "import random\r\n",
        "\r\n",
        "#https://www.kaggle.com/ashishpatel26/bird-eye-view-of-two-sigma-nn-approach\r\n",
        "def mis_value_graph(data):  \r\n",
        "    data = [\r\n",
        "    go.Bar(\r\n",
        "        x = data.columns,\r\n",
        "        y = data.isnull().sum(),\r\n",
        "        name = 'Counts of Missing value',\r\n",
        "        textfont=dict(size=20),\r\n",
        "        marker=dict(\r\n",
        "        line=dict(\r\n",
        "            color= generate_color(),\r\n",
        "            #width= 2,\r\n",
        "        ), opacity = 0.45\r\n",
        "    )\r\n",
        "    ),\r\n",
        "    ]\r\n",
        "    layout= go.Layout(\r\n",
        "        title= '\"Total Missing Value By Column\"',\r\n",
        "        xaxis= dict(title='Columns', ticklen=5, zeroline=False, gridwidth=2),\r\n",
        "        yaxis= dict(title='Value Count', ticklen=5, gridwidth=2),\r\n",
        "        showlegend=True\r\n",
        "    )\r\n",
        "    fig = go.Figure(data=data, layout=layout)\r\n",
        "    py.iplot(fig, filename='skin')\r\n",
        "    \r\n",
        "def generate_color():\r\n",
        "    color = '#{:02x}{:02x}{:02x}'.format(*map(lambda x: random.randint(0, 255), range(3)))\r\n",
        "    return color\r\n",
        "\r\n",
        "df_all = pd.concat([train,test])\r\n",
        "del df_all['DTSM']\r\n",
        "mis_value_graph(df_all)"
      ],
      "execution_count": null,
      "outputs": [
        {
          "output_type": "display_data",
          "data": {
            "text/html": [
              "        <script type=\"text/javascript\">\n",
              "        window.PlotlyConfig = {MathJaxConfig: 'local'};\n",
              "        if (window.MathJax) {MathJax.Hub.Config({SVG: {font: \"STIX-Web\"}});}\n",
              "        if (typeof require !== 'undefined') {\n",
              "        require.undef(\"plotly\");\n",
              "        requirejs.config({\n",
              "            paths: {\n",
              "                'plotly': ['https://cdn.plot.ly/plotly-latest.min']\n",
              "            }\n",
              "        });\n",
              "        require(['plotly'], function(Plotly) {\n",
              "            window._Plotly = Plotly;\n",
              "        });\n",
              "        }\n",
              "        </script>\n",
              "        "
            ]
          },
          "metadata": {
            "tags": []
          }
        },
        {
          "output_type": "display_data",
          "data": {
            "text/html": [
              "<div>\n",
              "        \n",
              "        \n",
              "            <div id=\"a8a6d856-b1aa-456b-b9ee-52719856f949\" class=\"plotly-graph-div\" style=\"height:525px; width:100%;\"></div>\n",
              "            <script type=\"text/javascript\">\n",
              "                require([\"plotly\"], function(Plotly) {\n",
              "                    window.PLOTLYENV=window.PLOTLYENV || {};\n",
              "                    \n",
              "                if (document.getElementById(\"a8a6d856-b1aa-456b-b9ee-52719856f949\")) {\n",
              "                    Plotly.newPlot(\n",
              "                        'a8a6d856-b1aa-456b-b9ee-52719856f949',\n",
              "                        [{\"marker\": {\"line\": {\"color\": \"#271a16\"}, \"opacity\": 0.45}, \"name\": \"Counts of Missing value\", \"textfont\": {\"size\": 20}, \"type\": \"bar\", \"x\": [\"DTCO\", \"GR\", \"PHID\", \"SPR\", \"PEFZ\", \"RHOZ\"], \"y\": [10091, 28, 24595, 212217, 0, 18646]}],\n",
              "                        {\"showlegend\": true, \"template\": {\"data\": {\"bar\": [{\"error_x\": {\"color\": \"#2a3f5f\"}, \"error_y\": {\"color\": \"#2a3f5f\"}, \"marker\": {\"line\": {\"color\": \"#E5ECF6\", \"width\": 0.5}}, \"type\": \"bar\"}], \"barpolar\": [{\"marker\": {\"line\": {\"color\": \"#E5ECF6\", \"width\": 0.5}}, \"type\": \"barpolar\"}], \"carpet\": [{\"aaxis\": {\"endlinecolor\": \"#2a3f5f\", \"gridcolor\": \"white\", \"linecolor\": \"white\", \"minorgridcolor\": \"white\", \"startlinecolor\": \"#2a3f5f\"}, \"baxis\": {\"endlinecolor\": \"#2a3f5f\", \"gridcolor\": \"white\", \"linecolor\": \"white\", \"minorgridcolor\": \"white\", \"startlinecolor\": \"#2a3f5f\"}, \"type\": \"carpet\"}], \"choropleth\": [{\"colorbar\": {\"outlinewidth\": 0, \"ticks\": \"\"}, \"type\": \"choropleth\"}], \"contour\": [{\"colorbar\": {\"outlinewidth\": 0, \"ticks\": \"\"}, \"colorscale\": [[0.0, \"#0d0887\"], [0.1111111111111111, \"#46039f\"], [0.2222222222222222, \"#7201a8\"], [0.3333333333333333, \"#9c179e\"], [0.4444444444444444, \"#bd3786\"], [0.5555555555555556, \"#d8576b\"], [0.6666666666666666, \"#ed7953\"], [0.7777777777777778, \"#fb9f3a\"], [0.8888888888888888, \"#fdca26\"], [1.0, \"#f0f921\"]], \"type\": \"contour\"}], \"contourcarpet\": [{\"colorbar\": {\"outlinewidth\": 0, \"ticks\": \"\"}, \"type\": \"contourcarpet\"}], \"heatmap\": [{\"colorbar\": {\"outlinewidth\": 0, \"ticks\": \"\"}, \"colorscale\": [[0.0, \"#0d0887\"], [0.1111111111111111, \"#46039f\"], [0.2222222222222222, \"#7201a8\"], [0.3333333333333333, \"#9c179e\"], [0.4444444444444444, \"#bd3786\"], [0.5555555555555556, \"#d8576b\"], [0.6666666666666666, \"#ed7953\"], [0.7777777777777778, \"#fb9f3a\"], [0.8888888888888888, \"#fdca26\"], [1.0, \"#f0f921\"]], \"type\": \"heatmap\"}], \"heatmapgl\": [{\"colorbar\": {\"outlinewidth\": 0, \"ticks\": \"\"}, \"colorscale\": [[0.0, \"#0d0887\"], [0.1111111111111111, \"#46039f\"], [0.2222222222222222, \"#7201a8\"], [0.3333333333333333, \"#9c179e\"], [0.4444444444444444, \"#bd3786\"], [0.5555555555555556, \"#d8576b\"], [0.6666666666666666, \"#ed7953\"], [0.7777777777777778, \"#fb9f3a\"], [0.8888888888888888, \"#fdca26\"], [1.0, \"#f0f921\"]], \"type\": \"heatmapgl\"}], \"histogram\": [{\"marker\": {\"colorbar\": {\"outlinewidth\": 0, \"ticks\": \"\"}}, \"type\": \"histogram\"}], \"histogram2d\": [{\"colorbar\": {\"outlinewidth\": 0, \"ticks\": \"\"}, \"colorscale\": [[0.0, \"#0d0887\"], [0.1111111111111111, \"#46039f\"], [0.2222222222222222, \"#7201a8\"], [0.3333333333333333, \"#9c179e\"], [0.4444444444444444, \"#bd3786\"], [0.5555555555555556, \"#d8576b\"], [0.6666666666666666, \"#ed7953\"], [0.7777777777777778, \"#fb9f3a\"], [0.8888888888888888, \"#fdca26\"], [1.0, \"#f0f921\"]], \"type\": \"histogram2d\"}], \"histogram2dcontour\": [{\"colorbar\": {\"outlinewidth\": 0, \"ticks\": \"\"}, \"colorscale\": [[0.0, \"#0d0887\"], [0.1111111111111111, \"#46039f\"], [0.2222222222222222, \"#7201a8\"], [0.3333333333333333, \"#9c179e\"], [0.4444444444444444, \"#bd3786\"], [0.5555555555555556, \"#d8576b\"], [0.6666666666666666, \"#ed7953\"], [0.7777777777777778, \"#fb9f3a\"], [0.8888888888888888, \"#fdca26\"], [1.0, \"#f0f921\"]], \"type\": \"histogram2dcontour\"}], \"mesh3d\": [{\"colorbar\": {\"outlinewidth\": 0, \"ticks\": \"\"}, \"type\": \"mesh3d\"}], \"parcoords\": [{\"line\": {\"colorbar\": {\"outlinewidth\": 0, \"ticks\": \"\"}}, \"type\": \"parcoords\"}], \"pie\": [{\"automargin\": true, \"type\": \"pie\"}], \"scatter\": [{\"marker\": {\"colorbar\": {\"outlinewidth\": 0, \"ticks\": \"\"}}, \"type\": \"scatter\"}], \"scatter3d\": [{\"line\": {\"colorbar\": {\"outlinewidth\": 0, \"ticks\": \"\"}}, \"marker\": {\"colorbar\": {\"outlinewidth\": 0, \"ticks\": \"\"}}, \"type\": \"scatter3d\"}], \"scattercarpet\": [{\"marker\": {\"colorbar\": {\"outlinewidth\": 0, \"ticks\": \"\"}}, \"type\": \"scattercarpet\"}], \"scattergeo\": [{\"marker\": {\"colorbar\": {\"outlinewidth\": 0, \"ticks\": \"\"}}, \"type\": \"scattergeo\"}], \"scattergl\": [{\"marker\": {\"colorbar\": {\"outlinewidth\": 0, \"ticks\": \"\"}}, \"type\": \"scattergl\"}], \"scattermapbox\": [{\"marker\": {\"colorbar\": {\"outlinewidth\": 0, \"ticks\": \"\"}}, \"type\": \"scattermapbox\"}], \"scatterpolar\": [{\"marker\": {\"colorbar\": {\"outlinewidth\": 0, \"ticks\": \"\"}}, \"type\": \"scatterpolar\"}], \"scatterpolargl\": [{\"marker\": {\"colorbar\": {\"outlinewidth\": 0, \"ticks\": \"\"}}, \"type\": \"scatterpolargl\"}], \"scatterternary\": [{\"marker\": {\"colorbar\": {\"outlinewidth\": 0, \"ticks\": \"\"}}, \"type\": \"scatterternary\"}], \"surface\": [{\"colorbar\": {\"outlinewidth\": 0, \"ticks\": \"\"}, \"colorscale\": [[0.0, \"#0d0887\"], [0.1111111111111111, \"#46039f\"], [0.2222222222222222, \"#7201a8\"], [0.3333333333333333, \"#9c179e\"], [0.4444444444444444, \"#bd3786\"], [0.5555555555555556, \"#d8576b\"], [0.6666666666666666, \"#ed7953\"], [0.7777777777777778, \"#fb9f3a\"], [0.8888888888888888, \"#fdca26\"], [1.0, \"#f0f921\"]], \"type\": \"surface\"}], \"table\": [{\"cells\": {\"fill\": {\"color\": \"#EBF0F8\"}, \"line\": {\"color\": \"white\"}}, \"header\": {\"fill\": {\"color\": \"#C8D4E3\"}, \"line\": {\"color\": \"white\"}}, \"type\": \"table\"}]}, \"layout\": {\"annotationdefaults\": {\"arrowcolor\": \"#2a3f5f\", \"arrowhead\": 0, \"arrowwidth\": 1}, \"coloraxis\": {\"colorbar\": {\"outlinewidth\": 0, \"ticks\": \"\"}}, \"colorscale\": {\"diverging\": [[0, \"#8e0152\"], [0.1, \"#c51b7d\"], [0.2, \"#de77ae\"], [0.3, \"#f1b6da\"], [0.4, \"#fde0ef\"], [0.5, \"#f7f7f7\"], [0.6, \"#e6f5d0\"], [0.7, \"#b8e186\"], [0.8, \"#7fbc41\"], [0.9, \"#4d9221\"], [1, \"#276419\"]], \"sequential\": [[0.0, \"#0d0887\"], [0.1111111111111111, \"#46039f\"], [0.2222222222222222, \"#7201a8\"], [0.3333333333333333, \"#9c179e\"], [0.4444444444444444, \"#bd3786\"], [0.5555555555555556, \"#d8576b\"], [0.6666666666666666, \"#ed7953\"], [0.7777777777777778, \"#fb9f3a\"], [0.8888888888888888, \"#fdca26\"], [1.0, \"#f0f921\"]], \"sequentialminus\": [[0.0, \"#0d0887\"], [0.1111111111111111, \"#46039f\"], [0.2222222222222222, \"#7201a8\"], [0.3333333333333333, \"#9c179e\"], [0.4444444444444444, \"#bd3786\"], [0.5555555555555556, \"#d8576b\"], [0.6666666666666666, \"#ed7953\"], [0.7777777777777778, \"#fb9f3a\"], [0.8888888888888888, \"#fdca26\"], [1.0, \"#f0f921\"]]}, \"colorway\": [\"#636efa\", \"#EF553B\", \"#00cc96\", \"#ab63fa\", \"#FFA15A\", \"#19d3f3\", \"#FF6692\", \"#B6E880\", \"#FF97FF\", \"#FECB52\"], \"font\": {\"color\": \"#2a3f5f\"}, \"geo\": {\"bgcolor\": \"white\", \"lakecolor\": \"white\", \"landcolor\": \"#E5ECF6\", \"showlakes\": true, \"showland\": true, \"subunitcolor\": \"white\"}, \"hoverlabel\": {\"align\": \"left\"}, \"hovermode\": \"closest\", \"mapbox\": {\"style\": \"light\"}, \"paper_bgcolor\": \"white\", \"plot_bgcolor\": \"#E5ECF6\", \"polar\": {\"angularaxis\": {\"gridcolor\": \"white\", \"linecolor\": \"white\", \"ticks\": \"\"}, \"bgcolor\": \"#E5ECF6\", \"radialaxis\": {\"gridcolor\": \"white\", \"linecolor\": \"white\", \"ticks\": \"\"}}, \"scene\": {\"xaxis\": {\"backgroundcolor\": \"#E5ECF6\", \"gridcolor\": \"white\", \"gridwidth\": 2, \"linecolor\": \"white\", \"showbackground\": true, \"ticks\": \"\", \"zerolinecolor\": \"white\"}, \"yaxis\": {\"backgroundcolor\": \"#E5ECF6\", \"gridcolor\": \"white\", \"gridwidth\": 2, \"linecolor\": \"white\", \"showbackground\": true, \"ticks\": \"\", \"zerolinecolor\": \"white\"}, \"zaxis\": {\"backgroundcolor\": \"#E5ECF6\", \"gridcolor\": \"white\", \"gridwidth\": 2, \"linecolor\": \"white\", \"showbackground\": true, \"ticks\": \"\", \"zerolinecolor\": \"white\"}}, \"shapedefaults\": {\"line\": {\"color\": \"#2a3f5f\"}}, \"ternary\": {\"aaxis\": {\"gridcolor\": \"white\", \"linecolor\": \"white\", \"ticks\": \"\"}, \"baxis\": {\"gridcolor\": \"white\", \"linecolor\": \"white\", \"ticks\": \"\"}, \"bgcolor\": \"#E5ECF6\", \"caxis\": {\"gridcolor\": \"white\", \"linecolor\": \"white\", \"ticks\": \"\"}}, \"title\": {\"x\": 0.05}, \"xaxis\": {\"automargin\": true, \"gridcolor\": \"white\", \"linecolor\": \"white\", \"ticks\": \"\", \"title\": {\"standoff\": 15}, \"zerolinecolor\": \"white\", \"zerolinewidth\": 2}, \"yaxis\": {\"automargin\": true, \"gridcolor\": \"white\", \"linecolor\": \"white\", \"ticks\": \"\", \"title\": {\"standoff\": 15}, \"zerolinecolor\": \"white\", \"zerolinewidth\": 2}}}, \"title\": {\"text\": \"\\\"Total Missing Value By Column\\\"\"}, \"xaxis\": {\"gridwidth\": 2, \"ticklen\": 5, \"title\": {\"text\": \"Columns\"}, \"zeroline\": false}, \"yaxis\": {\"gridwidth\": 2, \"ticklen\": 5, \"title\": {\"text\": \"Value Count\"}}},\n",
              "                        {\"responsive\": true}\n",
              "                    ).then(function(){\n",
              "                            \n",
              "var gd = document.getElementById('a8a6d856-b1aa-456b-b9ee-52719856f949');\n",
              "var x = new MutationObserver(function (mutations, observer) {{\n",
              "        var display = window.getComputedStyle(gd).display;\n",
              "        if (!display || display === 'none') {{\n",
              "            console.log([gd, 'removed!']);\n",
              "            Plotly.purge(gd);\n",
              "            observer.disconnect();\n",
              "        }}\n",
              "}});\n",
              "\n",
              "// Listen for the removal of the full notebook cells\n",
              "var notebookContainer = gd.closest('#notebook-container');\n",
              "if (notebookContainer) {{\n",
              "    x.observe(notebookContainer, {childList: true});\n",
              "}}\n",
              "\n",
              "// Listen for the clearing of the current output cell\n",
              "var outputEl = gd.closest('.output');\n",
              "if (outputEl) {{\n",
              "    x.observe(outputEl, {childList: true});\n",
              "}}\n",
              "\n",
              "                        })\n",
              "                };\n",
              "                });\n",
              "            </script>\n",
              "        </div>"
            ],
            "application/vnd.plotly.v1+json": {
              "data": [
                {
                  "textfont": {
                    "size": 20
                  },
                  "name": "Counts of Missing value",
                  "y": [
                    10091,
                    28,
                    24595,
                    212217,
                    0,
                    18646
                  ],
                  "marker": {
                    "opacity": 0.45,
                    "line": {
                      "color": "#271a16"
                    }
                  },
                  "x": [
                    "DTCO",
                    "GR",
                    "PHID",
                    "SPR",
                    "PEFZ",
                    "RHOZ"
                  ],
                  "type": "bar"
                }
              ],
              "config": {
                "plotlyServerURL": "https://plot.ly",
                "linkText": "Export to plot.ly",
                "showLink": false
              },
              "layout": {
                "showlegend": true,
                "yaxis": {
                  "ticklen": 5,
                  "gridwidth": 2,
                  "title": {
                    "text": "Value Count"
                  }
                },
                "xaxis": {
                  "zeroline": false,
                  "ticklen": 5,
                  "gridwidth": 2,
                  "title": {
                    "text": "Columns"
                  }
                },
                "template": {
                  "layout": {
                    "shapedefaults": {
                      "line": {
                        "color": "#2a3f5f"
                      }
                    },
                    "polar": {
                      "radialaxis": {
                        "ticks": "",
                        "gridcolor": "white",
                        "linecolor": "white"
                      },
                      "bgcolor": "#E5ECF6",
                      "angularaxis": {
                        "ticks": "",
                        "gridcolor": "white",
                        "linecolor": "white"
                      }
                    },
                    "colorway": [
                      "#636efa",
                      "#EF553B",
                      "#00cc96",
                      "#ab63fa",
                      "#FFA15A",
                      "#19d3f3",
                      "#FF6692",
                      "#B6E880",
                      "#FF97FF",
                      "#FECB52"
                    ],
                    "xaxis": {
                      "automargin": true,
                      "title": {
                        "standoff": 15
                      },
                      "zerolinewidth": 2,
                      "ticks": "",
                      "zerolinecolor": "white",
                      "gridcolor": "white",
                      "linecolor": "white"
                    },
                    "colorscale": {
                      "diverging": [
                        [
                          0,
                          "#8e0152"
                        ],
                        [
                          0.1,
                          "#c51b7d"
                        ],
                        [
                          0.2,
                          "#de77ae"
                        ],
                        [
                          0.3,
                          "#f1b6da"
                        ],
                        [
                          0.4,
                          "#fde0ef"
                        ],
                        [
                          0.5,
                          "#f7f7f7"
                        ],
                        [
                          0.6,
                          "#e6f5d0"
                        ],
                        [
                          0.7,
                          "#b8e186"
                        ],
                        [
                          0.8,
                          "#7fbc41"
                        ],
                        [
                          0.9,
                          "#4d9221"
                        ],
                        [
                          1,
                          "#276419"
                        ]
                      ],
                      "sequential": [
                        [
                          0,
                          "#0d0887"
                        ],
                        [
                          0.1111111111111111,
                          "#46039f"
                        ],
                        [
                          0.2222222222222222,
                          "#7201a8"
                        ],
                        [
                          0.3333333333333333,
                          "#9c179e"
                        ],
                        [
                          0.4444444444444444,
                          "#bd3786"
                        ],
                        [
                          0.5555555555555556,
                          "#d8576b"
                        ],
                        [
                          0.6666666666666666,
                          "#ed7953"
                        ],
                        [
                          0.7777777777777778,
                          "#fb9f3a"
                        ],
                        [
                          0.8888888888888888,
                          "#fdca26"
                        ],
                        [
                          1,
                          "#f0f921"
                        ]
                      ],
                      "sequentialminus": [
                        [
                          0,
                          "#0d0887"
                        ],
                        [
                          0.1111111111111111,
                          "#46039f"
                        ],
                        [
                          0.2222222222222222,
                          "#7201a8"
                        ],
                        [
                          0.3333333333333333,
                          "#9c179e"
                        ],
                        [
                          0.4444444444444444,
                          "#bd3786"
                        ],
                        [
                          0.5555555555555556,
                          "#d8576b"
                        ],
                        [
                          0.6666666666666666,
                          "#ed7953"
                        ],
                        [
                          0.7777777777777778,
                          "#fb9f3a"
                        ],
                        [
                          0.8888888888888888,
                          "#fdca26"
                        ],
                        [
                          1,
                          "#f0f921"
                        ]
                      ]
                    },
                    "paper_bgcolor": "white",
                    "plot_bgcolor": "#E5ECF6",
                    "title": {
                      "x": 0.05
                    },
                    "scene": {
                      "zaxis": {
                        "backgroundcolor": "#E5ECF6",
                        "ticks": "",
                        "gridwidth": 2,
                        "showbackground": true,
                        "zerolinecolor": "white",
                        "gridcolor": "white",
                        "linecolor": "white"
                      },
                      "xaxis": {
                        "backgroundcolor": "#E5ECF6",
                        "ticks": "",
                        "gridwidth": 2,
                        "showbackground": true,
                        "zerolinecolor": "white",
                        "gridcolor": "white",
                        "linecolor": "white"
                      },
                      "yaxis": {
                        "backgroundcolor": "#E5ECF6",
                        "ticks": "",
                        "gridwidth": 2,
                        "showbackground": true,
                        "zerolinecolor": "white",
                        "gridcolor": "white",
                        "linecolor": "white"
                      }
                    },
                    "yaxis": {
                      "automargin": true,
                      "title": {
                        "standoff": 15
                      },
                      "zerolinewidth": 2,
                      "ticks": "",
                      "zerolinecolor": "white",
                      "gridcolor": "white",
                      "linecolor": "white"
                    },
                    "annotationdefaults": {
                      "arrowwidth": 1,
                      "arrowhead": 0,
                      "arrowcolor": "#2a3f5f"
                    },
                    "hoverlabel": {
                      "align": "left"
                    },
                    "ternary": {
                      "bgcolor": "#E5ECF6",
                      "baxis": {
                        "ticks": "",
                        "gridcolor": "white",
                        "linecolor": "white"
                      },
                      "caxis": {
                        "ticks": "",
                        "gridcolor": "white",
                        "linecolor": "white"
                      },
                      "aaxis": {
                        "ticks": "",
                        "gridcolor": "white",
                        "linecolor": "white"
                      }
                    },
                    "mapbox": {
                      "style": "light"
                    },
                    "hovermode": "closest",
                    "font": {
                      "color": "#2a3f5f"
                    },
                    "geo": {
                      "showland": true,
                      "landcolor": "#E5ECF6",
                      "showlakes": true,
                      "bgcolor": "white",
                      "subunitcolor": "white",
                      "lakecolor": "white"
                    },
                    "coloraxis": {
                      "colorbar": {
                        "outlinewidth": 0,
                        "ticks": ""
                      }
                    }
                  },
                  "data": {
                    "mesh3d": [
                      {
                        "colorbar": {
                          "outlinewidth": 0,
                          "ticks": ""
                        },
                        "type": "mesh3d"
                      }
                    ],
                    "scattercarpet": [
                      {
                        "marker": {
                          "colorbar": {
                            "outlinewidth": 0,
                            "ticks": ""
                          }
                        },
                        "type": "scattercarpet"
                      }
                    ],
                    "pie": [
                      {
                        "automargin": true,
                        "type": "pie"
                      }
                    ],
                    "surface": [
                      {
                        "colorbar": {
                          "outlinewidth": 0,
                          "ticks": ""
                        },
                        "type": "surface",
                        "colorscale": [
                          [
                            0,
                            "#0d0887"
                          ],
                          [
                            0.1111111111111111,
                            "#46039f"
                          ],
                          [
                            0.2222222222222222,
                            "#7201a8"
                          ],
                          [
                            0.3333333333333333,
                            "#9c179e"
                          ],
                          [
                            0.4444444444444444,
                            "#bd3786"
                          ],
                          [
                            0.5555555555555556,
                            "#d8576b"
                          ],
                          [
                            0.6666666666666666,
                            "#ed7953"
                          ],
                          [
                            0.7777777777777778,
                            "#fb9f3a"
                          ],
                          [
                            0.8888888888888888,
                            "#fdca26"
                          ],
                          [
                            1,
                            "#f0f921"
                          ]
                        ]
                      }
                    ],
                    "table": [
                      {
                        "header": {
                          "line": {
                            "color": "white"
                          },
                          "fill": {
                            "color": "#C8D4E3"
                          }
                        },
                        "cells": {
                          "line": {
                            "color": "white"
                          },
                          "fill": {
                            "color": "#EBF0F8"
                          }
                        },
                        "type": "table"
                      }
                    ],
                    "scatterpolargl": [
                      {
                        "marker": {
                          "colorbar": {
                            "outlinewidth": 0,
                            "ticks": ""
                          }
                        },
                        "type": "scatterpolargl"
                      }
                    ],
                    "contour": [
                      {
                        "colorbar": {
                          "outlinewidth": 0,
                          "ticks": ""
                        },
                        "type": "contour",
                        "colorscale": [
                          [
                            0,
                            "#0d0887"
                          ],
                          [
                            0.1111111111111111,
                            "#46039f"
                          ],
                          [
                            0.2222222222222222,
                            "#7201a8"
                          ],
                          [
                            0.3333333333333333,
                            "#9c179e"
                          ],
                          [
                            0.4444444444444444,
                            "#bd3786"
                          ],
                          [
                            0.5555555555555556,
                            "#d8576b"
                          ],
                          [
                            0.6666666666666666,
                            "#ed7953"
                          ],
                          [
                            0.7777777777777778,
                            "#fb9f3a"
                          ],
                          [
                            0.8888888888888888,
                            "#fdca26"
                          ],
                          [
                            1,
                            "#f0f921"
                          ]
                        ]
                      }
                    ],
                    "carpet": [
                      {
                        "type": "carpet",
                        "baxis": {
                          "minorgridcolor": "white",
                          "gridcolor": "white",
                          "linecolor": "white",
                          "endlinecolor": "#2a3f5f",
                          "startlinecolor": "#2a3f5f"
                        },
                        "aaxis": {
                          "minorgridcolor": "white",
                          "gridcolor": "white",
                          "linecolor": "white",
                          "endlinecolor": "#2a3f5f",
                          "startlinecolor": "#2a3f5f"
                        }
                      }
                    ],
                    "contourcarpet": [
                      {
                        "colorbar": {
                          "outlinewidth": 0,
                          "ticks": ""
                        },
                        "type": "contourcarpet"
                      }
                    ],
                    "heatmap": [
                      {
                        "colorbar": {
                          "outlinewidth": 0,
                          "ticks": ""
                        },
                        "type": "heatmap",
                        "colorscale": [
                          [
                            0,
                            "#0d0887"
                          ],
                          [
                            0.1111111111111111,
                            "#46039f"
                          ],
                          [
                            0.2222222222222222,
                            "#7201a8"
                          ],
                          [
                            0.3333333333333333,
                            "#9c179e"
                          ],
                          [
                            0.4444444444444444,
                            "#bd3786"
                          ],
                          [
                            0.5555555555555556,
                            "#d8576b"
                          ],
                          [
                            0.6666666666666666,
                            "#ed7953"
                          ],
                          [
                            0.7777777777777778,
                            "#fb9f3a"
                          ],
                          [
                            0.8888888888888888,
                            "#fdca26"
                          ],
                          [
                            1,
                            "#f0f921"
                          ]
                        ]
                      }
                    ],
                    "scattermapbox": [
                      {
                        "marker": {
                          "colorbar": {
                            "outlinewidth": 0,
                            "ticks": ""
                          }
                        },
                        "type": "scattermapbox"
                      }
                    ],
                    "scatter3d": [
                      {
                        "marker": {
                          "colorbar": {
                            "outlinewidth": 0,
                            "ticks": ""
                          }
                        },
                        "line": {
                          "colorbar": {
                            "outlinewidth": 0,
                            "ticks": ""
                          }
                        },
                        "type": "scatter3d"
                      }
                    ],
                    "scattergl": [
                      {
                        "marker": {
                          "colorbar": {
                            "outlinewidth": 0,
                            "ticks": ""
                          }
                        },
                        "type": "scattergl"
                      }
                    ],
                    "scatterternary": [
                      {
                        "marker": {
                          "colorbar": {
                            "outlinewidth": 0,
                            "ticks": ""
                          }
                        },
                        "type": "scatterternary"
                      }
                    ],
                    "histogram": [
                      {
                        "marker": {
                          "colorbar": {
                            "outlinewidth": 0,
                            "ticks": ""
                          }
                        },
                        "type": "histogram"
                      }
                    ],
                    "heatmapgl": [
                      {
                        "colorbar": {
                          "outlinewidth": 0,
                          "ticks": ""
                        },
                        "type": "heatmapgl",
                        "colorscale": [
                          [
                            0,
                            "#0d0887"
                          ],
                          [
                            0.1111111111111111,
                            "#46039f"
                          ],
                          [
                            0.2222222222222222,
                            "#7201a8"
                          ],
                          [
                            0.3333333333333333,
                            "#9c179e"
                          ],
                          [
                            0.4444444444444444,
                            "#bd3786"
                          ],
                          [
                            0.5555555555555556,
                            "#d8576b"
                          ],
                          [
                            0.6666666666666666,
                            "#ed7953"
                          ],
                          [
                            0.7777777777777778,
                            "#fb9f3a"
                          ],
                          [
                            0.8888888888888888,
                            "#fdca26"
                          ],
                          [
                            1,
                            "#f0f921"
                          ]
                        ]
                      }
                    ],
                    "scatterpolar": [
                      {
                        "marker": {
                          "colorbar": {
                            "outlinewidth": 0,
                            "ticks": ""
                          }
                        },
                        "type": "scatterpolar"
                      }
                    ],
                    "histogram2d": [
                      {
                        "colorbar": {
                          "outlinewidth": 0,
                          "ticks": ""
                        },
                        "type": "histogram2d",
                        "colorscale": [
                          [
                            0,
                            "#0d0887"
                          ],
                          [
                            0.1111111111111111,
                            "#46039f"
                          ],
                          [
                            0.2222222222222222,
                            "#7201a8"
                          ],
                          [
                            0.3333333333333333,
                            "#9c179e"
                          ],
                          [
                            0.4444444444444444,
                            "#bd3786"
                          ],
                          [
                            0.5555555555555556,
                            "#d8576b"
                          ],
                          [
                            0.6666666666666666,
                            "#ed7953"
                          ],
                          [
                            0.7777777777777778,
                            "#fb9f3a"
                          ],
                          [
                            0.8888888888888888,
                            "#fdca26"
                          ],
                          [
                            1,
                            "#f0f921"
                          ]
                        ]
                      }
                    ],
                    "scattergeo": [
                      {
                        "marker": {
                          "colorbar": {
                            "outlinewidth": 0,
                            "ticks": ""
                          }
                        },
                        "type": "scattergeo"
                      }
                    ],
                    "bar": [
                      {
                        "marker": {
                          "line": {
                            "color": "#E5ECF6",
                            "width": 0.5
                          }
                        },
                        "type": "bar",
                        "error_x": {
                          "color": "#2a3f5f"
                        },
                        "error_y": {
                          "color": "#2a3f5f"
                        }
                      }
                    ],
                    "choropleth": [
                      {
                        "colorbar": {
                          "outlinewidth": 0,
                          "ticks": ""
                        },
                        "type": "choropleth"
                      }
                    ],
                    "parcoords": [
                      {
                        "line": {
                          "colorbar": {
                            "outlinewidth": 0,
                            "ticks": ""
                          }
                        },
                        "type": "parcoords"
                      }
                    ],
                    "barpolar": [
                      {
                        "marker": {
                          "line": {
                            "color": "#E5ECF6",
                            "width": 0.5
                          }
                        },
                        "type": "barpolar"
                      }
                    ],
                    "histogram2dcontour": [
                      {
                        "colorbar": {
                          "outlinewidth": 0,
                          "ticks": ""
                        },
                        "type": "histogram2dcontour",
                        "colorscale": [
                          [
                            0,
                            "#0d0887"
                          ],
                          [
                            0.1111111111111111,
                            "#46039f"
                          ],
                          [
                            0.2222222222222222,
                            "#7201a8"
                          ],
                          [
                            0.3333333333333333,
                            "#9c179e"
                          ],
                          [
                            0.4444444444444444,
                            "#bd3786"
                          ],
                          [
                            0.5555555555555556,
                            "#d8576b"
                          ],
                          [
                            0.6666666666666666,
                            "#ed7953"
                          ],
                          [
                            0.7777777777777778,
                            "#fb9f3a"
                          ],
                          [
                            0.8888888888888888,
                            "#fdca26"
                          ],
                          [
                            1,
                            "#f0f921"
                          ]
                        ]
                      }
                    ],
                    "scatter": [
                      {
                        "marker": {
                          "colorbar": {
                            "outlinewidth": 0,
                            "ticks": ""
                          }
                        },
                        "type": "scatter"
                      }
                    ]
                  }
                },
                "title": {
                  "text": "\"Total Missing Value By Column\""
                }
              }
            }
          },
          "metadata": {
            "tags": []
          }
        }
      ]
    },
    {
      "cell_type": "code",
      "metadata": {
        "colab": {
          "base_uri": "https://localhost:8080/",
          "height": 542
        },
        "id": "E0B6RiYHYxGz",
        "outputId": "73dae875-b3c8-4ccb-aec3-9269703d2bdd"
      },
      "source": [
        "### Number of Uniqueness\r\n",
        "train_unique = []\r\n",
        "columns = ['DTCO','GR','RHOZ','PHID','SPR','PEFZ']\r\n",
        "\r\n",
        "for i in columns:\r\n",
        "    train_unique.append(len(train[i].unique()))\r\n",
        "unique_train = pd.DataFrame()\r\n",
        "unique_train['Columns'] = columns\r\n",
        "unique_train['Unique_value'] = train_unique\r\n",
        "\r\n",
        "data = [\r\n",
        "    go.Bar(\r\n",
        "        x = unique_train['Columns'],\r\n",
        "        y = unique_train['Unique_value'],\r\n",
        "        name = 'Unique value in features',\r\n",
        "        textfont=dict(size=20),\r\n",
        "        marker=dict(\r\n",
        "        line=dict(\r\n",
        "            color= generate_color(),\r\n",
        "            #width= 2,\r\n",
        "        ), opacity = 0.45\r\n",
        "    )\r\n",
        "    ),\r\n",
        "    ]\r\n",
        "layout= go.Layout(\r\n",
        "        title= \"Unique Value By Column\",\r\n",
        "        xaxis= dict(title='Columns', ticklen=5, zeroline=False, gridwidth=2),\r\n",
        "        yaxis= dict(title='Value Count', ticklen=5, gridwidth=2),\r\n",
        "        showlegend=True\r\n",
        "    )\r\n",
        "fig = go.Figure(data=data, layout=layout)\r\n",
        "py.iplot(fig, filename='skin')"
      ],
      "execution_count": null,
      "outputs": [
        {
          "output_type": "display_data",
          "data": {
            "text/html": [
              "<div>\n",
              "        \n",
              "        \n",
              "            <div id=\"fe7a9294-0e81-4def-8f0d-c7fe6a9c0c65\" class=\"plotly-graph-div\" style=\"height:525px; width:100%;\"></div>\n",
              "            <script type=\"text/javascript\">\n",
              "                require([\"plotly\"], function(Plotly) {\n",
              "                    window.PLOTLYENV=window.PLOTLYENV || {};\n",
              "                    \n",
              "                if (document.getElementById(\"fe7a9294-0e81-4def-8f0d-c7fe6a9c0c65\")) {\n",
              "                    Plotly.newPlot(\n",
              "                        'fe7a9294-0e81-4def-8f0d-c7fe6a9c0c65',\n",
              "                        [{\"marker\": {\"line\": {\"color\": \"#e8fd0b\"}, \"opacity\": 0.45}, \"name\": \"Unique value in features\", \"textfont\": {\"size\": 20}, \"type\": \"bar\", \"x\": [\"DTCO\", \"GR\", \"RHOZ\", \"PHID\", \"SPR\", \"PEFZ\"], \"y\": [234895, 296653, 10197, 6268, 116178, 29159]}],\n",
              "                        {\"showlegend\": true, \"template\": {\"data\": {\"bar\": [{\"error_x\": {\"color\": \"#2a3f5f\"}, \"error_y\": {\"color\": \"#2a3f5f\"}, \"marker\": {\"line\": {\"color\": \"#E5ECF6\", \"width\": 0.5}}, \"type\": \"bar\"}], \"barpolar\": [{\"marker\": {\"line\": {\"color\": \"#E5ECF6\", \"width\": 0.5}}, \"type\": \"barpolar\"}], \"carpet\": [{\"aaxis\": {\"endlinecolor\": \"#2a3f5f\", \"gridcolor\": \"white\", \"linecolor\": \"white\", \"minorgridcolor\": \"white\", \"startlinecolor\": \"#2a3f5f\"}, \"baxis\": {\"endlinecolor\": \"#2a3f5f\", \"gridcolor\": \"white\", \"linecolor\": \"white\", \"minorgridcolor\": \"white\", \"startlinecolor\": \"#2a3f5f\"}, \"type\": \"carpet\"}], \"choropleth\": [{\"colorbar\": {\"outlinewidth\": 0, \"ticks\": \"\"}, \"type\": \"choropleth\"}], \"contour\": [{\"colorbar\": {\"outlinewidth\": 0, \"ticks\": \"\"}, \"colorscale\": [[0.0, \"#0d0887\"], [0.1111111111111111, \"#46039f\"], [0.2222222222222222, \"#7201a8\"], [0.3333333333333333, \"#9c179e\"], [0.4444444444444444, \"#bd3786\"], [0.5555555555555556, \"#d8576b\"], [0.6666666666666666, \"#ed7953\"], [0.7777777777777778, \"#fb9f3a\"], [0.8888888888888888, \"#fdca26\"], [1.0, \"#f0f921\"]], \"type\": \"contour\"}], \"contourcarpet\": [{\"colorbar\": {\"outlinewidth\": 0, \"ticks\": \"\"}, \"type\": \"contourcarpet\"}], \"heatmap\": [{\"colorbar\": {\"outlinewidth\": 0, \"ticks\": \"\"}, \"colorscale\": [[0.0, \"#0d0887\"], [0.1111111111111111, \"#46039f\"], [0.2222222222222222, \"#7201a8\"], [0.3333333333333333, \"#9c179e\"], [0.4444444444444444, \"#bd3786\"], [0.5555555555555556, \"#d8576b\"], [0.6666666666666666, \"#ed7953\"], [0.7777777777777778, \"#fb9f3a\"], [0.8888888888888888, \"#fdca26\"], [1.0, \"#f0f921\"]], \"type\": \"heatmap\"}], \"heatmapgl\": [{\"colorbar\": {\"outlinewidth\": 0, \"ticks\": \"\"}, \"colorscale\": [[0.0, \"#0d0887\"], [0.1111111111111111, \"#46039f\"], [0.2222222222222222, \"#7201a8\"], [0.3333333333333333, \"#9c179e\"], [0.4444444444444444, \"#bd3786\"], [0.5555555555555556, \"#d8576b\"], [0.6666666666666666, \"#ed7953\"], [0.7777777777777778, \"#fb9f3a\"], [0.8888888888888888, \"#fdca26\"], [1.0, \"#f0f921\"]], \"type\": \"heatmapgl\"}], \"histogram\": [{\"marker\": {\"colorbar\": {\"outlinewidth\": 0, \"ticks\": \"\"}}, \"type\": \"histogram\"}], \"histogram2d\": [{\"colorbar\": {\"outlinewidth\": 0, \"ticks\": \"\"}, \"colorscale\": [[0.0, \"#0d0887\"], [0.1111111111111111, \"#46039f\"], [0.2222222222222222, \"#7201a8\"], [0.3333333333333333, \"#9c179e\"], [0.4444444444444444, \"#bd3786\"], [0.5555555555555556, \"#d8576b\"], [0.6666666666666666, \"#ed7953\"], [0.7777777777777778, \"#fb9f3a\"], [0.8888888888888888, \"#fdca26\"], [1.0, \"#f0f921\"]], \"type\": \"histogram2d\"}], \"histogram2dcontour\": [{\"colorbar\": {\"outlinewidth\": 0, \"ticks\": \"\"}, \"colorscale\": [[0.0, \"#0d0887\"], [0.1111111111111111, \"#46039f\"], [0.2222222222222222, \"#7201a8\"], [0.3333333333333333, \"#9c179e\"], [0.4444444444444444, \"#bd3786\"], [0.5555555555555556, \"#d8576b\"], [0.6666666666666666, \"#ed7953\"], [0.7777777777777778, \"#fb9f3a\"], [0.8888888888888888, \"#fdca26\"], [1.0, \"#f0f921\"]], \"type\": \"histogram2dcontour\"}], \"mesh3d\": [{\"colorbar\": {\"outlinewidth\": 0, \"ticks\": \"\"}, \"type\": \"mesh3d\"}], \"parcoords\": [{\"line\": {\"colorbar\": {\"outlinewidth\": 0, \"ticks\": \"\"}}, \"type\": \"parcoords\"}], \"pie\": [{\"automargin\": true, \"type\": \"pie\"}], \"scatter\": [{\"marker\": {\"colorbar\": {\"outlinewidth\": 0, \"ticks\": \"\"}}, \"type\": \"scatter\"}], \"scatter3d\": [{\"line\": {\"colorbar\": {\"outlinewidth\": 0, \"ticks\": \"\"}}, \"marker\": {\"colorbar\": {\"outlinewidth\": 0, \"ticks\": \"\"}}, \"type\": \"scatter3d\"}], \"scattercarpet\": [{\"marker\": {\"colorbar\": {\"outlinewidth\": 0, \"ticks\": \"\"}}, \"type\": \"scattercarpet\"}], \"scattergeo\": [{\"marker\": {\"colorbar\": {\"outlinewidth\": 0, \"ticks\": \"\"}}, \"type\": \"scattergeo\"}], \"scattergl\": [{\"marker\": {\"colorbar\": {\"outlinewidth\": 0, \"ticks\": \"\"}}, \"type\": \"scattergl\"}], \"scattermapbox\": [{\"marker\": {\"colorbar\": {\"outlinewidth\": 0, \"ticks\": \"\"}}, \"type\": \"scattermapbox\"}], \"scatterpolar\": [{\"marker\": {\"colorbar\": {\"outlinewidth\": 0, \"ticks\": \"\"}}, \"type\": \"scatterpolar\"}], \"scatterpolargl\": [{\"marker\": {\"colorbar\": {\"outlinewidth\": 0, \"ticks\": \"\"}}, \"type\": \"scatterpolargl\"}], \"scatterternary\": [{\"marker\": {\"colorbar\": {\"outlinewidth\": 0, \"ticks\": \"\"}}, \"type\": \"scatterternary\"}], \"surface\": [{\"colorbar\": {\"outlinewidth\": 0, \"ticks\": \"\"}, \"colorscale\": [[0.0, \"#0d0887\"], [0.1111111111111111, \"#46039f\"], [0.2222222222222222, \"#7201a8\"], [0.3333333333333333, \"#9c179e\"], [0.4444444444444444, \"#bd3786\"], [0.5555555555555556, \"#d8576b\"], [0.6666666666666666, \"#ed7953\"], [0.7777777777777778, \"#fb9f3a\"], [0.8888888888888888, \"#fdca26\"], [1.0, \"#f0f921\"]], \"type\": \"surface\"}], \"table\": [{\"cells\": {\"fill\": {\"color\": \"#EBF0F8\"}, \"line\": {\"color\": \"white\"}}, \"header\": {\"fill\": {\"color\": \"#C8D4E3\"}, \"line\": {\"color\": \"white\"}}, \"type\": \"table\"}]}, \"layout\": {\"annotationdefaults\": {\"arrowcolor\": \"#2a3f5f\", \"arrowhead\": 0, \"arrowwidth\": 1}, \"coloraxis\": {\"colorbar\": {\"outlinewidth\": 0, \"ticks\": \"\"}}, \"colorscale\": {\"diverging\": [[0, \"#8e0152\"], [0.1, \"#c51b7d\"], [0.2, \"#de77ae\"], [0.3, \"#f1b6da\"], [0.4, \"#fde0ef\"], [0.5, \"#f7f7f7\"], [0.6, \"#e6f5d0\"], [0.7, \"#b8e186\"], [0.8, \"#7fbc41\"], [0.9, \"#4d9221\"], [1, \"#276419\"]], \"sequential\": [[0.0, \"#0d0887\"], [0.1111111111111111, \"#46039f\"], [0.2222222222222222, \"#7201a8\"], [0.3333333333333333, \"#9c179e\"], [0.4444444444444444, \"#bd3786\"], [0.5555555555555556, \"#d8576b\"], [0.6666666666666666, \"#ed7953\"], [0.7777777777777778, \"#fb9f3a\"], [0.8888888888888888, \"#fdca26\"], [1.0, \"#f0f921\"]], \"sequentialminus\": [[0.0, \"#0d0887\"], [0.1111111111111111, \"#46039f\"], [0.2222222222222222, \"#7201a8\"], [0.3333333333333333, \"#9c179e\"], [0.4444444444444444, \"#bd3786\"], [0.5555555555555556, \"#d8576b\"], [0.6666666666666666, \"#ed7953\"], [0.7777777777777778, \"#fb9f3a\"], [0.8888888888888888, \"#fdca26\"], [1.0, \"#f0f921\"]]}, \"colorway\": [\"#636efa\", \"#EF553B\", \"#00cc96\", \"#ab63fa\", \"#FFA15A\", \"#19d3f3\", \"#FF6692\", \"#B6E880\", \"#FF97FF\", \"#FECB52\"], \"font\": {\"color\": \"#2a3f5f\"}, \"geo\": {\"bgcolor\": \"white\", \"lakecolor\": \"white\", \"landcolor\": \"#E5ECF6\", \"showlakes\": true, \"showland\": true, \"subunitcolor\": \"white\"}, \"hoverlabel\": {\"align\": \"left\"}, \"hovermode\": \"closest\", \"mapbox\": {\"style\": \"light\"}, \"paper_bgcolor\": \"white\", \"plot_bgcolor\": \"#E5ECF6\", \"polar\": {\"angularaxis\": {\"gridcolor\": \"white\", \"linecolor\": \"white\", \"ticks\": \"\"}, \"bgcolor\": \"#E5ECF6\", \"radialaxis\": {\"gridcolor\": \"white\", \"linecolor\": \"white\", \"ticks\": \"\"}}, \"scene\": {\"xaxis\": {\"backgroundcolor\": \"#E5ECF6\", \"gridcolor\": \"white\", \"gridwidth\": 2, \"linecolor\": \"white\", \"showbackground\": true, \"ticks\": \"\", \"zerolinecolor\": \"white\"}, \"yaxis\": {\"backgroundcolor\": \"#E5ECF6\", \"gridcolor\": \"white\", \"gridwidth\": 2, \"linecolor\": \"white\", \"showbackground\": true, \"ticks\": \"\", \"zerolinecolor\": \"white\"}, \"zaxis\": {\"backgroundcolor\": \"#E5ECF6\", \"gridcolor\": \"white\", \"gridwidth\": 2, \"linecolor\": \"white\", \"showbackground\": true, \"ticks\": \"\", \"zerolinecolor\": \"white\"}}, \"shapedefaults\": {\"line\": {\"color\": \"#2a3f5f\"}}, \"ternary\": {\"aaxis\": {\"gridcolor\": \"white\", \"linecolor\": \"white\", \"ticks\": \"\"}, \"baxis\": {\"gridcolor\": \"white\", \"linecolor\": \"white\", \"ticks\": \"\"}, \"bgcolor\": \"#E5ECF6\", \"caxis\": {\"gridcolor\": \"white\", \"linecolor\": \"white\", \"ticks\": \"\"}}, \"title\": {\"x\": 0.05}, \"xaxis\": {\"automargin\": true, \"gridcolor\": \"white\", \"linecolor\": \"white\", \"ticks\": \"\", \"title\": {\"standoff\": 15}, \"zerolinecolor\": \"white\", \"zerolinewidth\": 2}, \"yaxis\": {\"automargin\": true, \"gridcolor\": \"white\", \"linecolor\": \"white\", \"ticks\": \"\", \"title\": {\"standoff\": 15}, \"zerolinecolor\": \"white\", \"zerolinewidth\": 2}}}, \"title\": {\"text\": \"Unique Value By Column\"}, \"xaxis\": {\"gridwidth\": 2, \"ticklen\": 5, \"title\": {\"text\": \"Columns\"}, \"zeroline\": false}, \"yaxis\": {\"gridwidth\": 2, \"ticklen\": 5, \"title\": {\"text\": \"Value Count\"}}},\n",
              "                        {\"responsive\": true}\n",
              "                    ).then(function(){\n",
              "                            \n",
              "var gd = document.getElementById('fe7a9294-0e81-4def-8f0d-c7fe6a9c0c65');\n",
              "var x = new MutationObserver(function (mutations, observer) {{\n",
              "        var display = window.getComputedStyle(gd).display;\n",
              "        if (!display || display === 'none') {{\n",
              "            console.log([gd, 'removed!']);\n",
              "            Plotly.purge(gd);\n",
              "            observer.disconnect();\n",
              "        }}\n",
              "}});\n",
              "\n",
              "// Listen for the removal of the full notebook cells\n",
              "var notebookContainer = gd.closest('#notebook-container');\n",
              "if (notebookContainer) {{\n",
              "    x.observe(notebookContainer, {childList: true});\n",
              "}}\n",
              "\n",
              "// Listen for the clearing of the current output cell\n",
              "var outputEl = gd.closest('.output');\n",
              "if (outputEl) {{\n",
              "    x.observe(outputEl, {childList: true});\n",
              "}}\n",
              "\n",
              "                        })\n",
              "                };\n",
              "                });\n",
              "            </script>\n",
              "        </div>"
            ],
            "application/vnd.plotly.v1+json": {
              "data": [
                {
                  "textfont": {
                    "size": 20
                  },
                  "name": "Unique value in features",
                  "y": [
                    234895,
                    296653,
                    10197,
                    6268,
                    116178,
                    29159
                  ],
                  "marker": {
                    "opacity": 0.45,
                    "line": {
                      "color": "#e8fd0b"
                    }
                  },
                  "x": [
                    "DTCO",
                    "GR",
                    "RHOZ",
                    "PHID",
                    "SPR",
                    "PEFZ"
                  ],
                  "type": "bar"
                }
              ],
              "config": {
                "plotlyServerURL": "https://plot.ly",
                "linkText": "Export to plot.ly",
                "showLink": false
              },
              "layout": {
                "showlegend": true,
                "yaxis": {
                  "ticklen": 5,
                  "gridwidth": 2,
                  "title": {
                    "text": "Value Count"
                  }
                },
                "xaxis": {
                  "zeroline": false,
                  "ticklen": 5,
                  "gridwidth": 2,
                  "title": {
                    "text": "Columns"
                  }
                },
                "template": {
                  "layout": {
                    "shapedefaults": {
                      "line": {
                        "color": "#2a3f5f"
                      }
                    },
                    "polar": {
                      "radialaxis": {
                        "ticks": "",
                        "gridcolor": "white",
                        "linecolor": "white"
                      },
                      "bgcolor": "#E5ECF6",
                      "angularaxis": {
                        "ticks": "",
                        "gridcolor": "white",
                        "linecolor": "white"
                      }
                    },
                    "colorway": [
                      "#636efa",
                      "#EF553B",
                      "#00cc96",
                      "#ab63fa",
                      "#FFA15A",
                      "#19d3f3",
                      "#FF6692",
                      "#B6E880",
                      "#FF97FF",
                      "#FECB52"
                    ],
                    "xaxis": {
                      "automargin": true,
                      "title": {
                        "standoff": 15
                      },
                      "zerolinewidth": 2,
                      "ticks": "",
                      "zerolinecolor": "white",
                      "gridcolor": "white",
                      "linecolor": "white"
                    },
                    "colorscale": {
                      "diverging": [
                        [
                          0,
                          "#8e0152"
                        ],
                        [
                          0.1,
                          "#c51b7d"
                        ],
                        [
                          0.2,
                          "#de77ae"
                        ],
                        [
                          0.3,
                          "#f1b6da"
                        ],
                        [
                          0.4,
                          "#fde0ef"
                        ],
                        [
                          0.5,
                          "#f7f7f7"
                        ],
                        [
                          0.6,
                          "#e6f5d0"
                        ],
                        [
                          0.7,
                          "#b8e186"
                        ],
                        [
                          0.8,
                          "#7fbc41"
                        ],
                        [
                          0.9,
                          "#4d9221"
                        ],
                        [
                          1,
                          "#276419"
                        ]
                      ],
                      "sequential": [
                        [
                          0,
                          "#0d0887"
                        ],
                        [
                          0.1111111111111111,
                          "#46039f"
                        ],
                        [
                          0.2222222222222222,
                          "#7201a8"
                        ],
                        [
                          0.3333333333333333,
                          "#9c179e"
                        ],
                        [
                          0.4444444444444444,
                          "#bd3786"
                        ],
                        [
                          0.5555555555555556,
                          "#d8576b"
                        ],
                        [
                          0.6666666666666666,
                          "#ed7953"
                        ],
                        [
                          0.7777777777777778,
                          "#fb9f3a"
                        ],
                        [
                          0.8888888888888888,
                          "#fdca26"
                        ],
                        [
                          1,
                          "#f0f921"
                        ]
                      ],
                      "sequentialminus": [
                        [
                          0,
                          "#0d0887"
                        ],
                        [
                          0.1111111111111111,
                          "#46039f"
                        ],
                        [
                          0.2222222222222222,
                          "#7201a8"
                        ],
                        [
                          0.3333333333333333,
                          "#9c179e"
                        ],
                        [
                          0.4444444444444444,
                          "#bd3786"
                        ],
                        [
                          0.5555555555555556,
                          "#d8576b"
                        ],
                        [
                          0.6666666666666666,
                          "#ed7953"
                        ],
                        [
                          0.7777777777777778,
                          "#fb9f3a"
                        ],
                        [
                          0.8888888888888888,
                          "#fdca26"
                        ],
                        [
                          1,
                          "#f0f921"
                        ]
                      ]
                    },
                    "paper_bgcolor": "white",
                    "plot_bgcolor": "#E5ECF6",
                    "title": {
                      "x": 0.05
                    },
                    "scene": {
                      "zaxis": {
                        "backgroundcolor": "#E5ECF6",
                        "ticks": "",
                        "gridwidth": 2,
                        "showbackground": true,
                        "zerolinecolor": "white",
                        "gridcolor": "white",
                        "linecolor": "white"
                      },
                      "xaxis": {
                        "backgroundcolor": "#E5ECF6",
                        "ticks": "",
                        "gridwidth": 2,
                        "showbackground": true,
                        "zerolinecolor": "white",
                        "gridcolor": "white",
                        "linecolor": "white"
                      },
                      "yaxis": {
                        "backgroundcolor": "#E5ECF6",
                        "ticks": "",
                        "gridwidth": 2,
                        "showbackground": true,
                        "zerolinecolor": "white",
                        "gridcolor": "white",
                        "linecolor": "white"
                      }
                    },
                    "yaxis": {
                      "automargin": true,
                      "title": {
                        "standoff": 15
                      },
                      "zerolinewidth": 2,
                      "ticks": "",
                      "zerolinecolor": "white",
                      "gridcolor": "white",
                      "linecolor": "white"
                    },
                    "annotationdefaults": {
                      "arrowwidth": 1,
                      "arrowhead": 0,
                      "arrowcolor": "#2a3f5f"
                    },
                    "hoverlabel": {
                      "align": "left"
                    },
                    "ternary": {
                      "bgcolor": "#E5ECF6",
                      "baxis": {
                        "ticks": "",
                        "gridcolor": "white",
                        "linecolor": "white"
                      },
                      "caxis": {
                        "ticks": "",
                        "gridcolor": "white",
                        "linecolor": "white"
                      },
                      "aaxis": {
                        "ticks": "",
                        "gridcolor": "white",
                        "linecolor": "white"
                      }
                    },
                    "mapbox": {
                      "style": "light"
                    },
                    "hovermode": "closest",
                    "font": {
                      "color": "#2a3f5f"
                    },
                    "geo": {
                      "showland": true,
                      "landcolor": "#E5ECF6",
                      "showlakes": true,
                      "bgcolor": "white",
                      "subunitcolor": "white",
                      "lakecolor": "white"
                    },
                    "coloraxis": {
                      "colorbar": {
                        "outlinewidth": 0,
                        "ticks": ""
                      }
                    }
                  },
                  "data": {
                    "mesh3d": [
                      {
                        "colorbar": {
                          "outlinewidth": 0,
                          "ticks": ""
                        },
                        "type": "mesh3d"
                      }
                    ],
                    "scattercarpet": [
                      {
                        "marker": {
                          "colorbar": {
                            "outlinewidth": 0,
                            "ticks": ""
                          }
                        },
                        "type": "scattercarpet"
                      }
                    ],
                    "pie": [
                      {
                        "automargin": true,
                        "type": "pie"
                      }
                    ],
                    "surface": [
                      {
                        "colorbar": {
                          "outlinewidth": 0,
                          "ticks": ""
                        },
                        "type": "surface",
                        "colorscale": [
                          [
                            0,
                            "#0d0887"
                          ],
                          [
                            0.1111111111111111,
                            "#46039f"
                          ],
                          [
                            0.2222222222222222,
                            "#7201a8"
                          ],
                          [
                            0.3333333333333333,
                            "#9c179e"
                          ],
                          [
                            0.4444444444444444,
                            "#bd3786"
                          ],
                          [
                            0.5555555555555556,
                            "#d8576b"
                          ],
                          [
                            0.6666666666666666,
                            "#ed7953"
                          ],
                          [
                            0.7777777777777778,
                            "#fb9f3a"
                          ],
                          [
                            0.8888888888888888,
                            "#fdca26"
                          ],
                          [
                            1,
                            "#f0f921"
                          ]
                        ]
                      }
                    ],
                    "table": [
                      {
                        "header": {
                          "line": {
                            "color": "white"
                          },
                          "fill": {
                            "color": "#C8D4E3"
                          }
                        },
                        "cells": {
                          "line": {
                            "color": "white"
                          },
                          "fill": {
                            "color": "#EBF0F8"
                          }
                        },
                        "type": "table"
                      }
                    ],
                    "scatterpolargl": [
                      {
                        "marker": {
                          "colorbar": {
                            "outlinewidth": 0,
                            "ticks": ""
                          }
                        },
                        "type": "scatterpolargl"
                      }
                    ],
                    "contour": [
                      {
                        "colorbar": {
                          "outlinewidth": 0,
                          "ticks": ""
                        },
                        "type": "contour",
                        "colorscale": [
                          [
                            0,
                            "#0d0887"
                          ],
                          [
                            0.1111111111111111,
                            "#46039f"
                          ],
                          [
                            0.2222222222222222,
                            "#7201a8"
                          ],
                          [
                            0.3333333333333333,
                            "#9c179e"
                          ],
                          [
                            0.4444444444444444,
                            "#bd3786"
                          ],
                          [
                            0.5555555555555556,
                            "#d8576b"
                          ],
                          [
                            0.6666666666666666,
                            "#ed7953"
                          ],
                          [
                            0.7777777777777778,
                            "#fb9f3a"
                          ],
                          [
                            0.8888888888888888,
                            "#fdca26"
                          ],
                          [
                            1,
                            "#f0f921"
                          ]
                        ]
                      }
                    ],
                    "carpet": [
                      {
                        "type": "carpet",
                        "baxis": {
                          "minorgridcolor": "white",
                          "gridcolor": "white",
                          "linecolor": "white",
                          "endlinecolor": "#2a3f5f",
                          "startlinecolor": "#2a3f5f"
                        },
                        "aaxis": {
                          "minorgridcolor": "white",
                          "gridcolor": "white",
                          "linecolor": "white",
                          "endlinecolor": "#2a3f5f",
                          "startlinecolor": "#2a3f5f"
                        }
                      }
                    ],
                    "contourcarpet": [
                      {
                        "colorbar": {
                          "outlinewidth": 0,
                          "ticks": ""
                        },
                        "type": "contourcarpet"
                      }
                    ],
                    "heatmap": [
                      {
                        "colorbar": {
                          "outlinewidth": 0,
                          "ticks": ""
                        },
                        "type": "heatmap",
                        "colorscale": [
                          [
                            0,
                            "#0d0887"
                          ],
                          [
                            0.1111111111111111,
                            "#46039f"
                          ],
                          [
                            0.2222222222222222,
                            "#7201a8"
                          ],
                          [
                            0.3333333333333333,
                            "#9c179e"
                          ],
                          [
                            0.4444444444444444,
                            "#bd3786"
                          ],
                          [
                            0.5555555555555556,
                            "#d8576b"
                          ],
                          [
                            0.6666666666666666,
                            "#ed7953"
                          ],
                          [
                            0.7777777777777778,
                            "#fb9f3a"
                          ],
                          [
                            0.8888888888888888,
                            "#fdca26"
                          ],
                          [
                            1,
                            "#f0f921"
                          ]
                        ]
                      }
                    ],
                    "scattermapbox": [
                      {
                        "marker": {
                          "colorbar": {
                            "outlinewidth": 0,
                            "ticks": ""
                          }
                        },
                        "type": "scattermapbox"
                      }
                    ],
                    "scatter3d": [
                      {
                        "marker": {
                          "colorbar": {
                            "outlinewidth": 0,
                            "ticks": ""
                          }
                        },
                        "line": {
                          "colorbar": {
                            "outlinewidth": 0,
                            "ticks": ""
                          }
                        },
                        "type": "scatter3d"
                      }
                    ],
                    "scattergl": [
                      {
                        "marker": {
                          "colorbar": {
                            "outlinewidth": 0,
                            "ticks": ""
                          }
                        },
                        "type": "scattergl"
                      }
                    ],
                    "scatterternary": [
                      {
                        "marker": {
                          "colorbar": {
                            "outlinewidth": 0,
                            "ticks": ""
                          }
                        },
                        "type": "scatterternary"
                      }
                    ],
                    "histogram": [
                      {
                        "marker": {
                          "colorbar": {
                            "outlinewidth": 0,
                            "ticks": ""
                          }
                        },
                        "type": "histogram"
                      }
                    ],
                    "heatmapgl": [
                      {
                        "colorbar": {
                          "outlinewidth": 0,
                          "ticks": ""
                        },
                        "type": "heatmapgl",
                        "colorscale": [
                          [
                            0,
                            "#0d0887"
                          ],
                          [
                            0.1111111111111111,
                            "#46039f"
                          ],
                          [
                            0.2222222222222222,
                            "#7201a8"
                          ],
                          [
                            0.3333333333333333,
                            "#9c179e"
                          ],
                          [
                            0.4444444444444444,
                            "#bd3786"
                          ],
                          [
                            0.5555555555555556,
                            "#d8576b"
                          ],
                          [
                            0.6666666666666666,
                            "#ed7953"
                          ],
                          [
                            0.7777777777777778,
                            "#fb9f3a"
                          ],
                          [
                            0.8888888888888888,
                            "#fdca26"
                          ],
                          [
                            1,
                            "#f0f921"
                          ]
                        ]
                      }
                    ],
                    "scatterpolar": [
                      {
                        "marker": {
                          "colorbar": {
                            "outlinewidth": 0,
                            "ticks": ""
                          }
                        },
                        "type": "scatterpolar"
                      }
                    ],
                    "histogram2d": [
                      {
                        "colorbar": {
                          "outlinewidth": 0,
                          "ticks": ""
                        },
                        "type": "histogram2d",
                        "colorscale": [
                          [
                            0,
                            "#0d0887"
                          ],
                          [
                            0.1111111111111111,
                            "#46039f"
                          ],
                          [
                            0.2222222222222222,
                            "#7201a8"
                          ],
                          [
                            0.3333333333333333,
                            "#9c179e"
                          ],
                          [
                            0.4444444444444444,
                            "#bd3786"
                          ],
                          [
                            0.5555555555555556,
                            "#d8576b"
                          ],
                          [
                            0.6666666666666666,
                            "#ed7953"
                          ],
                          [
                            0.7777777777777778,
                            "#fb9f3a"
                          ],
                          [
                            0.8888888888888888,
                            "#fdca26"
                          ],
                          [
                            1,
                            "#f0f921"
                          ]
                        ]
                      }
                    ],
                    "scattergeo": [
                      {
                        "marker": {
                          "colorbar": {
                            "outlinewidth": 0,
                            "ticks": ""
                          }
                        },
                        "type": "scattergeo"
                      }
                    ],
                    "bar": [
                      {
                        "marker": {
                          "line": {
                            "color": "#E5ECF6",
                            "width": 0.5
                          }
                        },
                        "type": "bar",
                        "error_x": {
                          "color": "#2a3f5f"
                        },
                        "error_y": {
                          "color": "#2a3f5f"
                        }
                      }
                    ],
                    "choropleth": [
                      {
                        "colorbar": {
                          "outlinewidth": 0,
                          "ticks": ""
                        },
                        "type": "choropleth"
                      }
                    ],
                    "parcoords": [
                      {
                        "line": {
                          "colorbar": {
                            "outlinewidth": 0,
                            "ticks": ""
                          }
                        },
                        "type": "parcoords"
                      }
                    ],
                    "barpolar": [
                      {
                        "marker": {
                          "line": {
                            "color": "#E5ECF6",
                            "width": 0.5
                          }
                        },
                        "type": "barpolar"
                      }
                    ],
                    "histogram2dcontour": [
                      {
                        "colorbar": {
                          "outlinewidth": 0,
                          "ticks": ""
                        },
                        "type": "histogram2dcontour",
                        "colorscale": [
                          [
                            0,
                            "#0d0887"
                          ],
                          [
                            0.1111111111111111,
                            "#46039f"
                          ],
                          [
                            0.2222222222222222,
                            "#7201a8"
                          ],
                          [
                            0.3333333333333333,
                            "#9c179e"
                          ],
                          [
                            0.4444444444444444,
                            "#bd3786"
                          ],
                          [
                            0.5555555555555556,
                            "#d8576b"
                          ],
                          [
                            0.6666666666666666,
                            "#ed7953"
                          ],
                          [
                            0.7777777777777778,
                            "#fb9f3a"
                          ],
                          [
                            0.8888888888888888,
                            "#fdca26"
                          ],
                          [
                            1,
                            "#f0f921"
                          ]
                        ]
                      }
                    ],
                    "scatter": [
                      {
                        "marker": {
                          "colorbar": {
                            "outlinewidth": 0,
                            "ticks": ""
                          }
                        },
                        "type": "scatter"
                      }
                    ]
                  }
                },
                "title": {
                  "text": "Unique Value By Column"
                }
              }
            }
          },
          "metadata": {
            "tags": []
          }
        }
      ]
    },
    {
      "cell_type": "code",
      "metadata": {
        "id": "nGfLFnR-YxJ1",
        "colab": {
          "base_uri": "https://localhost:8080/",
          "height": 395
        },
        "outputId": "f4d164a8-5eb7-4ab3-8252-a09b6984e793"
      },
      "source": [
        "data = pd.concat([train['DTSM'], train['DTCO']], axis=1)\r\n",
        "f, ax = plt.subplots(figsize=(8, 6))\r\n",
        "fig = sns.regplot(x='DTCO', y=\"DTSM\", data=data)"
      ],
      "execution_count": null,
      "outputs": [
        {
          "output_type": "display_data",
          "data": {
            "image/png": "[encoded data removed]",
            "text/plain": [
              "<Figure size 576x432 with 1 Axes>"
            ]
          },
          "metadata": {
            "tags": []
          }
        }
      ]
    },
    {
      "cell_type": "code",
      "metadata": {
        "colab": {
          "base_uri": "https://localhost:8080/",
          "height": 395
        },
        "id": "9ODwYWWXm7Ra",
        "outputId": "3d0631b3-b26e-4da8-c269-90b547919832"
      },
      "source": [
        "data = pd.concat([train['DTSM'], train['GR']], axis=1)\r\n",
        "f, ax = plt.subplots(figsize=(8, 6))\r\n",
        "fig = sns.regplot(x='GR', y=\"DTSM\", data=data)"
      ],
      "execution_count": null,
      "outputs": [
        {
          "output_type": "display_data",
          "data": {
            "image/png": "[encoded data removed]",
            "text/plain": [
              "<Figure size 576x432 with 1 Axes>"
            ]
          },
          "metadata": {
            "tags": []
          }
        }
      ]
    },
    {
      "cell_type": "code",
      "metadata": {
        "id": "XzJfnuMMFFoa"
      },
      "source": [
        "train = train.fillna(train.mean())"
      ],
      "execution_count": null,
      "outputs": []
    },
    {
      "cell_type": "code",
      "metadata": {
        "colab": {
          "base_uri": "https://localhost:8080/"
        },
        "id": "7k6A6O3Zx_Jq",
        "outputId": "41d8ff75-0afb-407d-9f3e-295722c6bf9f"
      },
      "source": [
        "y = train[['DTSM']].reset_index(drop=True)\r\n",
        "train2 = train.drop('DTSM', axis = 1)\r\n",
        "train2.shape"
      ],
      "execution_count": null,
      "outputs": [
        {
          "output_type": "execute_result",
          "data": {
            "text/plain": [
              "(344730, 6)"
            ]
          },
          "metadata": {
            "tags": []
          },
          "execution_count": 21
        }
      ]
    },
    {
      "cell_type": "code",
      "metadata": {
        "colab": {
          "base_uri": "https://localhost:8080/"
        },
        "id": "0r5744Xlu1VE",
        "outputId": "cd42ee28-6daa-4e9b-a6a2-e3c00305af3b"
      },
      "source": [
        "all_df = pd.concat([train2, test]).reset_index(drop=True)\r\n",
        "all_df.shape"
      ],
      "execution_count": null,
      "outputs": [
        {
          "output_type": "execute_result",
          "data": {
            "text/plain": [
              "(348687, 6)"
            ]
          },
          "metadata": {
            "tags": []
          },
          "execution_count": 22
        }
      ]
    },
    {
      "cell_type": "code",
      "metadata": {
        "colab": {
          "base_uri": "https://localhost:8080/"
        },
        "id": "FUbBYFkJx438",
        "outputId": "78ed1472-e6b9-4d16-8ffe-4dd4b7aae2c4"
      },
      "source": [
        "def check_na(data, head_num = 6):\r\n",
        "  isnull_na = (data.isnull().sum() / len(data)) * 100\r\n",
        "  data_na = isnull_na.drop(isnull_na[isnull_na == 0].index).sort_values(ascending=False)\r\n",
        "  missing_data = pd.DataFrame({'Missing Ratio' :data_na, \r\n",
        "                               'Data Type': data.dtypes[data_na.index]})\r\n",
        "  print(\"Missing Data (%):\\n\", missing_data.head(head_num))\r\n",
        "\r\n",
        "check_na(all_df, 20)"
      ],
      "execution_count": null,
      "outputs": [
        {
          "output_type": "stream",
          "text": [
            "Missing Data (%):\n",
            "     Missing Ratio Data Type\n",
            "GR        0.00803   float64\n"
          ],
          "name": "stdout"
        }
      ]
    },
    {
      "cell_type": "code",
      "metadata": {
        "colab": {
          "base_uri": "https://localhost:8080/"
        },
        "id": "2aGWOFpguiL9",
        "outputId": "3169f3d2-fc44-45c9-8710-73c682112a52"
      },
      "source": [
        "print(train['DTCO'].value_counts())\r\n",
        "print()\r\n",
        "print(train['DTCO'].mode()[0])"
      ],
      "execution_count": null,
      "outputs": [
        {
          "output_type": "stream",
          "text": [
            "68.563157    10091\n",
            "61.184700       75\n",
            "77.181400       59\n",
            "50.110000       57\n",
            "61.385500       55\n",
            "             ...  \n",
            "54.949800        1\n",
            "83.702200        1\n",
            "89.372400        1\n",
            "91.671000        1\n",
            "58.320400        1\n",
            "Name: DTCO, Length: 234895, dtype: int64\n",
            "\n",
            "68.56315659202889\n"
          ],
          "name": "stdout"
        }
      ]
    },
    {
      "cell_type": "code",
      "metadata": {
        "colab": {
          "base_uri": "https://localhost:8080/"
        },
        "id": "2psYirltyLbT",
        "outputId": "b25c9caa-0ecf-4887-bb97-e8b263fea18d"
      },
      "source": [
        "import numpy as np\r\n",
        "num_all_vars = list(train2.select_dtypes(include=[np.number]))\r\n",
        "print(\"The whole number of all_vars\", len(num_all_vars))\r\n",
        "\r\n",
        "print(\"The whole number of final_cat_vars\", len(num_all_vars))\r\n",
        "for i in num_all_vars:\r\n",
        "  all_df[i].fillna(value=all_df[i].median(), inplace=True)\r\n",
        "\r\n",
        "check_na(all_df, 20)"
      ],
      "execution_count": null,
      "outputs": [
        {
          "output_type": "stream",
          "text": [
            "The whole number of all_vars 6\n",
            "The whole number of final_cat_vars 6\n",
            "Missing Data (%):\n",
            " Empty DataFrame\n",
            "Columns: [Missing Ratio, Data Type]\n",
            "Index: []\n"
          ],
          "name": "stdout"
        }
      ]
    },
    {
      "cell_type": "code",
      "metadata": {
        "colab": {
          "base_uri": "https://localhost:8080/"
        },
        "id": "-ocP2P4XD-LT",
        "outputId": "41230467-1813-4904-dd6d-c12ed8f38f31"
      },
      "source": [
        "train.info()"
      ],
      "execution_count": null,
      "outputs": [
        {
          "output_type": "stream",
          "text": [
            "<class 'pandas.core.frame.DataFrame'>\n",
            "Int64Index: 344730 entries, 106778 to 3657168\n",
            "Data columns (total 7 columns):\n",
            " #   Column  Non-Null Count   Dtype  \n",
            "---  ------  --------------   -----  \n",
            " 0   DTSM    344730 non-null  float64\n",
            " 1   DTCO    344730 non-null  float64\n",
            " 2   GR      344730 non-null  float64\n",
            " 3   PHID    344730 non-null  float64\n",
            " 4   SPR     344730 non-null  float64\n",
            " 5   PEFZ    344730 non-null  float64\n",
            " 6   RHOZ    344730 non-null  float64\n",
            "dtypes: float64(7)\n",
            "memory usage: 21.0 MB\n"
          ],
          "name": "stdout"
        }
      ]
    },
    {
      "cell_type": "code",
      "metadata": {
        "colab": {
          "base_uri": "https://localhost:8080/"
        },
        "id": "n0m79sz4m7Y5",
        "outputId": "52f30438-58e1-4d4b-9326-89c0ee0acd23"
      },
      "source": [
        "from sklearn.linear_model import LinearRegression\r\n",
        "import statsmodels.api as sm\r\n",
        "\r\n",
        "train_columns = [c for c in train2.columns if c not in ['DTSM']]\r\n",
        "\r\n",
        "model = sm.OLS(train['DTSM'].values, train[train_columns])\r\n",
        "result = model.fit()\r\n",
        "print(result.summary())"
      ],
      "execution_count": null,
      "outputs": [
        {
          "output_type": "stream",
          "text": [
            "                                 OLS Regression Results                                \n",
            "=======================================================================================\n",
            "Dep. Variable:                      y   R-squared (uncentered):                   0.999\n",
            "Model:                            OLS   Adj. R-squared (uncentered):              0.999\n",
            "Method:                 Least Squares   F-statistic:                          5.998e+07\n",
            "Date:                Thu, 25 Feb 2021   Prob (F-statistic):                        0.00\n",
            "Time:                        15:33:22   Log-Likelihood:                      1.6984e+05\n",
            "No. Observations:              344730   AIC:                                 -3.397e+05\n",
            "Df Residuals:                  344724   BIC:                                 -3.396e+05\n",
            "Df Model:                           6                                                  \n",
            "Covariance Type:            nonrobust                                                  \n",
            "==============================================================================\n",
            "                 coef    std err          t      P>|t|      [0.025      0.975]\n",
            "------------------------------------------------------------------------------\n",
            "DTCO           0.0125   2.66e-05    470.791      0.000       0.012       0.013\n",
            "GR             0.0012   8.24e-06    142.457      0.000       0.001       0.001\n",
            "PHID           2.4619      0.004    588.585      0.000       2.454       2.470\n",
            "SPR        -8.401e-05   6.73e-06    -12.483      0.000   -9.72e-05   -7.08e-05\n",
            "PEFZ           0.0236      0.000     57.997      0.000       0.023       0.024\n",
            "RHOZ           1.3789      0.001   1706.813      0.000       1.377       1.381\n",
            "==============================================================================\n",
            "Omnibus:                   142932.296   Durbin-Watson:                   1.901\n",
            "Prob(Omnibus):                  0.000   Jarque-Bera (JB):          3802898.736\n",
            "Skew:                          -1.423   Prob(JB):                         0.00\n",
            "Kurtosis:                      19.021   Cond. No.                     1.88e+03\n",
            "==============================================================================\n",
            "\n",
            "Warnings:\n",
            "[1] Standard Errors assume that the covariance matrix of the errors is correctly specified.\n",
            "[2] The condition number is large, 1.88e+03. This might indicate that there are\n",
            "strong multicollinearity or other numerical problems.\n"
          ],
          "name": "stdout"
        }
      ]
    },
    {
      "cell_type": "code",
      "metadata": {
        "id": "cbc3DHeDYxMG",
        "colab": {
          "base_uri": "https://localhost:8080/",
          "height": 266
        },
        "outputId": "bcb616a2-ed9b-40e1-a56c-43ea70126519"
      },
      "source": [
        "from statsmodels.stats.outliers_influence import variance_inflation_factor\r\n",
        "\r\n",
        "vif = pd.DataFrame()\r\n",
        "\r\n",
        "vif[\"Features\"] = train.columns\r\n",
        "vif[\"VIF Values\"] = [variance_inflation_factor(\r\n",
        "    train.values, i) for i in range(train.shape[1])]\r\n",
        "\r\n",
        "vif.sort_values(by='VIF Values',ascending=False)"
      ],
      "execution_count": null,
      "outputs": [
        {
          "output_type": "execute_result",
          "data": {
            "text/html": [
              "<div>\n",
              "<style scoped>\n",
              "    .dataframe tbody tr th:only-of-type {\n",
              "        vertical-align: middle;\n",
              "    }\n",
              "\n",
              "    .dataframe tbody tr th {\n",
              "        vertical-align: top;\n",
              "    }\n",
              "\n",
              "    .dataframe thead th {\n",
              "        text-align: right;\n",
              "    }\n",
              "</style>\n",
              "<table border=\"1\" class=\"dataframe\">\n",
              "  <thead>\n",
              "    <tr style=\"text-align: right;\">\n",
              "      <th></th>\n",
              "      <th>Features</th>\n",
              "      <th>VIF Values</th>\n",
              "    </tr>\n",
              "  </thead>\n",
              "  <tbody>\n",
              "    <tr>\n",
              "      <th>0</th>\n",
              "      <td>DTSM</td>\n",
              "      <td>1044.889817</td>\n",
              "    </tr>\n",
              "    <tr>\n",
              "      <th>6</th>\n",
              "      <td>RHOZ</td>\n",
              "      <td>656.056584</td>\n",
              "    </tr>\n",
              "    <tr>\n",
              "      <th>1</th>\n",
              "      <td>DTCO</td>\n",
              "      <td>89.635829</td>\n",
              "    </tr>\n",
              "    <tr>\n",
              "      <th>5</th>\n",
              "      <td>PEFZ</td>\n",
              "      <td>34.118191</td>\n",
              "    </tr>\n",
              "    <tr>\n",
              "      <th>2</th>\n",
              "      <td>GR</td>\n",
              "      <td>7.824104</td>\n",
              "    </tr>\n",
              "    <tr>\n",
              "      <th>3</th>\n",
              "      <td>PHID</td>\n",
              "      <td>6.262992</td>\n",
              "    </tr>\n",
              "    <tr>\n",
              "      <th>4</th>\n",
              "      <td>SPR</td>\n",
              "      <td>1.993428</td>\n",
              "    </tr>\n",
              "  </tbody>\n",
              "</table>\n",
              "</div>"
            ],
            "text/plain": [
              "  Features   VIF Values\n",
              "0     DTSM  1044.889817\n",
              "6     RHOZ   656.056584\n",
              "1     DTCO    89.635829\n",
              "5     PEFZ    34.118191\n",
              "2       GR     7.824104\n",
              "3     PHID     6.262992\n",
              "4      SPR     1.993428"
            ]
          },
          "metadata": {
            "tags": []
          },
          "execution_count": 28
        }
      ]
    },
    {
      "cell_type": "code",
      "metadata": {
        "colab": {
          "base_uri": "https://localhost:8080/"
        },
        "id": "VXVt9Kaqz3wM",
        "outputId": "1380947b-4da8-425c-955e-aa14b04514c6"
      },
      "source": [
        "import lightgbm as lgb\r\n",
        "from sklearn.metrics import mean_squared_error\r\n",
        "from sklearn.linear_model import LinearRegression\r\n",
        "from sklearn.model_selection import KFold, cross_val_score\r\n",
        "from sklearn.model_selection import cross_val_predict\r\n",
        "from sklearn.preprocessing import RobustScaler\r\n",
        "from sklearn.pipeline import make_pipeline\r\n",
        "\r\n",
        "from sklearn.linear_model import RidgeCV\r\n",
        "\r\n",
        "param = {'num_leaves': 31,\r\n",
        "         'min_data_in_leaf': 30, \r\n",
        "         'objective':'regression',\r\n",
        "         'max_depth': -1,\r\n",
        "         'learning_rate': 0.015,\r\n",
        "         \"min_child_samples\": 20,\r\n",
        "         \"boosting\": \"gbdt\",\r\n",
        "         \"feature_fraction\": 0.9,\r\n",
        "         \"bagging_freq\": 1,\r\n",
        "         \"bagging_fraction\": 0.9 ,\r\n",
        "         \"bagging_seed\": 11,\r\n",
        "         \"metric\": 'rmse',\r\n",
        "         \"lambda_l1\": 0.1,\r\n",
        "         \"verbosity\": -1,\r\n",
        "         \"nthread\": 4,\r\n",
        "         \"random_state\": 4950}\r\n",
        "\r\n",
        "y_reg = train['DTSM']\r\n",
        "\r\n",
        "#prepare fit model with cross-validation\r\n",
        "folds = KFold(n_splits=5, shuffle=True, random_state=42)\r\n",
        "oof = np.zeros(len(train))\r\n",
        "predictions = np.zeros(len(test))\r\n",
        "feature_importance_df = pd.DataFrame()\r\n",
        "\r\n",
        "#run model\r\n",
        "for fold_, (trn_idx, val_idx) in enumerate(folds.split(train)):\r\n",
        "    trn_data = lgb.Dataset(train.iloc[trn_idx][train_columns], label=y_reg.iloc[trn_idx])#, categorical_feature=categorical_feats)\r\n",
        "    val_data = lgb.Dataset(train.iloc[val_idx][train_columns], label=y_reg.iloc[val_idx])#, categorical_feature=categorical_feats)\r\n",
        "\r\n",
        "    num_round = 30000\r\n",
        "    clf = lgb.train(param, trn_data, num_round, valid_sets = [trn_data, val_data], verbose_eval=500, early_stopping_rounds = 100)\r\n",
        "    oof[val_idx] = clf.predict(train.iloc[val_idx][train_columns], num_iteration=clf.best_iteration)\r\n",
        "    #feature importance\r\n",
        "    fold_importance_df = pd.DataFrame()\r\n",
        "    fold_importance_df[\"Feature\"] = train_columns\r\n",
        "    fold_importance_df[\"importance\"] = clf.feature_importance()\r\n",
        "    fold_importance_df[\"fold\"] = fold_ + 1\r\n",
        "    feature_importance_df = pd.concat([feature_importance_df, fold_importance_df], axis=0)\r\n",
        "    #predictions\r\n",
        "    predictions += clf.predict(test[train_columns], num_iteration=clf.best_iteration) / folds.n_splits\r\n",
        "    \r\n",
        "cv = np.sqrt(mean_squared_error(oof, y_reg))\r\n",
        "print(cv)"
      ],
      "execution_count": null,
      "outputs": [
        {
          "output_type": "stream",
          "text": [
            "Training until validation scores don't improve for 100 rounds.\n",
            "[500]\ttraining's rmse: 0.09487\tvalid_1's rmse: 0.0949631\n",
            "[1000]\ttraining's rmse: 0.0905899\tvalid_1's rmse: 0.0918667\n",
            "[1500]\ttraining's rmse: 0.0881598\tvalid_1's rmse: 0.0903978\n",
            "[2000]\ttraining's rmse: 0.0863876\tvalid_1's rmse: 0.0894695\n",
            "[2500]\ttraining's rmse: 0.0849594\tvalid_1's rmse: 0.0887901\n",
            "[3000]\ttraining's rmse: 0.0837072\tvalid_1's rmse: 0.0882729\n",
            "[3500]\ttraining's rmse: 0.0826832\tvalid_1's rmse: 0.0878761\n",
            "[4000]\ttraining's rmse: 0.0817099\tvalid_1's rmse: 0.0875147\n",
            "[4500]\ttraining's rmse: 0.0808301\tvalid_1's rmse: 0.0872325\n",
            "[5000]\ttraining's rmse: 0.0800666\tvalid_1's rmse: 0.0870173\n",
            "[5500]\ttraining's rmse: 0.0793408\tvalid_1's rmse: 0.0868021\n",
            "[6000]\ttraining's rmse: 0.0786719\tvalid_1's rmse: 0.0866205\n",
            "[6500]\ttraining's rmse: 0.0780312\tvalid_1's rmse: 0.086463\n",
            "[7000]\ttraining's rmse: 0.0774202\tvalid_1's rmse: 0.08631\n",
            "[7500]\ttraining's rmse: 0.0768663\tvalid_1's rmse: 0.086197\n",
            "[8000]\ttraining's rmse: 0.0763189\tvalid_1's rmse: 0.086073\n",
            "[8500]\ttraining's rmse: 0.075823\tvalid_1's rmse: 0.0859814\n",
            "[9000]\ttraining's rmse: 0.0753383\tvalid_1's rmse: 0.0858985\n",
            "[9500]\ttraining's rmse: 0.0748703\tvalid_1's rmse: 0.0858084\n",
            "[10000]\ttraining's rmse: 0.0744337\tvalid_1's rmse: 0.0857457\n",
            "[10500]\ttraining's rmse: 0.073988\tvalid_1's rmse: 0.0856702\n",
            "[11000]\ttraining's rmse: 0.073573\tvalid_1's rmse: 0.0856087\n",
            "[11500]\ttraining's rmse: 0.0731554\tvalid_1's rmse: 0.0855555\n",
            "[12000]\ttraining's rmse: 0.0727411\tvalid_1's rmse: 0.085496\n",
            "[12500]\ttraining's rmse: 0.0723555\tvalid_1's rmse: 0.0854432\n",
            "[13000]\ttraining's rmse: 0.0719815\tvalid_1's rmse: 0.0854056\n",
            "[13500]\ttraining's rmse: 0.071596\tvalid_1's rmse: 0.0853762\n",
            "[14000]\ttraining's rmse: 0.071232\tvalid_1's rmse: 0.0853373\n",
            "[14500]\ttraining's rmse: 0.0708812\tvalid_1's rmse: 0.0852989\n",
            "[15000]\ttraining's rmse: 0.070545\tvalid_1's rmse: 0.0852672\n",
            "[15500]\ttraining's rmse: 0.0701979\tvalid_1's rmse: 0.0852285\n",
            "[16000]\ttraining's rmse: 0.0698689\tvalid_1's rmse: 0.0851966\n",
            "[16500]\ttraining's rmse: 0.0695487\tvalid_1's rmse: 0.085172\n",
            "[17000]\ttraining's rmse: 0.0692344\tvalid_1's rmse: 0.0851448\n",
            "[17500]\ttraining's rmse: 0.0689233\tvalid_1's rmse: 0.0851162\n",
            "[18000]\ttraining's rmse: 0.0686237\tvalid_1's rmse: 0.0850887\n",
            "[18500]\ttraining's rmse: 0.0683164\tvalid_1's rmse: 0.0850633\n",
            "Early stopping, best iteration is:\n",
            "[18829]\ttraining's rmse: 0.0681223\tvalid_1's rmse: 0.0850466\n",
            "Training until validation scores don't improve for 100 rounds.\n",
            "[500]\ttraining's rmse: 0.0943812\tvalid_1's rmse: 0.0979197\n",
            "[1000]\ttraining's rmse: 0.0900343\tvalid_1's rmse: 0.0945834\n",
            "[1500]\ttraining's rmse: 0.0876189\tvalid_1's rmse: 0.0929553\n",
            "[2000]\ttraining's rmse: 0.0858741\tvalid_1's rmse: 0.0919226\n",
            "[2500]\ttraining's rmse: 0.0844379\tvalid_1's rmse: 0.0912138\n",
            "[3000]\ttraining's rmse: 0.0832156\tvalid_1's rmse: 0.0906692\n",
            "[3500]\ttraining's rmse: 0.0821785\tvalid_1's rmse: 0.0902398\n",
            "[4000]\ttraining's rmse: 0.0812155\tvalid_1's rmse: 0.089884\n",
            "[4500]\ttraining's rmse: 0.0803808\tvalid_1's rmse: 0.0896275\n",
            "[5000]\ttraining's rmse: 0.0796041\tvalid_1's rmse: 0.0893975\n",
            "[5500]\ttraining's rmse: 0.0788841\tvalid_1's rmse: 0.0891967\n",
            "[6000]\ttraining's rmse: 0.0782145\tvalid_1's rmse: 0.0890319\n",
            "[6500]\ttraining's rmse: 0.0775858\tvalid_1's rmse: 0.0888735\n",
            "[7000]\ttraining's rmse: 0.0769906\tvalid_1's rmse: 0.0887338\n",
            "[7500]\ttraining's rmse: 0.076421\tvalid_1's rmse: 0.0886192\n",
            "[8000]\ttraining's rmse: 0.0758929\tvalid_1's rmse: 0.088515\n",
            "[8500]\ttraining's rmse: 0.0753877\tvalid_1's rmse: 0.0884319\n",
            "[9000]\ttraining's rmse: 0.0748836\tvalid_1's rmse: 0.0883163\n",
            "[9500]\ttraining's rmse: 0.0744281\tvalid_1's rmse: 0.0882256\n",
            "[10000]\ttraining's rmse: 0.0739656\tvalid_1's rmse: 0.0881501\n",
            "[10500]\ttraining's rmse: 0.0735319\tvalid_1's rmse: 0.0880751\n",
            "[11000]\ttraining's rmse: 0.0731134\tvalid_1's rmse: 0.0880138\n",
            "[11500]\ttraining's rmse: 0.0727018\tvalid_1's rmse: 0.0879618\n",
            "[12000]\ttraining's rmse: 0.0723049\tvalid_1's rmse: 0.0879119\n",
            "Early stopping, best iteration is:\n",
            "[12373]\ttraining's rmse: 0.0720099\tvalid_1's rmse: 0.0878696\n",
            "Training until validation scores don't improve for 100 rounds.\n",
            "[500]\ttraining's rmse: 0.0946993\tvalid_1's rmse: 0.0964561\n",
            "[1000]\ttraining's rmse: 0.0903394\tvalid_1's rmse: 0.0932184\n",
            "[1500]\ttraining's rmse: 0.0879794\tvalid_1's rmse: 0.0916966\n",
            "[2000]\ttraining's rmse: 0.0862043\tvalid_1's rmse: 0.0907002\n",
            "[2500]\ttraining's rmse: 0.0847334\tvalid_1's rmse: 0.0899647\n",
            "[3000]\ttraining's rmse: 0.0834802\tvalid_1's rmse: 0.0894713\n",
            "[3500]\ttraining's rmse: 0.0823905\tvalid_1's rmse: 0.0890761\n",
            "[4000]\ttraining's rmse: 0.0814312\tvalid_1's rmse: 0.0887202\n",
            "[4500]\ttraining's rmse: 0.0805817\tvalid_1's rmse: 0.0884362\n",
            "[5000]\ttraining's rmse: 0.0797949\tvalid_1's rmse: 0.0881778\n",
            "[5500]\ttraining's rmse: 0.0790682\tvalid_1's rmse: 0.0879767\n",
            "[6000]\ttraining's rmse: 0.0783755\tvalid_1's rmse: 0.0877972\n",
            "[6500]\ttraining's rmse: 0.0777171\tvalid_1's rmse: 0.087622\n",
            "[7000]\ttraining's rmse: 0.0771205\tvalid_1's rmse: 0.0874864\n",
            "[7500]\ttraining's rmse: 0.0765629\tvalid_1's rmse: 0.0873881\n",
            "[8000]\ttraining's rmse: 0.0760185\tvalid_1's rmse: 0.0872687\n",
            "[8500]\ttraining's rmse: 0.0755036\tvalid_1's rmse: 0.0871655\n",
            "[9000]\ttraining's rmse: 0.0750074\tvalid_1's rmse: 0.0870806\n",
            "[9500]\ttraining's rmse: 0.0745238\tvalid_1's rmse: 0.0869948\n",
            "[10000]\ttraining's rmse: 0.0740634\tvalid_1's rmse: 0.0869092\n",
            "[10500]\ttraining's rmse: 0.0736054\tvalid_1's rmse: 0.0868417\n",
            "[11000]\ttraining's rmse: 0.073169\tvalid_1's rmse: 0.0867684\n",
            "[11500]\ttraining's rmse: 0.0727696\tvalid_1's rmse: 0.0867318\n",
            "[12000]\ttraining's rmse: 0.0723651\tvalid_1's rmse: 0.0866748\n",
            "[12500]\ttraining's rmse: 0.0719781\tvalid_1's rmse: 0.0866271\n",
            "[13000]\ttraining's rmse: 0.0715859\tvalid_1's rmse: 0.0865684\n",
            "[13500]\ttraining's rmse: 0.071216\tvalid_1's rmse: 0.0865331\n",
            "[14000]\ttraining's rmse: 0.0708507\tvalid_1's rmse: 0.0864841\n",
            "[14500]\ttraining's rmse: 0.0705049\tvalid_1's rmse: 0.0864645\n",
            "Early stopping, best iteration is:\n",
            "[14439]\ttraining's rmse: 0.070547\tvalid_1's rmse: 0.0864582\n",
            "Training until validation scores don't improve for 100 rounds.\n",
            "[500]\ttraining's rmse: 0.0945585\tvalid_1's rmse: 0.0963916\n",
            "[1000]\ttraining's rmse: 0.090387\tvalid_1's rmse: 0.0931177\n",
            "[1500]\ttraining's rmse: 0.087959\tvalid_1's rmse: 0.0914763\n",
            "[2000]\ttraining's rmse: 0.0861907\tvalid_1's rmse: 0.0904208\n",
            "[2500]\ttraining's rmse: 0.0847601\tvalid_1's rmse: 0.0896986\n",
            "[3000]\ttraining's rmse: 0.083529\tvalid_1's rmse: 0.0891537\n",
            "[3500]\ttraining's rmse: 0.0824493\tvalid_1's rmse: 0.0887074\n",
            "[4000]\ttraining's rmse: 0.0814953\tvalid_1's rmse: 0.0883654\n",
            "[4500]\ttraining's rmse: 0.0806073\tvalid_1's rmse: 0.0880851\n",
            "[5000]\ttraining's rmse: 0.0798026\tvalid_1's rmse: 0.087875\n",
            "[5500]\ttraining's rmse: 0.0790514\tvalid_1's rmse: 0.0876632\n",
            "[6000]\ttraining's rmse: 0.0783868\tvalid_1's rmse: 0.0875057\n",
            "[6500]\ttraining's rmse: 0.0777468\tvalid_1's rmse: 0.0873361\n",
            "[7000]\ttraining's rmse: 0.0771571\tvalid_1's rmse: 0.087204\n",
            "[7500]\ttraining's rmse: 0.0765798\tvalid_1's rmse: 0.0871089\n",
            "[8000]\ttraining's rmse: 0.0760451\tvalid_1's rmse: 0.0870183\n",
            "[8500]\ttraining's rmse: 0.0755124\tvalid_1's rmse: 0.0869066\n",
            "[9000]\ttraining's rmse: 0.0749958\tvalid_1's rmse: 0.0868138\n",
            "[9500]\ttraining's rmse: 0.0745191\tvalid_1's rmse: 0.0867424\n",
            "[10000]\ttraining's rmse: 0.0740519\tvalid_1's rmse: 0.0866645\n",
            "[10500]\ttraining's rmse: 0.0736082\tvalid_1's rmse: 0.0866145\n",
            "[11000]\ttraining's rmse: 0.0731772\tvalid_1's rmse: 0.0865536\n",
            "[11500]\ttraining's rmse: 0.0727566\tvalid_1's rmse: 0.0865002\n",
            "[12000]\ttraining's rmse: 0.0723575\tvalid_1's rmse: 0.0864511\n",
            "[12500]\ttraining's rmse: 0.0719639\tvalid_1's rmse: 0.0864048\n",
            "[13000]\ttraining's rmse: 0.0715779\tvalid_1's rmse: 0.0863534\n",
            "[13500]\ttraining's rmse: 0.0712016\tvalid_1's rmse: 0.0863083\n",
            "[14000]\ttraining's rmse: 0.0708226\tvalid_1's rmse: 0.0862702\n",
            "[14500]\ttraining's rmse: 0.0704623\tvalid_1's rmse: 0.0862336\n",
            "Early stopping, best iteration is:\n",
            "[14445]\ttraining's rmse: 0.0705002\tvalid_1's rmse: 0.0862317\n",
            "Training until validation scores don't improve for 100 rounds.\n",
            "[500]\ttraining's rmse: 0.0948226\tvalid_1's rmse: 0.0957272\n",
            "[1000]\ttraining's rmse: 0.0905411\tvalid_1's rmse: 0.0924616\n",
            "[1500]\ttraining's rmse: 0.0881827\tvalid_1's rmse: 0.0909079\n",
            "[2000]\ttraining's rmse: 0.0864301\tvalid_1's rmse: 0.0898795\n",
            "[2500]\ttraining's rmse: 0.0850046\tvalid_1's rmse: 0.0891474\n",
            "[3000]\ttraining's rmse: 0.0837792\tvalid_1's rmse: 0.088635\n",
            "[3500]\ttraining's rmse: 0.0827173\tvalid_1's rmse: 0.0882405\n",
            "[4000]\ttraining's rmse: 0.0817418\tvalid_1's rmse: 0.0879159\n",
            "[4500]\ttraining's rmse: 0.0808628\tvalid_1's rmse: 0.0876446\n",
            "[5000]\ttraining's rmse: 0.0800646\tvalid_1's rmse: 0.0874295\n",
            "[5500]\ttraining's rmse: 0.0793412\tvalid_1's rmse: 0.0872376\n",
            "[6000]\ttraining's rmse: 0.0786506\tvalid_1's rmse: 0.0870591\n",
            "[6500]\ttraining's rmse: 0.0780065\tvalid_1's rmse: 0.0869057\n",
            "[7000]\ttraining's rmse: 0.0774105\tvalid_1's rmse: 0.0867903\n",
            "[7500]\ttraining's rmse: 0.0768555\tvalid_1's rmse: 0.0866638\n",
            "[8000]\ttraining's rmse: 0.0763103\tvalid_1's rmse: 0.0865443\n",
            "[8500]\ttraining's rmse: 0.0757726\tvalid_1's rmse: 0.0864515\n",
            "[9000]\ttraining's rmse: 0.0752616\tvalid_1's rmse: 0.0863748\n",
            "[9500]\ttraining's rmse: 0.0747906\tvalid_1's rmse: 0.0863053\n",
            "[10000]\ttraining's rmse: 0.0743405\tvalid_1's rmse: 0.0862377\n",
            "[10500]\ttraining's rmse: 0.0738926\tvalid_1's rmse: 0.0861707\n",
            "[11000]\ttraining's rmse: 0.073463\tvalid_1's rmse: 0.0861093\n",
            "[11500]\ttraining's rmse: 0.0730477\tvalid_1's rmse: 0.0860528\n",
            "[12000]\ttraining's rmse: 0.0726432\tvalid_1's rmse: 0.086009\n",
            "[12500]\ttraining's rmse: 0.0722487\tvalid_1's rmse: 0.0859535\n",
            "[13000]\ttraining's rmse: 0.0718708\tvalid_1's rmse: 0.0859011\n",
            "[13500]\ttraining's rmse: 0.0714924\tvalid_1's rmse: 0.0858597\n",
            "[14000]\ttraining's rmse: 0.0711367\tvalid_1's rmse: 0.0858073\n",
            "Early stopping, best iteration is:\n",
            "[13999]\ttraining's rmse: 0.0711372\tvalid_1's rmse: 0.0858069\n",
            "0.08628760045567528\n"
          ],
          "name": "stdout"
        }
      ]
    },
    {
      "cell_type": "code",
      "metadata": {
        "colab": {
          "base_uri": "https://localhost:8080/"
        },
        "id": "jaxACvIVz33m",
        "outputId": "cda0ac09-2cec-47b7-d98c-9c9702b35c42"
      },
      "source": [
        "cv1 = np.sqrt(mean_squared_error(oof, np.array(y_reg)))\r\n",
        "print(cv1)"
      ],
      "execution_count": null,
      "outputs": [
        {
          "output_type": "stream",
          "text": [
            "0.08628760045567528\n"
          ],
          "name": "stdout"
        }
      ]
    },
    {
      "cell_type": "code",
      "metadata": {
        "colab": {
          "base_uri": "https://localhost:8080/",
          "height": 365
        },
        "id": "QSeGtGJmz37A",
        "outputId": "5e115479-9c14-4535-a567-6910be789377"
      },
      "source": [
        "##plot the feature importance\r\n",
        "cols = (feature_importance_df[[\"Feature\", \"importance\"]]\r\n",
        "        .groupby(\"Feature\")\r\n",
        "        .mean()\r\n",
        "        .sort_values(by=\"importance\", ascending=False)[:1000].index)\r\n",
        "best_features = feature_importance_df.loc[feature_importance_df.Feature.isin(cols)]\r\n",
        "\r\n",
        "plt.figure(figsize=(14,5))\r\n",
        "sns.barplot(x=\"importance\", y=\"Feature\", data=best_features.sort_values(by=\"importance\",ascending=False))\r\n",
        "plt.title('LightGBM Features (averaged over folds)')\r\n",
        "plt.tight_layout()\r\n",
        "plt.savefig('lgbm_importances.png')"
      ],
      "execution_count": null,
      "outputs": [
        {
          "output_type": "display_data",
          "data": {
            "image/png": "[encoded data removed]",
            "text/plain": [
              "<Figure size 1008x360 with 1 Axes>"
            ]
          },
          "metadata": {
            "tags": []
          }
        }
      ]
    },
    {
      "cell_type": "code",
      "metadata": {
        "colab": {
          "base_uri": "https://localhost:8080/",
          "height": 395
        },
        "id": "H49us3g1z3-U",
        "outputId": "725ae6bc-c3e8-4776-acfa-acbd7d4cfd1b"
      },
      "source": [
        "df_oof = pd.DataFrame(oof)\r\n",
        "df_y_reg = pd.DataFrame(y_reg)\r\n",
        "\r\n",
        "data = pd.concat([df_oof, df_y_reg], axis=1)\r\n",
        "data.columns = ['oof','y_reg']\r\n",
        "f, ax = plt.subplots(figsize=(8, 6))\r\n",
        "fig = sns.regplot(x='oof', y=\"y_reg\", data=data)"
      ],
      "execution_count": null,
      "outputs": [
        {
          "output_type": "display_data",
          "data": {
            "image/png": "[encoded data removed]",
            "text/plain": [
              "<Figure size 576x432 with 1 Axes>"
            ]
          },
          "metadata": {
            "tags": []
          }
        }
      ]
    },
    {
      "cell_type": "code",
      "metadata": {
        "colab": {
          "base_uri": "https://localhost:8080/",
          "height": 395
        },
        "id": "I9YUUyxMz4A0",
        "outputId": "1917b528-6d1d-4f0e-8e6e-4e079b79ebe1"
      },
      "source": [
        "data = pd.concat([df_oof, df_y_reg], axis=1)\r\n",
        "data.columns = ['oof','y_reg']\r\n",
        "data['error'] = data['y_reg'] - data['oof']\r\n",
        "f, ax = plt.subplots(figsize=(8, 6))\r\n",
        "fig = sns.regplot(x='y_reg', y=\"error\", data=data)"
      ],
      "execution_count": null,
      "outputs": [
        {
          "output_type": "display_data",
          "data": {
            "image/png": "[encoded data removed]",
            "text/plain": [
              "<Figure size 576x432 with 1 Axes>"
            ]
          },
          "metadata": {
            "tags": []
          }
        }
      ]
    },
    {
      "cell_type": "markdown",
      "metadata": {
        "id": "vRwf2DlV1ozO"
      },
      "source": [
        "## Ensemble"
      ]
    },
    {
      "cell_type": "code",
      "metadata": {
        "colab": {
          "base_uri": "https://localhost:8080/"
        },
        "id": "kB5r5LMh1DCP",
        "outputId": "b4eac64f-5e1e-436a-f30d-ab4ea7e20cfe"
      },
      "source": [
        "lgb1_oof = pd.DataFrame()\r\n",
        "#lgb1_oof['id'] = df_train.id\r\n",
        "lgb1_oof['DTSM'] = oof\r\n",
        "\r\n",
        "lgb1_sub = pd.DataFrame()\r\n",
        "#lgb1_sub['id'] = df_test.id\r\n",
        "lgb1_sub['DTSM'] = predictions\r\n",
        "\r\n",
        "cv1 = np.sqrt(mean_squared_error(oof, np.array(y_reg)))\r\n",
        "print(cv1)"
      ],
      "execution_count": null,
      "outputs": [
        {
          "output_type": "stream",
          "text": [
            "0.08628760045567528\n"
          ],
          "name": "stdout"
        }
      ]
    },
    {
      "cell_type": "code",
      "metadata": {
        "colab": {
          "base_uri": "https://localhost:8080/"
        },
        "id": "rVB_OEK91tFW",
        "outputId": "9841a1d6-69ba-42c5-fd0f-7d1eefaf9214"
      },
      "source": [
        "# code : https://www.kaggle.com/karell/kakr-2nd-house-price-xgb-starter-109145\r\n",
        "import xgboost as xgb\r\n",
        "\r\n",
        "xgb_params = {\r\n",
        "    'eta': 0.01,\r\n",
        "    'max_depth': 6,\r\n",
        "    'subsample': 0.8,\r\n",
        "    'colsample_bytree': 0.8,\r\n",
        "    'objective': 'reg:linear',\r\n",
        "    'eval_metric': 'rmse',\r\n",
        "    'silent': 1\r\n",
        "}\r\n",
        "\r\n",
        "log_y_reg = np.log1p(y_reg)\r\n",
        "print('Transform DMatrix...')\r\n",
        "dtrain = xgb.DMatrix(train[train_columns], log_y_reg)\r\n",
        "dtest = xgb.DMatrix(test[train_columns])\r\n",
        "\r\n",
        "print('Start Cross Validation...')\r\n",
        "\r\n",
        "cv_output = xgb.cv(xgb_params, dtrain, num_boost_round=30000, early_stopping_rounds=50,verbose_eval=500, show_stdv=False)\r\n",
        "print('best num_boost_rounds = ', len(cv_output))\r\n",
        "rounds = len(cv_output)\r\n",
        "\r\n",
        "model = xgb.train(xgb_params, dtrain, num_boost_round = rounds)\r\n",
        "preds = model.predict(dtest)"
      ],
      "execution_count": null,
      "outputs": [
        {
          "output_type": "stream",
          "text": [
            "Transform DMatrix...\n",
            "Start Cross Validation...\n",
            "[0]\ttrain-rmse:1.24051\ttest-rmse:1.24051\n",
            "[500]\ttrain-rmse:0.0193843\ttest-rmse:0.0196933\n",
            "[1000]\ttrain-rmse:0.01656\ttest-rmse:0.0171023\n",
            "[1500]\ttrain-rmse:0.016076\ttest-rmse:0.016825\n",
            "[2000]\ttrain-rmse:0.0157153\ttest-rmse:0.016664\n",
            "[2500]\ttrain-rmse:0.015419\ttest-rmse:0.0165547\n",
            "[3000]\ttrain-rmse:0.0151673\ttest-rmse:0.0164753\n",
            "[3500]\ttrain-rmse:0.0149437\ttest-rmse:0.016414\n",
            "[4000]\ttrain-rmse:0.0147413\ttest-rmse:0.016366\n",
            "[4500]\ttrain-rmse:0.0145583\ttest-rmse:0.016327\n",
            "[5000]\ttrain-rmse:0.014394\ttest-rmse:0.0162953\n",
            "[5500]\ttrain-rmse:0.0142307\ttest-rmse:0.016264\n",
            "[6000]\ttrain-rmse:0.014077\ttest-rmse:0.0162383\n",
            "[6500]\ttrain-rmse:0.0139333\ttest-rmse:0.0162157\n",
            "[7000]\ttrain-rmse:0.0137977\ttest-rmse:0.0161943\n",
            "[7500]\ttrain-rmse:0.0136647\ttest-rmse:0.0161737\n",
            "[8000]\ttrain-rmse:0.0135417\ttest-rmse:0.0161567\n",
            "[8500]\ttrain-rmse:0.0134193\ttest-rmse:0.0161413\n",
            "[9000]\ttrain-rmse:0.0133043\ttest-rmse:0.016129\n",
            "[9500]\ttrain-rmse:0.013191\ttest-rmse:0.0161157\n",
            "[10000]\ttrain-rmse:0.013082\ttest-rmse:0.0161043\n",
            "[10500]\ttrain-rmse:0.012975\ttest-rmse:0.0160927\n",
            "[11000]\ttrain-rmse:0.012873\ttest-rmse:0.0160817\n",
            "best num_boost_rounds =  11118\n"
          ],
          "name": "stdout"
        }
      ]
    },
    {
      "cell_type": "code",
      "metadata": {
        "id": "s39H30lzQTOh"
      },
      "source": [
        "preds2 = preds"
      ],
      "execution_count": null,
      "outputs": []
    },
    {
      "cell_type": "code",
      "metadata": {
        "id": "dqMvIrz4fEjU"
      },
      "source": [
        "preds1 = np.expm1(lgb1_sub['DTSM'])"
      ],
      "execution_count": null,
      "outputs": []
    },
    {
      "cell_type": "code",
      "metadata": {
        "colab": {
          "base_uri": "https://localhost:8080/"
        },
        "id": "3Pzhu8cHiyzV",
        "outputId": "f635a46b-279a-4b03-b49b-7648f47dfff2"
      },
      "source": [
        "pip install catboost"
      ],
      "execution_count": null,
      "outputs": [
        {
          "output_type": "stream",
          "text": [
            "Collecting catboost\n",
            "\u001b[?25l  Downloading https://files.pythonhosted.org/packages/96/3b/bb419654adcf7efff42ed8a3f84e50c8f236424b7ed1cc8ccd290852e003/catboost-0.24.4-cp37-none-manylinux1_x86_64.whl (65.7MB)\n",
            "\u001b[K     |████████████████████████████████| 65.7MB 81kB/s \n",
            "\u001b[?25hRequirement already satisfied: plotly in /usr/local/lib/python3.7/dist-packages (from catboost) (4.4.1)\n",
            "Requirement already satisfied: numpy>=1.16.0 in /usr/local/lib/python3.7/dist-packages (from catboost) (1.19.5)\n",
            "Requirement already satisfied: graphviz in /usr/local/lib/python3.7/dist-packages (from catboost) (0.10.1)\n",
            "Requirement already satisfied: pandas>=0.24.0 in /usr/local/lib/python3.7/dist-packages (from catboost) (1.1.5)\n",
            "Requirement already satisfied: matplotlib in /usr/local/lib/python3.7/dist-packages (from catboost) (3.2.2)\n",
            "Requirement already satisfied: scipy in /usr/local/lib/python3.7/dist-packages (from catboost) (1.4.1)\n",
            "Requirement already satisfied: six in /usr/local/lib/python3.7/dist-packages (from catboost) (1.15.0)\n",
            "Requirement already satisfied: retrying>=1.3.3 in /usr/local/lib/python3.7/dist-packages (from plotly->catboost) (1.3.3)\n",
            "Requirement already satisfied: python-dateutil>=2.7.3 in /usr/local/lib/python3.7/dist-packages (from pandas>=0.24.0->catboost) (2.8.1)\n",
            "Requirement already satisfied: pytz>=2017.2 in /usr/local/lib/python3.7/dist-packages (from pandas>=0.24.0->catboost) (2018.9)\n",
            "Requirement already satisfied: pyparsing!=2.0.4,!=2.1.2,!=2.1.6,>=2.0.1 in /usr/local/lib/python3.7/dist-packages (from matplotlib->catboost) (2.4.7)\n",
            "Requirement already satisfied: kiwisolver>=1.0.1 in /usr/local/lib/python3.7/dist-packages (from matplotlib->catboost) (1.3.1)\n",
            "Requirement already satisfied: cycler>=0.10 in /usr/local/lib/python3.7/dist-packages (from matplotlib->catboost) (0.10.0)\n",
            "Installing collected packages: catboost\n",
            "Successfully installed catboost-0.24.4\n"
          ],
          "name": "stdout"
        }
      ]
    },
    {
      "cell_type": "code",
      "metadata": {
        "id": "ITnQ5LATQVJZ"
      },
      "source": [
        "from catboost import CatBoostRegressor\r\n",
        "\r\n",
        "# catboost model params\r\n",
        "cat_params = {\r\n",
        "    'n_estimators': 10000,\r\n",
        "    'learning_rate': 0.07,\r\n",
        "    #'eval_metric': 'TotalF1', # 'TotalF1'\r\n",
        "    'eval_metric': 'RMSE',\r\n",
        "    #'eval_metric': 'Logloss',\r\n",
        "    'loss_function': 'Logloss',\r\n",
        "    'random_seed': 42,\r\n",
        "    'metric_period': 100,\r\n",
        "    'od_wait': 100,\r\n",
        "    'task_type': 'GPU',\r\n",
        "    'depth': 6,\r\n",
        "    #'bootstrap_type': 'Bayesian',\r\n",
        "    'rsm': 0.8,\r\n",
        "    #'colsample_bylevel': 0.7,\r\n",
        "}\r\n"
      ],
      "execution_count": null,
      "outputs": []
    },
    {
      "cell_type": "code",
      "metadata": {
        "colab": {
          "base_uri": "https://localhost:8080/"
        },
        "id": "iQqoe4xKREg_",
        "outputId": "dd50a280-6e20-4610-a2c7-24fae1e46138"
      },
      "source": [
        "model = CatBoostRegressor(iterations=60000, depth=6, learning_rate=0.01, metric_period=200,\r\n",
        "                           eval_metric='RMSE', \r\n",
        "                           use_best_model=True,\r\n",
        "                           random_seed=42)\r\n",
        "\r\n",
        "model.fit(\r\n",
        "    train2, y,\r\n",
        "    # cat_features=categorical_features_indices,\r\n",
        "    # verbose=True,  # you can uncomment this for text output\r\n",
        "    # plot=True, # does not work for classifier\r\n",
        "    eval_set=(train2, y)    \r\n",
        ")"
      ],
      "execution_count": null,
      "outputs": [
        {
          "output_type": "stream",
          "text": [
            "0:\tlearn: 0.2358973\ttest: 0.2358973\tbest: 0.2358973 (0)\ttotal: 81.4ms\tremaining: 1h 21m 22s\n",
            "200:\tlearn: 0.1186471\ttest: 0.1186471\tbest: 0.1186471 (200)\ttotal: 5.5s\tremaining: 27m 17s\n",
            "400:\tlearn: 0.1081433\ttest: 0.1081433\tbest: 0.1081433 (400)\ttotal: 10.8s\tremaining: 26m 42s\n",
            "600:\tlearn: 0.1046523\ttest: 0.1046523\tbest: 0.1046523 (600)\ttotal: 15.9s\tremaining: 26m 14s\n",
            "800:\tlearn: 0.1020983\ttest: 0.1020983\tbest: 0.1020983 (800)\ttotal: 21.1s\tremaining: 26m 1s\n",
            "1000:\tlearn: 0.1005099\ttest: 0.1005099\tbest: 0.1005099 (1000)\ttotal: 26.4s\tremaining: 25m 53s\n",
            "1200:\tlearn: 0.0992719\ttest: 0.0992719\tbest: 0.0992719 (1200)\ttotal: 31.6s\tremaining: 25m 48s\n",
            "1400:\tlearn: 0.0982868\ttest: 0.0982868\tbest: 0.0982868 (1400)\ttotal: 36.9s\tremaining: 25m 42s\n",
            "1600:\tlearn: 0.0974993\ttest: 0.0974993\tbest: 0.0974993 (1600)\ttotal: 42.1s\tremaining: 25m 34s\n",
            "1800:\tlearn: 0.0967813\ttest: 0.0967813\tbest: 0.0967813 (1800)\ttotal: 47.2s\tremaining: 25m 26s\n",
            "2000:\tlearn: 0.0961540\ttest: 0.0961540\tbest: 0.0961540 (2000)\ttotal: 52.5s\tremaining: 25m 20s\n",
            "2200:\tlearn: 0.0955472\ttest: 0.0955472\tbest: 0.0955472 (2200)\ttotal: 57.7s\tremaining: 25m 16s\n",
            "2400:\tlearn: 0.0950589\ttest: 0.0950589\tbest: 0.0950589 (2400)\ttotal: 1m 2s\tremaining: 25m 11s\n",
            "2600:\tlearn: 0.0946016\ttest: 0.0946016\tbest: 0.0946016 (2600)\ttotal: 1m 8s\tremaining: 25m 6s\n",
            "2800:\tlearn: 0.0941895\ttest: 0.0941895\tbest: 0.0941895 (2800)\ttotal: 1m 13s\tremaining: 25m 1s\n",
            "3000:\tlearn: 0.0938180\ttest: 0.0938180\tbest: 0.0938180 (3000)\ttotal: 1m 18s\tremaining: 24m 56s\n",
            "3200:\tlearn: 0.0934451\ttest: 0.0934451\tbest: 0.0934451 (3200)\ttotal: 1m 23s\tremaining: 24m 50s\n",
            "3400:\tlearn: 0.0931072\ttest: 0.0931072\tbest: 0.0931072 (3400)\ttotal: 1m 29s\tremaining: 24m 44s\n",
            "3600:\tlearn: 0.0927947\ttest: 0.0927947\tbest: 0.0927947 (3600)\ttotal: 1m 34s\tremaining: 24m 39s\n",
            "3800:\tlearn: 0.0925014\ttest: 0.0925014\tbest: 0.0925014 (3800)\ttotal: 1m 39s\tremaining: 24m 33s\n",
            "4000:\tlearn: 0.0922285\ttest: 0.0922285\tbest: 0.0922285 (4000)\ttotal: 1m 44s\tremaining: 24m 27s\n",
            "4200:\tlearn: 0.0919846\ttest: 0.0919846\tbest: 0.0919846 (4200)\ttotal: 1m 50s\tremaining: 24m 21s\n",
            "4400:\tlearn: 0.0917499\ttest: 0.0917499\tbest: 0.0917499 (4400)\ttotal: 1m 55s\tremaining: 24m 15s\n",
            "4600:\tlearn: 0.0915286\ttest: 0.0915286\tbest: 0.0915286 (4600)\ttotal: 2m\tremaining: 24m 11s\n",
            "4800:\tlearn: 0.0913168\ttest: 0.0913168\tbest: 0.0913168 (4800)\ttotal: 2m 5s\tremaining: 24m 7s\n",
            "5000:\tlearn: 0.0911259\ttest: 0.0911259\tbest: 0.0911259 (5000)\ttotal: 2m 11s\tremaining: 24m 1s\n",
            "5200:\tlearn: 0.0909235\ttest: 0.0909235\tbest: 0.0909235 (5200)\ttotal: 2m 16s\tremaining: 23m 55s\n",
            "5400:\tlearn: 0.0907254\ttest: 0.0907254\tbest: 0.0907254 (5400)\ttotal: 2m 21s\tremaining: 23m 50s\n",
            "5600:\tlearn: 0.0905389\ttest: 0.0905389\tbest: 0.0905389 (5600)\ttotal: 2m 26s\tremaining: 23m 44s\n",
            "5800:\tlearn: 0.0903610\ttest: 0.0903610\tbest: 0.0903610 (5800)\ttotal: 2m 31s\tremaining: 23m 38s\n",
            "6000:\tlearn: 0.0901914\ttest: 0.0901914\tbest: 0.0901914 (6000)\ttotal: 2m 37s\tremaining: 23m 33s\n",
            "6200:\tlearn: 0.0900266\ttest: 0.0900266\tbest: 0.0900266 (6200)\ttotal: 2m 42s\tremaining: 23m 27s\n",
            "6400:\tlearn: 0.0898728\ttest: 0.0898728\tbest: 0.0898728 (6400)\ttotal: 2m 47s\tremaining: 23m 22s\n",
            "6600:\tlearn: 0.0897230\ttest: 0.0897230\tbest: 0.0897230 (6600)\ttotal: 2m 52s\tremaining: 23m 16s\n",
            "6800:\tlearn: 0.0895626\ttest: 0.0895626\tbest: 0.0895626 (6800)\ttotal: 2m 57s\tremaining: 23m 12s\n",
            "7000:\tlearn: 0.0894122\ttest: 0.0894122\tbest: 0.0894122 (7000)\ttotal: 3m 3s\tremaining: 23m 6s\n",
            "7200:\tlearn: 0.0892650\ttest: 0.0892650\tbest: 0.0892650 (7200)\ttotal: 3m 8s\tremaining: 23m 1s\n",
            "7400:\tlearn: 0.0891259\ttest: 0.0891259\tbest: 0.0891259 (7400)\ttotal: 3m 13s\tremaining: 22m 56s\n",
            "7600:\tlearn: 0.0889926\ttest: 0.0889926\tbest: 0.0889926 (7600)\ttotal: 3m 18s\tremaining: 22m 51s\n",
            "7800:\tlearn: 0.0888574\ttest: 0.0888574\tbest: 0.0888574 (7800)\ttotal: 3m 24s\tremaining: 22m 46s\n",
            "8000:\tlearn: 0.0887247\ttest: 0.0887247\tbest: 0.0887247 (8000)\ttotal: 3m 29s\tremaining: 22m 40s\n",
            "8200:\tlearn: 0.0885943\ttest: 0.0885943\tbest: 0.0885943 (8200)\ttotal: 3m 34s\tremaining: 22m 35s\n",
            "8400:\tlearn: 0.0884721\ttest: 0.0884721\tbest: 0.0884721 (8400)\ttotal: 3m 39s\tremaining: 22m 29s\n",
            "8600:\tlearn: 0.0883608\ttest: 0.0883608\tbest: 0.0883608 (8600)\ttotal: 3m 44s\tremaining: 22m 24s\n",
            "8800:\tlearn: 0.0882449\ttest: 0.0882449\tbest: 0.0882449 (8800)\ttotal: 3m 50s\tremaining: 22m 19s\n",
            "9000:\tlearn: 0.0881341\ttest: 0.0881341\tbest: 0.0881341 (9000)\ttotal: 3m 55s\tremaining: 22m 14s\n",
            "9200:\tlearn: 0.0880242\ttest: 0.0880242\tbest: 0.0880242 (9200)\ttotal: 4m\tremaining: 22m 8s\n",
            "9400:\tlearn: 0.0879075\ttest: 0.0879075\tbest: 0.0879075 (9400)\ttotal: 4m 5s\tremaining: 22m 3s\n",
            "9600:\tlearn: 0.0877939\ttest: 0.0877939\tbest: 0.0877939 (9600)\ttotal: 4m 11s\tremaining: 21m 57s\n",
            "9800:\tlearn: 0.0876823\ttest: 0.0876823\tbest: 0.0876823 (9800)\ttotal: 4m 16s\tremaining: 21m 52s\n",
            "10000:\tlearn: 0.0875788\ttest: 0.0875788\tbest: 0.0875788 (10000)\ttotal: 4m 21s\tremaining: 21m 47s\n",
            "10200:\tlearn: 0.0874797\ttest: 0.0874797\tbest: 0.0874797 (10200)\ttotal: 4m 26s\tremaining: 21m 41s\n",
            "10400:\tlearn: 0.0873760\ttest: 0.0873760\tbest: 0.0873760 (10400)\ttotal: 4m 31s\tremaining: 21m 36s\n",
            "10600:\tlearn: 0.0872789\ttest: 0.0872789\tbest: 0.0872789 (10600)\ttotal: 4m 37s\tremaining: 21m 30s\n",
            "10800:\tlearn: 0.0871791\ttest: 0.0871791\tbest: 0.0871791 (10800)\ttotal: 4m 42s\tremaining: 21m 25s\n",
            "11000:\tlearn: 0.0870802\ttest: 0.0870802\tbest: 0.0870802 (11000)\ttotal: 4m 47s\tremaining: 21m 19s\n",
            "11200:\tlearn: 0.0869855\ttest: 0.0869855\tbest: 0.0869855 (11200)\ttotal: 4m 52s\tremaining: 21m 14s\n",
            "11400:\tlearn: 0.0868885\ttest: 0.0868885\tbest: 0.0868885 (11400)\ttotal: 4m 57s\tremaining: 21m 9s\n",
            "11600:\tlearn: 0.0867952\ttest: 0.0867952\tbest: 0.0867952 (11600)\ttotal: 5m 2s\tremaining: 21m 3s\n",
            "11800:\tlearn: 0.0866995\ttest: 0.0866995\tbest: 0.0866995 (11800)\ttotal: 5m 8s\tremaining: 20m 58s\n",
            "12000:\tlearn: 0.0865964\ttest: 0.0865964\tbest: 0.0865964 (12000)\ttotal: 5m 13s\tremaining: 20m 53s\n",
            "12200:\tlearn: 0.0864982\ttest: 0.0864982\tbest: 0.0864982 (12200)\ttotal: 5m 18s\tremaining: 20m 47s\n",
            "12400:\tlearn: 0.0864044\ttest: 0.0864044\tbest: 0.0864044 (12400)\ttotal: 5m 23s\tremaining: 20m 42s\n",
            "12600:\tlearn: 0.0863138\ttest: 0.0863138\tbest: 0.0863138 (12600)\ttotal: 5m 28s\tremaining: 20m 37s\n",
            "12800:\tlearn: 0.0862212\ttest: 0.0862212\tbest: 0.0862212 (12800)\ttotal: 5m 34s\tremaining: 20m 31s\n",
            "13000:\tlearn: 0.0861271\ttest: 0.0861271\tbest: 0.0861271 (13000)\ttotal: 5m 39s\tremaining: 20m 26s\n",
            "13200:\tlearn: 0.0860405\ttest: 0.0860405\tbest: 0.0860405 (13200)\ttotal: 5m 44s\tremaining: 20m 21s\n",
            "13400:\tlearn: 0.0859546\ttest: 0.0859546\tbest: 0.0859546 (13400)\ttotal: 5m 49s\tremaining: 20m 16s\n",
            "13600:\tlearn: 0.0858709\ttest: 0.0858709\tbest: 0.0858709 (13600)\ttotal: 5m 54s\tremaining: 20m 10s\n",
            "13800:\tlearn: 0.0857866\ttest: 0.0857866\tbest: 0.0857866 (13800)\ttotal: 6m\tremaining: 20m 5s\n",
            "14000:\tlearn: 0.0856990\ttest: 0.0856990\tbest: 0.0856990 (14000)\ttotal: 6m 5s\tremaining: 20m\n",
            "14200:\tlearn: 0.0856199\ttest: 0.0856199\tbest: 0.0856199 (14200)\ttotal: 6m 10s\tremaining: 19m 55s\n",
            "14400:\tlearn: 0.0855444\ttest: 0.0855444\tbest: 0.0855444 (14400)\ttotal: 6m 15s\tremaining: 19m 49s\n",
            "14600:\tlearn: 0.0854612\ttest: 0.0854612\tbest: 0.0854612 (14600)\ttotal: 6m 20s\tremaining: 19m 44s\n",
            "14800:\tlearn: 0.0853813\ttest: 0.0853813\tbest: 0.0853813 (14800)\ttotal: 6m 26s\tremaining: 19m 39s\n",
            "15000:\tlearn: 0.0853015\ttest: 0.0853015\tbest: 0.0853015 (15000)\ttotal: 6m 31s\tremaining: 19m 34s\n",
            "15200:\tlearn: 0.0852247\ttest: 0.0852247\tbest: 0.0852247 (15200)\ttotal: 6m 36s\tremaining: 19m 28s\n",
            "15400:\tlearn: 0.0851508\ttest: 0.0851508\tbest: 0.0851508 (15400)\ttotal: 6m 41s\tremaining: 19m 23s\n",
            "15600:\tlearn: 0.0850732\ttest: 0.0850732\tbest: 0.0850732 (15600)\ttotal: 6m 46s\tremaining: 19m 17s\n",
            "15800:\tlearn: 0.0849993\ttest: 0.0849993\tbest: 0.0849993 (15800)\ttotal: 6m 52s\tremaining: 19m 12s\n",
            "16000:\tlearn: 0.0849216\ttest: 0.0849216\tbest: 0.0849216 (16000)\ttotal: 6m 57s\tremaining: 19m 7s\n",
            "16200:\tlearn: 0.0848466\ttest: 0.0848466\tbest: 0.0848466 (16200)\ttotal: 7m 2s\tremaining: 19m 1s\n",
            "16400:\tlearn: 0.0847711\ttest: 0.0847711\tbest: 0.0847711 (16400)\ttotal: 7m 7s\tremaining: 18m 57s\n",
            "16600:\tlearn: 0.0847009\ttest: 0.0847009\tbest: 0.0847009 (16600)\ttotal: 7m 13s\tremaining: 18m 52s\n",
            "16800:\tlearn: 0.0846259\ttest: 0.0846259\tbest: 0.0846259 (16800)\ttotal: 7m 18s\tremaining: 18m 46s\n",
            "17000:\tlearn: 0.0845552\ttest: 0.0845552\tbest: 0.0845552 (17000)\ttotal: 7m 23s\tremaining: 18m 41s\n",
            "17200:\tlearn: 0.0844848\ttest: 0.0844848\tbest: 0.0844848 (17200)\ttotal: 7m 28s\tremaining: 18m 36s\n",
            "17400:\tlearn: 0.0844136\ttest: 0.0844136\tbest: 0.0844136 (17400)\ttotal: 7m 33s\tremaining: 18m 30s\n",
            "17600:\tlearn: 0.0843437\ttest: 0.0843437\tbest: 0.0843437 (17600)\ttotal: 7m 38s\tremaining: 18m 25s\n",
            "17800:\tlearn: 0.0842789\ttest: 0.0842789\tbest: 0.0842789 (17800)\ttotal: 7m 44s\tremaining: 18m 19s\n",
            "18000:\tlearn: 0.0842084\ttest: 0.0842084\tbest: 0.0842084 (18000)\ttotal: 7m 49s\tremaining: 18m 14s\n",
            "18200:\tlearn: 0.0841409\ttest: 0.0841409\tbest: 0.0841409 (18200)\ttotal: 7m 54s\tremaining: 18m 9s\n",
            "18400:\tlearn: 0.0840709\ttest: 0.0840709\tbest: 0.0840709 (18400)\ttotal: 7m 59s\tremaining: 18m 4s\n",
            "18600:\tlearn: 0.0840002\ttest: 0.0840002\tbest: 0.0840002 (18600)\ttotal: 8m 4s\tremaining: 17m 59s\n",
            "18800:\tlearn: 0.0839373\ttest: 0.0839373\tbest: 0.0839373 (18800)\ttotal: 8m 10s\tremaining: 17m 53s\n",
            "19000:\tlearn: 0.0838747\ttest: 0.0838747\tbest: 0.0838747 (19000)\ttotal: 8m 15s\tremaining: 17m 48s\n",
            "19200:\tlearn: 0.0838142\ttest: 0.0838142\tbest: 0.0838142 (19200)\ttotal: 8m 20s\tremaining: 17m 43s\n",
            "19400:\tlearn: 0.0837541\ttest: 0.0837541\tbest: 0.0837541 (19400)\ttotal: 8m 25s\tremaining: 17m 38s\n",
            "19600:\tlearn: 0.0836917\ttest: 0.0836917\tbest: 0.0836917 (19600)\ttotal: 8m 30s\tremaining: 17m 32s\n",
            "19800:\tlearn: 0.0836255\ttest: 0.0836255\tbest: 0.0836255 (19800)\ttotal: 8m 36s\tremaining: 17m 27s\n",
            "20000:\tlearn: 0.0835640\ttest: 0.0835640\tbest: 0.0835640 (20000)\ttotal: 8m 41s\tremaining: 17m 22s\n",
            "20200:\tlearn: 0.0835036\ttest: 0.0835036\tbest: 0.0835036 (20200)\ttotal: 8m 46s\tremaining: 17m 17s\n",
            "20400:\tlearn: 0.0834403\ttest: 0.0834403\tbest: 0.0834403 (20400)\ttotal: 8m 51s\tremaining: 17m 12s\n",
            "20600:\tlearn: 0.0833746\ttest: 0.0833746\tbest: 0.0833746 (20600)\ttotal: 8m 57s\tremaining: 17m 7s\n",
            "20800:\tlearn: 0.0833118\ttest: 0.0833118\tbest: 0.0833118 (20800)\ttotal: 9m 2s\tremaining: 17m 2s\n",
            "21000:\tlearn: 0.0832548\ttest: 0.0832548\tbest: 0.0832548 (21000)\ttotal: 9m 7s\tremaining: 16m 56s\n",
            "21200:\tlearn: 0.0831955\ttest: 0.0831955\tbest: 0.0831955 (21200)\ttotal: 9m 12s\tremaining: 16m 51s\n",
            "21400:\tlearn: 0.0831350\ttest: 0.0831350\tbest: 0.0831350 (21400)\ttotal: 9m 17s\tremaining: 16m 46s\n",
            "21600:\tlearn: 0.0830759\ttest: 0.0830759\tbest: 0.0830759 (21600)\ttotal: 9m 23s\tremaining: 16m 40s\n",
            "21800:\tlearn: 0.0830167\ttest: 0.0830167\tbest: 0.0830167 (21800)\ttotal: 9m 28s\tremaining: 16m 35s\n",
            "22000:\tlearn: 0.0829571\ttest: 0.0829571\tbest: 0.0829571 (22000)\ttotal: 9m 33s\tremaining: 16m 30s\n",
            "22200:\tlearn: 0.0829018\ttest: 0.0829018\tbest: 0.0829018 (22200)\ttotal: 9m 38s\tremaining: 16m 25s\n",
            "22400:\tlearn: 0.0828496\ttest: 0.0828496\tbest: 0.0828496 (22400)\ttotal: 9m 44s\tremaining: 16m 20s\n",
            "22600:\tlearn: 0.0827984\ttest: 0.0827984\tbest: 0.0827984 (22600)\ttotal: 9m 49s\tremaining: 16m 15s\n",
            "22800:\tlearn: 0.0827457\ttest: 0.0827457\tbest: 0.0827457 (22800)\ttotal: 9m 54s\tremaining: 16m 9s\n",
            "23000:\tlearn: 0.0826951\ttest: 0.0826951\tbest: 0.0826951 (23000)\ttotal: 9m 59s\tremaining: 16m 4s\n",
            "23200:\tlearn: 0.0826398\ttest: 0.0826398\tbest: 0.0826398 (23200)\ttotal: 10m 4s\tremaining: 15m 59s\n",
            "23400:\tlearn: 0.0825887\ttest: 0.0825887\tbest: 0.0825887 (23400)\ttotal: 10m 10s\tremaining: 15m 54s\n",
            "23600:\tlearn: 0.0825364\ttest: 0.0825364\tbest: 0.0825364 (23600)\ttotal: 10m 15s\tremaining: 15m 48s\n",
            "23800:\tlearn: 0.0824808\ttest: 0.0824808\tbest: 0.0824808 (23800)\ttotal: 10m 20s\tremaining: 15m 43s\n",
            "24000:\tlearn: 0.0824286\ttest: 0.0824286\tbest: 0.0824286 (24000)\ttotal: 10m 25s\tremaining: 15m 38s\n",
            "24200:\tlearn: 0.0823762\ttest: 0.0823762\tbest: 0.0823762 (24200)\ttotal: 10m 31s\tremaining: 15m 33s\n",
            "24400:\tlearn: 0.0823237\ttest: 0.0823237\tbest: 0.0823237 (24400)\ttotal: 10m 36s\tremaining: 15m 28s\n",
            "24600:\tlearn: 0.0822737\ttest: 0.0822737\tbest: 0.0822737 (24600)\ttotal: 10m 41s\tremaining: 15m 23s\n",
            "24800:\tlearn: 0.0822234\ttest: 0.0822234\tbest: 0.0822234 (24800)\ttotal: 10m 46s\tremaining: 15m 17s\n",
            "25000:\tlearn: 0.0821740\ttest: 0.0821740\tbest: 0.0821740 (25000)\ttotal: 10m 51s\tremaining: 15m 12s\n",
            "25200:\tlearn: 0.0821229\ttest: 0.0821229\tbest: 0.0821229 (25200)\ttotal: 10m 57s\tremaining: 15m 7s\n",
            "25400:\tlearn: 0.0820745\ttest: 0.0820745\tbest: 0.0820745 (25400)\ttotal: 11m 2s\tremaining: 15m 2s\n",
            "25600:\tlearn: 0.0820243\ttest: 0.0820243\tbest: 0.0820243 (25600)\ttotal: 11m 7s\tremaining: 14m 57s\n",
            "25800:\tlearn: 0.0819760\ttest: 0.0819760\tbest: 0.0819760 (25800)\ttotal: 11m 12s\tremaining: 14m 51s\n",
            "26000:\tlearn: 0.0819252\ttest: 0.0819252\tbest: 0.0819252 (26000)\ttotal: 11m 18s\tremaining: 14m 46s\n",
            "26200:\tlearn: 0.0818781\ttest: 0.0818781\tbest: 0.0818781 (26200)\ttotal: 11m 23s\tremaining: 14m 41s\n",
            "26400:\tlearn: 0.0818328\ttest: 0.0818328\tbest: 0.0818328 (26400)\ttotal: 11m 28s\tremaining: 14m 36s\n",
            "26600:\tlearn: 0.0817865\ttest: 0.0817865\tbest: 0.0817865 (26600)\ttotal: 11m 33s\tremaining: 14m 31s\n",
            "26800:\tlearn: 0.0817341\ttest: 0.0817341\tbest: 0.0817341 (26800)\ttotal: 11m 39s\tremaining: 14m 26s\n",
            "27000:\tlearn: 0.0816879\ttest: 0.0816879\tbest: 0.0816879 (27000)\ttotal: 11m 44s\tremaining: 14m 20s\n",
            "27200:\tlearn: 0.0816408\ttest: 0.0816408\tbest: 0.0816408 (27200)\ttotal: 11m 49s\tremaining: 14m 15s\n",
            "27400:\tlearn: 0.0815944\ttest: 0.0815944\tbest: 0.0815944 (27400)\ttotal: 11m 54s\tremaining: 14m 10s\n",
            "27600:\tlearn: 0.0815441\ttest: 0.0815441\tbest: 0.0815441 (27600)\ttotal: 12m\tremaining: 14m 5s\n",
            "27800:\tlearn: 0.0814970\ttest: 0.0814970\tbest: 0.0814970 (27800)\ttotal: 12m 5s\tremaining: 14m\n",
            "28000:\tlearn: 0.0814521\ttest: 0.0814521\tbest: 0.0814521 (28000)\ttotal: 12m 10s\tremaining: 13m 54s\n",
            "28200:\tlearn: 0.0814073\ttest: 0.0814073\tbest: 0.0814073 (28200)\ttotal: 12m 15s\tremaining: 13m 49s\n",
            "28400:\tlearn: 0.0813593\ttest: 0.0813593\tbest: 0.0813593 (28400)\ttotal: 12m 21s\tremaining: 13m 44s\n",
            "28600:\tlearn: 0.0813123\ttest: 0.0813123\tbest: 0.0813123 (28600)\ttotal: 12m 26s\tremaining: 13m 39s\n",
            "28800:\tlearn: 0.0812660\ttest: 0.0812660\tbest: 0.0812660 (28800)\ttotal: 12m 31s\tremaining: 13m 34s\n",
            "29000:\tlearn: 0.0812207\ttest: 0.0812207\tbest: 0.0812207 (29000)\ttotal: 12m 37s\tremaining: 13m 29s\n",
            "29200:\tlearn: 0.0811747\ttest: 0.0811747\tbest: 0.0811747 (29200)\ttotal: 12m 42s\tremaining: 13m 24s\n",
            "29400:\tlearn: 0.0811312\ttest: 0.0811312\tbest: 0.0811312 (29400)\ttotal: 12m 47s\tremaining: 13m 18s\n",
            "29600:\tlearn: 0.0810815\ttest: 0.0810815\tbest: 0.0810815 (29600)\ttotal: 12m 52s\tremaining: 13m 13s\n",
            "29800:\tlearn: 0.0810373\ttest: 0.0810373\tbest: 0.0810373 (29800)\ttotal: 12m 58s\tremaining: 13m 8s\n",
            "30000:\tlearn: 0.0809936\ttest: 0.0809936\tbest: 0.0809936 (30000)\ttotal: 13m 3s\tremaining: 13m 3s\n",
            "30200:\tlearn: 0.0809478\ttest: 0.0809478\tbest: 0.0809478 (30200)\ttotal: 13m 8s\tremaining: 12m 58s\n",
            "30400:\tlearn: 0.0809010\ttest: 0.0809010\tbest: 0.0809010 (30400)\ttotal: 13m 13s\tremaining: 12m 52s\n",
            "30600:\tlearn: 0.0808584\ttest: 0.0808584\tbest: 0.0808584 (30600)\ttotal: 13m 19s\tremaining: 12m 47s\n",
            "30800:\tlearn: 0.0808113\ttest: 0.0808113\tbest: 0.0808113 (30800)\ttotal: 13m 24s\tremaining: 12m 42s\n",
            "31000:\tlearn: 0.0807685\ttest: 0.0807685\tbest: 0.0807685 (31000)\ttotal: 13m 29s\tremaining: 12m 37s\n",
            "31200:\tlearn: 0.0807263\ttest: 0.0807263\tbest: 0.0807263 (31200)\ttotal: 13m 34s\tremaining: 12m 32s\n",
            "31400:\tlearn: 0.0806857\ttest: 0.0806857\tbest: 0.0806857 (31400)\ttotal: 13m 40s\tremaining: 12m 27s\n",
            "31600:\tlearn: 0.0806416\ttest: 0.0806416\tbest: 0.0806416 (31600)\ttotal: 13m 45s\tremaining: 12m 21s\n",
            "31800:\tlearn: 0.0806002\ttest: 0.0806002\tbest: 0.0806002 (31800)\ttotal: 13m 50s\tremaining: 12m 16s\n",
            "32000:\tlearn: 0.0805585\ttest: 0.0805585\tbest: 0.0805585 (32000)\ttotal: 13m 55s\tremaining: 12m 11s\n",
            "32200:\tlearn: 0.0805171\ttest: 0.0805171\tbest: 0.0805171 (32200)\ttotal: 14m 1s\tremaining: 12m 6s\n",
            "32400:\tlearn: 0.0804750\ttest: 0.0804750\tbest: 0.0804750 (32400)\ttotal: 14m 6s\tremaining: 12m\n",
            "32600:\tlearn: 0.0804325\ttest: 0.0804325\tbest: 0.0804325 (32600)\ttotal: 14m 11s\tremaining: 11m 55s\n",
            "32800:\tlearn: 0.0803904\ttest: 0.0803904\tbest: 0.0803904 (32800)\ttotal: 14m 16s\tremaining: 11m 50s\n",
            "33000:\tlearn: 0.0803488\ttest: 0.0803488\tbest: 0.0803488 (33000)\ttotal: 14m 22s\tremaining: 11m 45s\n",
            "33200:\tlearn: 0.0803084\ttest: 0.0803084\tbest: 0.0803084 (33200)\ttotal: 14m 27s\tremaining: 11m 40s\n",
            "33400:\tlearn: 0.0802664\ttest: 0.0802664\tbest: 0.0802664 (33400)\ttotal: 14m 32s\tremaining: 11m 34s\n",
            "33600:\tlearn: 0.0802242\ttest: 0.0802242\tbest: 0.0802242 (33600)\ttotal: 14m 37s\tremaining: 11m 29s\n",
            "33800:\tlearn: 0.0801849\ttest: 0.0801849\tbest: 0.0801849 (33800)\ttotal: 14m 43s\tremaining: 11m 24s\n",
            "34000:\tlearn: 0.0801443\ttest: 0.0801443\tbest: 0.0801443 (34000)\ttotal: 14m 48s\tremaining: 11m 19s\n",
            "34200:\tlearn: 0.0801031\ttest: 0.0801031\tbest: 0.0801031 (34200)\ttotal: 14m 53s\tremaining: 11m 14s\n",
            "34400:\tlearn: 0.0800646\ttest: 0.0800646\tbest: 0.0800646 (34400)\ttotal: 14m 58s\tremaining: 11m 8s\n",
            "34600:\tlearn: 0.0800228\ttest: 0.0800228\tbest: 0.0800228 (34600)\ttotal: 15m 4s\tremaining: 11m 3s\n",
            "34800:\tlearn: 0.0799833\ttest: 0.0799833\tbest: 0.0799833 (34800)\ttotal: 15m 9s\tremaining: 10m 58s\n",
            "35000:\tlearn: 0.0799420\ttest: 0.0799420\tbest: 0.0799420 (35000)\ttotal: 15m 14s\tremaining: 10m 53s\n",
            "35200:\tlearn: 0.0799023\ttest: 0.0799023\tbest: 0.0799023 (35200)\ttotal: 15m 19s\tremaining: 10m 48s\n",
            "35400:\tlearn: 0.0798616\ttest: 0.0798616\tbest: 0.0798616 (35400)\ttotal: 15m 25s\tremaining: 10m 42s\n",
            "35600:\tlearn: 0.0798224\ttest: 0.0798224\tbest: 0.0798224 (35600)\ttotal: 15m 30s\tremaining: 10m 37s\n",
            "35800:\tlearn: 0.0797815\ttest: 0.0797815\tbest: 0.0797815 (35800)\ttotal: 15m 35s\tremaining: 10m 32s\n",
            "36000:\tlearn: 0.0797421\ttest: 0.0797421\tbest: 0.0797421 (36000)\ttotal: 15m 41s\tremaining: 10m 27s\n",
            "36200:\tlearn: 0.0797022\ttest: 0.0797022\tbest: 0.0797022 (36200)\ttotal: 15m 46s\tremaining: 10m 22s\n",
            "36400:\tlearn: 0.0796637\ttest: 0.0796637\tbest: 0.0796637 (36400)\ttotal: 15m 51s\tremaining: 10m 16s\n",
            "36600:\tlearn: 0.0796235\ttest: 0.0796235\tbest: 0.0796235 (36600)\ttotal: 15m 56s\tremaining: 10m 11s\n",
            "36800:\tlearn: 0.0795861\ttest: 0.0795861\tbest: 0.0795861 (36800)\ttotal: 16m 2s\tremaining: 10m 6s\n",
            "37000:\tlearn: 0.0795465\ttest: 0.0795465\tbest: 0.0795465 (37000)\ttotal: 16m 7s\tremaining: 10m 1s\n",
            "37200:\tlearn: 0.0795070\ttest: 0.0795070\tbest: 0.0795070 (37200)\ttotal: 16m 12s\tremaining: 9m 56s\n",
            "37400:\tlearn: 0.0794680\ttest: 0.0794680\tbest: 0.0794680 (37400)\ttotal: 16m 17s\tremaining: 9m 50s\n",
            "37600:\tlearn: 0.0794277\ttest: 0.0794277\tbest: 0.0794277 (37600)\ttotal: 16m 23s\tremaining: 9m 45s\n",
            "37800:\tlearn: 0.0793889\ttest: 0.0793889\tbest: 0.0793889 (37800)\ttotal: 16m 28s\tremaining: 9m 40s\n",
            "38000:\tlearn: 0.0793504\ttest: 0.0793504\tbest: 0.0793504 (38000)\ttotal: 16m 33s\tremaining: 9m 35s\n",
            "38200:\tlearn: 0.0793132\ttest: 0.0793132\tbest: 0.0793132 (38200)\ttotal: 16m 38s\tremaining: 9m 30s\n",
            "38400:\tlearn: 0.0792763\ttest: 0.0792763\tbest: 0.0792763 (38400)\ttotal: 16m 44s\tremaining: 9m 24s\n",
            "38600:\tlearn: 0.0792361\ttest: 0.0792361\tbest: 0.0792361 (38600)\ttotal: 16m 49s\tremaining: 9m 19s\n",
            "38800:\tlearn: 0.0792001\ttest: 0.0792001\tbest: 0.0792001 (38800)\ttotal: 16m 54s\tremaining: 9m 14s\n",
            "39000:\tlearn: 0.0791595\ttest: 0.0791595\tbest: 0.0791595 (39000)\ttotal: 16m 59s\tremaining: 9m 9s\n",
            "39200:\tlearn: 0.0791200\ttest: 0.0791200\tbest: 0.0791200 (39200)\ttotal: 17m 5s\tremaining: 9m 3s\n",
            "39400:\tlearn: 0.0790831\ttest: 0.0790831\tbest: 0.0790831 (39400)\ttotal: 17m 10s\tremaining: 8m 58s\n",
            "39600:\tlearn: 0.0790432\ttest: 0.0790432\tbest: 0.0790432 (39600)\ttotal: 17m 15s\tremaining: 8m 53s\n",
            "39800:\tlearn: 0.0790057\ttest: 0.0790057\tbest: 0.0790057 (39800)\ttotal: 17m 20s\tremaining: 8m 48s\n",
            "40000:\tlearn: 0.0789710\ttest: 0.0789710\tbest: 0.0789710 (40000)\ttotal: 17m 26s\tremaining: 8m 42s\n",
            "40200:\tlearn: 0.0789339\ttest: 0.0789339\tbest: 0.0789339 (40200)\ttotal: 17m 31s\tremaining: 8m 37s\n",
            "40400:\tlearn: 0.0788996\ttest: 0.0788996\tbest: 0.0788996 (40400)\ttotal: 17m 36s\tremaining: 8m 32s\n",
            "40600:\tlearn: 0.0788639\ttest: 0.0788639\tbest: 0.0788639 (40600)\ttotal: 17m 42s\tremaining: 8m 27s\n",
            "40800:\tlearn: 0.0788267\ttest: 0.0788267\tbest: 0.0788267 (40800)\ttotal: 17m 47s\tremaining: 8m 22s\n",
            "41000:\tlearn: 0.0787902\ttest: 0.0787902\tbest: 0.0787902 (41000)\ttotal: 17m 52s\tremaining: 8m 17s\n",
            "41200:\tlearn: 0.0787553\ttest: 0.0787553\tbest: 0.0787553 (41200)\ttotal: 17m 57s\tremaining: 8m 11s\n",
            "41400:\tlearn: 0.0787193\ttest: 0.0787193\tbest: 0.0787193 (41400)\ttotal: 18m 3s\tremaining: 8m 6s\n",
            "41600:\tlearn: 0.0786817\ttest: 0.0786817\tbest: 0.0786817 (41600)\ttotal: 18m 8s\tremaining: 8m 1s\n",
            "41800:\tlearn: 0.0786453\ttest: 0.0786453\tbest: 0.0786453 (41800)\ttotal: 18m 13s\tremaining: 7m 56s\n",
            "42000:\tlearn: 0.0786117\ttest: 0.0786117\tbest: 0.0786117 (42000)\ttotal: 18m 18s\tremaining: 7m 50s\n",
            "42200:\tlearn: 0.0785755\ttest: 0.0785755\tbest: 0.0785755 (42200)\ttotal: 18m 23s\tremaining: 7m 45s\n",
            "42400:\tlearn: 0.0785393\ttest: 0.0785393\tbest: 0.0785393 (42400)\ttotal: 18m 29s\tremaining: 7m 40s\n",
            "42600:\tlearn: 0.0785032\ttest: 0.0785032\tbest: 0.0785032 (42600)\ttotal: 18m 34s\tremaining: 7m 35s\n",
            "42800:\tlearn: 0.0784699\ttest: 0.0784699\tbest: 0.0784699 (42800)\ttotal: 18m 39s\tremaining: 7m 29s\n",
            "43000:\tlearn: 0.0784326\ttest: 0.0784326\tbest: 0.0784326 (43000)\ttotal: 18m 44s\tremaining: 7m 24s\n",
            "43200:\tlearn: 0.0783962\ttest: 0.0783962\tbest: 0.0783962 (43200)\ttotal: 18m 50s\tremaining: 7m 19s\n",
            "43400:\tlearn: 0.0783629\ttest: 0.0783629\tbest: 0.0783629 (43400)\ttotal: 18m 55s\tremaining: 7m 14s\n",
            "43600:\tlearn: 0.0783287\ttest: 0.0783287\tbest: 0.0783287 (43600)\ttotal: 19m\tremaining: 7m 8s\n",
            "43800:\tlearn: 0.0782928\ttest: 0.0782928\tbest: 0.0782928 (43800)\ttotal: 19m 5s\tremaining: 7m 3s\n",
            "44000:\tlearn: 0.0782561\ttest: 0.0782561\tbest: 0.0782561 (44000)\ttotal: 19m 11s\tremaining: 6m 58s\n",
            "44200:\tlearn: 0.0782235\ttest: 0.0782235\tbest: 0.0782235 (44200)\ttotal: 19m 16s\tremaining: 6m 53s\n",
            "44400:\tlearn: 0.0781884\ttest: 0.0781884\tbest: 0.0781884 (44400)\ttotal: 19m 21s\tremaining: 6m 48s\n",
            "44600:\tlearn: 0.0781526\ttest: 0.0781526\tbest: 0.0781526 (44600)\ttotal: 19m 26s\tremaining: 6m 42s\n",
            "44800:\tlearn: 0.0781186\ttest: 0.0781186\tbest: 0.0781186 (44800)\ttotal: 19m 32s\tremaining: 6m 37s\n",
            "45000:\tlearn: 0.0780827\ttest: 0.0780827\tbest: 0.0780827 (45000)\ttotal: 19m 37s\tremaining: 6m 32s\n",
            "45200:\tlearn: 0.0780480\ttest: 0.0780480\tbest: 0.0780480 (45200)\ttotal: 19m 42s\tremaining: 6m 27s\n",
            "45400:\tlearn: 0.0780135\ttest: 0.0780135\tbest: 0.0780135 (45400)\ttotal: 19m 47s\tremaining: 6m 21s\n",
            "45600:\tlearn: 0.0779815\ttest: 0.0779815\tbest: 0.0779815 (45600)\ttotal: 19m 52s\tremaining: 6m 16s\n",
            "45800:\tlearn: 0.0779477\ttest: 0.0779477\tbest: 0.0779477 (45800)\ttotal: 19m 58s\tremaining: 6m 11s\n",
            "46000:\tlearn: 0.0779146\ttest: 0.0779146\tbest: 0.0779146 (46000)\ttotal: 20m 3s\tremaining: 6m 6s\n",
            "46200:\tlearn: 0.0778796\ttest: 0.0778796\tbest: 0.0778796 (46200)\ttotal: 20m 8s\tremaining: 6m 1s\n",
            "46400:\tlearn: 0.0778457\ttest: 0.0778457\tbest: 0.0778457 (46400)\ttotal: 20m 14s\tremaining: 5m 55s\n",
            "46600:\tlearn: 0.0778115\ttest: 0.0778115\tbest: 0.0778115 (46600)\ttotal: 20m 19s\tremaining: 5m 50s\n",
            "46800:\tlearn: 0.0777776\ttest: 0.0777776\tbest: 0.0777776 (46800)\ttotal: 20m 24s\tremaining: 5m 45s\n",
            "47000:\tlearn: 0.0777458\ttest: 0.0777458\tbest: 0.0777458 (47000)\ttotal: 20m 29s\tremaining: 5m 40s\n",
            "47200:\tlearn: 0.0777124\ttest: 0.0777124\tbest: 0.0777124 (47200)\ttotal: 20m 34s\tremaining: 5m 34s\n",
            "47400:\tlearn: 0.0776780\ttest: 0.0776780\tbest: 0.0776780 (47400)\ttotal: 20m 40s\tremaining: 5m 29s\n",
            "47600:\tlearn: 0.0776444\ttest: 0.0776444\tbest: 0.0776444 (47600)\ttotal: 20m 45s\tremaining: 5m 24s\n",
            "47800:\tlearn: 0.0776121\ttest: 0.0776121\tbest: 0.0776121 (47800)\ttotal: 20m 50s\tremaining: 5m 19s\n",
            "48000:\tlearn: 0.0775778\ttest: 0.0775778\tbest: 0.0775778 (48000)\ttotal: 20m 55s\tremaining: 5m 13s\n",
            "48200:\tlearn: 0.0775446\ttest: 0.0775446\tbest: 0.0775446 (48200)\ttotal: 21m 1s\tremaining: 5m 8s\n",
            "48400:\tlearn: 0.0775140\ttest: 0.0775140\tbest: 0.0775140 (48400)\ttotal: 21m 6s\tremaining: 5m 3s\n",
            "48600:\tlearn: 0.0774825\ttest: 0.0774825\tbest: 0.0774825 (48600)\ttotal: 21m 11s\tremaining: 4m 58s\n",
            "48800:\tlearn: 0.0774531\ttest: 0.0774531\tbest: 0.0774531 (48800)\ttotal: 21m 16s\tremaining: 4m 52s\n",
            "49000:\tlearn: 0.0774221\ttest: 0.0774221\tbest: 0.0774221 (49000)\ttotal: 21m 21s\tremaining: 4m 47s\n",
            "49200:\tlearn: 0.0773900\ttest: 0.0773900\tbest: 0.0773900 (49200)\ttotal: 21m 27s\tremaining: 4m 42s\n",
            "49400:\tlearn: 0.0773587\ttest: 0.0773587\tbest: 0.0773587 (49400)\ttotal: 21m 32s\tremaining: 4m 37s\n",
            "49600:\tlearn: 0.0773289\ttest: 0.0773289\tbest: 0.0773289 (49600)\ttotal: 21m 37s\tremaining: 4m 32s\n",
            "49800:\tlearn: 0.0772977\ttest: 0.0772977\tbest: 0.0772977 (49800)\ttotal: 21m 42s\tremaining: 4m 26s\n",
            "50000:\tlearn: 0.0772666\ttest: 0.0772666\tbest: 0.0772666 (50000)\ttotal: 21m 48s\tremaining: 4m 21s\n",
            "50200:\tlearn: 0.0772348\ttest: 0.0772348\tbest: 0.0772348 (50200)\ttotal: 21m 53s\tremaining: 4m 16s\n",
            "50400:\tlearn: 0.0772057\ttest: 0.0772057\tbest: 0.0772057 (50400)\ttotal: 21m 58s\tremaining: 4m 11s\n",
            "50600:\tlearn: 0.0771738\ttest: 0.0771738\tbest: 0.0771738 (50600)\ttotal: 22m 3s\tremaining: 4m 5s\n",
            "50800:\tlearn: 0.0771444\ttest: 0.0771444\tbest: 0.0771444 (50800)\ttotal: 22m 8s\tremaining: 4m\n",
            "51000:\tlearn: 0.0771113\ttest: 0.0771113\tbest: 0.0771113 (51000)\ttotal: 22m 14s\tremaining: 3m 55s\n",
            "51200:\tlearn: 0.0770805\ttest: 0.0770805\tbest: 0.0770805 (51200)\ttotal: 22m 19s\tremaining: 3m 50s\n",
            "51400:\tlearn: 0.0770479\ttest: 0.0770479\tbest: 0.0770479 (51400)\ttotal: 22m 24s\tremaining: 3m 44s\n",
            "51600:\tlearn: 0.0770166\ttest: 0.0770166\tbest: 0.0770166 (51600)\ttotal: 22m 29s\tremaining: 3m 39s\n",
            "51800:\tlearn: 0.0769852\ttest: 0.0769852\tbest: 0.0769852 (51800)\ttotal: 22m 35s\tremaining: 3m 34s\n",
            "52000:\tlearn: 0.0769563\ttest: 0.0769563\tbest: 0.0769563 (52000)\ttotal: 22m 40s\tremaining: 3m 29s\n",
            "52200:\tlearn: 0.0769259\ttest: 0.0769259\tbest: 0.0769259 (52200)\ttotal: 22m 45s\tremaining: 3m 24s\n",
            "52400:\tlearn: 0.0768951\ttest: 0.0768951\tbest: 0.0768951 (52400)\ttotal: 22m 51s\tremaining: 3m 18s\n",
            "52600:\tlearn: 0.0768644\ttest: 0.0768644\tbest: 0.0768644 (52600)\ttotal: 22m 56s\tremaining: 3m 13s\n",
            "52800:\tlearn: 0.0768316\ttest: 0.0768316\tbest: 0.0768316 (52800)\ttotal: 23m 1s\tremaining: 3m 8s\n",
            "53000:\tlearn: 0.0768033\ttest: 0.0768033\tbest: 0.0768033 (53000)\ttotal: 23m 6s\tremaining: 3m 3s\n",
            "53200:\tlearn: 0.0767717\ttest: 0.0767717\tbest: 0.0767717 (53200)\ttotal: 23m 12s\tremaining: 2m 57s\n",
            "53400:\tlearn: 0.0767434\ttest: 0.0767434\tbest: 0.0767434 (53400)\ttotal: 23m 17s\tremaining: 2m 52s\n",
            "53600:\tlearn: 0.0767131\ttest: 0.0767131\tbest: 0.0767131 (53600)\ttotal: 23m 22s\tremaining: 2m 47s\n",
            "53800:\tlearn: 0.0766838\ttest: 0.0766838\tbest: 0.0766838 (53800)\ttotal: 23m 27s\tremaining: 2m 42s\n",
            "54000:\tlearn: 0.0766542\ttest: 0.0766542\tbest: 0.0766542 (54000)\ttotal: 23m 32s\tremaining: 2m 36s\n",
            "54200:\tlearn: 0.0766235\ttest: 0.0766235\tbest: 0.0766235 (54200)\ttotal: 23m 38s\tremaining: 2m 31s\n",
            "54400:\tlearn: 0.0765936\ttest: 0.0765936\tbest: 0.0765936 (54400)\ttotal: 23m 43s\tremaining: 2m 26s\n",
            "54600:\tlearn: 0.0765626\ttest: 0.0765626\tbest: 0.0765626 (54600)\ttotal: 23m 48s\tremaining: 2m 21s\n",
            "54800:\tlearn: 0.0765342\ttest: 0.0765342\tbest: 0.0765342 (54800)\ttotal: 23m 53s\tremaining: 2m 16s\n",
            "55000:\tlearn: 0.0765054\ttest: 0.0765054\tbest: 0.0765054 (55000)\ttotal: 23m 59s\tremaining: 2m 10s\n",
            "55200:\tlearn: 0.0764784\ttest: 0.0764784\tbest: 0.0764784 (55200)\ttotal: 24m 4s\tremaining: 2m 5s\n",
            "55400:\tlearn: 0.0764482\ttest: 0.0764482\tbest: 0.0764482 (55400)\ttotal: 24m 9s\tremaining: 2m\n",
            "55600:\tlearn: 0.0764178\ttest: 0.0764178\tbest: 0.0764178 (55600)\ttotal: 24m 14s\tremaining: 1m 55s\n",
            "55800:\tlearn: 0.0763901\ttest: 0.0763901\tbest: 0.0763901 (55800)\ttotal: 24m 20s\tremaining: 1m 49s\n",
            "56000:\tlearn: 0.0763623\ttest: 0.0763623\tbest: 0.0763623 (56000)\ttotal: 24m 25s\tremaining: 1m 44s\n",
            "56200:\tlearn: 0.0763310\ttest: 0.0763310\tbest: 0.0763310 (56200)\ttotal: 24m 30s\tremaining: 1m 39s\n",
            "56400:\tlearn: 0.0763020\ttest: 0.0763020\tbest: 0.0763020 (56400)\ttotal: 24m 35s\tremaining: 1m 34s\n",
            "56600:\tlearn: 0.0762730\ttest: 0.0762730\tbest: 0.0762730 (56600)\ttotal: 24m 41s\tremaining: 1m 28s\n",
            "56800:\tlearn: 0.0762435\ttest: 0.0762435\tbest: 0.0762435 (56800)\ttotal: 24m 46s\tremaining: 1m 23s\n",
            "57000:\tlearn: 0.0762159\ttest: 0.0762159\tbest: 0.0762159 (57000)\ttotal: 24m 51s\tremaining: 1m 18s\n",
            "57200:\tlearn: 0.0761895\ttest: 0.0761895\tbest: 0.0761895 (57200)\ttotal: 24m 56s\tremaining: 1m 13s\n",
            "57400:\tlearn: 0.0761600\ttest: 0.0761600\tbest: 0.0761600 (57400)\ttotal: 25m 1s\tremaining: 1m 8s\n",
            "57600:\tlearn: 0.0761315\ttest: 0.0761315\tbest: 0.0761315 (57600)\ttotal: 25m 7s\tremaining: 1m 2s\n",
            "57800:\tlearn: 0.0761037\ttest: 0.0761037\tbest: 0.0761037 (57800)\ttotal: 25m 12s\tremaining: 57.5s\n",
            "58000:\tlearn: 0.0760745\ttest: 0.0760745\tbest: 0.0760745 (58000)\ttotal: 25m 17s\tremaining: 52.3s\n",
            "58200:\tlearn: 0.0760465\ttest: 0.0760465\tbest: 0.0760465 (58200)\ttotal: 25m 22s\tremaining: 47.1s\n",
            "58400:\tlearn: 0.0760181\ttest: 0.0760181\tbest: 0.0760181 (58400)\ttotal: 25m 27s\tremaining: 41.8s\n",
            "58600:\tlearn: 0.0759894\ttest: 0.0759894\tbest: 0.0759894 (58600)\ttotal: 25m 33s\tremaining: 36.6s\n",
            "58800:\tlearn: 0.0759599\ttest: 0.0759599\tbest: 0.0759599 (58800)\ttotal: 25m 38s\tremaining: 31.4s\n",
            "59000:\tlearn: 0.0759300\ttest: 0.0759300\tbest: 0.0759300 (59000)\ttotal: 25m 43s\tremaining: 26.1s\n",
            "59200:\tlearn: 0.0759020\ttest: 0.0759020\tbest: 0.0759020 (59200)\ttotal: 25m 48s\tremaining: 20.9s\n",
            "59400:\tlearn: 0.0758721\ttest: 0.0758721\tbest: 0.0758721 (59400)\ttotal: 25m 54s\tremaining: 15.7s\n",
            "59600:\tlearn: 0.0758451\ttest: 0.0758451\tbest: 0.0758451 (59600)\ttotal: 25m 59s\tremaining: 10.4s\n",
            "59800:\tlearn: 0.0758179\ttest: 0.0758179\tbest: 0.0758179 (59800)\ttotal: 26m 4s\tremaining: 5.21s\n",
            "59999:\tlearn: 0.0757919\ttest: 0.0757919\tbest: 0.0757919 (59999)\ttotal: 26m 9s\tremaining: 0us\n",
            "\n",
            "bestTest = 0.07579189329\n",
            "bestIteration = 59999\n",
            "\n"
          ],
          "name": "stdout"
        },
        {
          "output_type": "execute_result",
          "data": {
            "text/plain": [
              "<catboost.core.CatBoostRegressor at 0x7f52dac79690>"
            ]
          },
          "metadata": {
            "tags": []
          },
          "execution_count": 40
        }
      ]
    },
    {
      "cell_type": "code",
      "metadata": {
        "id": "9O7-pXu6REqo"
      },
      "source": [
        "temp3 = model.predict(test)\r\n",
        "preds3 = np.expm1(temp3)\r\n",
        "preds2 = np.expm1(preds2)"
      ],
      "execution_count": null,
      "outputs": []
    },
    {
      "cell_type": "code",
      "metadata": {
        "colab": {
          "base_uri": "https://localhost:8080/"
        },
        "id": "349RCXj5LNtV",
        "outputId": "c8435834-41fd-49e3-98fb-ada04eac7e3a"
      },
      "source": [
        "preds2"
      ],
      "execution_count": null,
      "outputs": [
        {
          "output_type": "execute_result",
          "data": {
            "text/plain": [
              "array([127.58722, 133.0851 , 133.8231 , ..., 169.71721, 171.26114,\n",
              "       173.59357], dtype=float32)"
            ]
          },
          "metadata": {
            "tags": []
          },
          "execution_count": 51
        }
      ]
    },
    {
      "cell_type": "code",
      "metadata": {
        "id": "njNPi-rQjwLW"
      },
      "source": [
        "preds22 = np.expm1(preds2)"
      ],
      "execution_count": null,
      "outputs": []
    },
    {
      "cell_type": "code",
      "metadata": {
        "id": "RoweJjlvrUjB"
      },
      "source": [
        "ensemble_sub1 = pd.DataFrame(preds1)\r\n",
        "ensemble_sub2 = pd.DataFrame(preds2)\r\n",
        "ensemble_sub3 = pd.DataFrame(preds3)"
      ],
      "execution_count": null,
      "outputs": []
    },
    {
      "cell_type": "code",
      "metadata": {
        "id": "RvhBjVMRzT8z"
      },
      "source": [
        "ensemble_sub = pd.concat([ensemble_sub1, ensemble_sub2, ensemble_sub3], axis=1)\r\n",
        "ensemble_sub.columns = ['lgb','xgb','cgb']\r\n",
        "ensemble_sub['DTSM'] = 0.4*ensemble_sub['lgb'] + 0.4*ensemble_sub['xgb'] + 0.2*ensemble_sub['cgb']\r\n",
        "ensemble_sub = ensemble_sub['DTSM']\r\n",
        "ensemble_sub.to_csv(\"../content/gdrive/MyDrive/ML/Final_Well_18.csv\", index=False)"
      ],
      "execution_count": null,
      "outputs": []
    },
    {
      "cell_type": "code",
      "metadata": {
        "colab": {
          "base_uri": "https://localhost:8080/"
        },
        "id": "YzLa_L9s_kDB",
        "outputId": "406666bb-a9f8-47fd-8e83-a3cb841ad1e1"
      },
      "source": [
        "ensemble_sub"
      ],
      "execution_count": null,
      "outputs": [
        {
          "output_type": "execute_result",
          "data": {
            "text/plain": [
              "0       128.778795\n",
              "1       132.931481\n",
              "2       132.791870\n",
              "3       129.718305\n",
              "4       123.336309\n",
              "5       116.382182\n",
              "6       113.336237\n",
              "7       113.289479\n",
              "8       110.573793\n",
              "9       109.924772\n",
              "10      105.694147\n",
              "11       98.662716\n",
              "12       98.587927\n",
              "13      101.074572\n",
              "14      104.229722\n",
              "15      106.174315\n",
              "16      108.417403\n",
              "17      110.347301\n",
              "18      109.277081\n",
              "19      107.611243\n",
              "20      105.781559\n",
              "21      102.546348\n",
              "22      101.411893\n",
              "23      100.806472\n",
              "24      101.996591\n",
              "25      100.629154\n",
              "26       98.947915\n",
              "27       98.121033\n",
              "28      101.801129\n",
              "29      105.125790\n",
              "30      108.291580\n",
              "31      110.536224\n",
              "32      114.338402\n",
              "33      121.708741\n",
              "34      126.497620\n",
              "35      124.091113\n",
              "36      121.401122\n",
              "37      115.804590\n",
              "38      108.853935\n",
              "39      108.683853\n",
              "40      111.546175\n",
              "41      112.756699\n",
              "42      113.954678\n",
              "43      117.506040\n",
              "44      118.473193\n",
              "45      118.941232\n",
              "46      122.671313\n",
              "47      124.416358\n",
              "48      125.055708\n",
              "49      125.347879\n",
              "50      123.573236\n",
              "51      118.743537\n",
              "52      119.266587\n",
              "53      120.304483\n",
              "54      117.960554\n",
              "55      114.213042\n",
              "56      115.750096\n",
              "57      116.483812\n",
              "58      123.369078\n",
              "59      122.903382\n",
              "60      125.555825\n",
              "61      122.763017\n",
              "62      126.160065\n",
              "63      125.999294\n",
              "64      123.922018\n",
              "65      116.533765\n",
              "66      122.574869\n",
              "67      128.824426\n",
              "68      132.711663\n",
              "69      128.798136\n",
              "70      121.986579\n",
              "71      122.627699\n",
              "72      124.063004\n",
              "73      123.475043\n",
              "74      119.554326\n",
              "75      116.241237\n",
              "76      113.207772\n",
              "77      110.961437\n",
              "78      106.170630\n",
              "79      105.663627\n",
              "80      104.381815\n",
              "81      106.402130\n",
              "82      107.591970\n",
              "83      109.728713\n",
              "84      111.918753\n",
              "85      111.972141\n",
              "86      110.538499\n",
              "87      109.124881\n",
              "88      107.106263\n",
              "89      106.854203\n",
              "90      107.647355\n",
              "91      108.872422\n",
              "92      110.669739\n",
              "93      113.612864\n",
              "94      114.399811\n",
              "95      108.008931\n",
              "96      108.509389\n",
              "97      102.086927\n",
              "98      100.999196\n",
              "99      105.039844\n",
              "100     110.940573\n",
              "101     122.099432\n",
              "102     122.615770\n",
              "103     119.301841\n",
              "104     121.392199\n",
              "105     112.828166\n",
              "106     112.230162\n",
              "107     113.931962\n",
              "108     109.545226\n",
              "109     109.012070\n",
              "110     112.710221\n",
              "111     115.820723\n",
              "112     118.359141\n",
              "113     119.880457\n",
              "114     120.547906\n",
              "115     117.150786\n",
              "116     117.656703\n",
              "117     118.790349\n",
              "118     119.332643\n",
              "119     120.723293\n",
              "120     122.539926\n",
              "121     122.305980\n",
              "122     121.729112\n",
              "123     120.710767\n",
              "124     120.604111\n",
              "125     120.998480\n",
              "126     121.977896\n",
              "127     121.398474\n",
              "128     118.362146\n",
              "129     115.927463\n",
              "130     114.703763\n",
              "131     114.354318\n",
              "132     114.834625\n",
              "133     114.914058\n",
              "134     114.724920\n",
              "135     114.935898\n",
              "136     115.090013\n",
              "137     115.143163\n",
              "138     116.447295\n",
              "139     116.622693\n",
              "140     118.994645\n",
              "141     119.198223\n",
              "142     118.111194\n",
              "143     118.835499\n",
              "144     118.726435\n",
              "145     118.845470\n",
              "146     118.918207\n",
              "147     119.642171\n",
              "148     119.951174\n",
              "149     120.520037\n",
              "150     119.988871\n",
              "151     122.176712\n",
              "152     123.135343\n",
              "153     122.459689\n",
              "154     120.978830\n",
              "155     120.008102\n",
              "156     118.570274\n",
              "157     117.639895\n",
              "158     116.880015\n",
              "159     116.279920\n",
              "160     116.415831\n",
              "161     116.411537\n",
              "162     116.778552\n",
              "163     117.587998\n",
              "164     117.745412\n",
              "165     116.857247\n",
              "166     116.158580\n",
              "167     115.819663\n",
              "168     115.185083\n",
              "169     114.449815\n",
              "170     113.476697\n",
              "171     111.485210\n",
              "172     112.594728\n",
              "173     114.585090\n",
              "174     115.664733\n",
              "175     116.055421\n",
              "176     116.241764\n",
              "177     115.499934\n",
              "178     115.405845\n",
              "179     114.627389\n",
              "180     114.176645\n",
              "181     113.619084\n",
              "182     113.180640\n",
              "183     114.211012\n",
              "184     115.217368\n",
              "185     115.795660\n",
              "186     115.403588\n",
              "187     115.382050\n",
              "188     116.838623\n",
              "189     117.312527\n",
              "190     117.615892\n",
              "191     116.204614\n",
              "192     115.366910\n",
              "193     114.401946\n",
              "194     114.018807\n",
              "195     112.673442\n",
              "196     112.692441\n",
              "197     112.771162\n",
              "198     110.831522\n",
              "199     111.523634\n",
              "200     110.178962\n",
              "201     110.749806\n",
              "202     110.221519\n",
              "203     110.139462\n",
              "204     111.966764\n",
              "205     112.295483\n",
              "206     113.428621\n",
              "207     113.958668\n",
              "208     115.281697\n",
              "209     117.047219\n",
              "210     116.568981\n",
              "211     115.794255\n",
              "212     116.052560\n",
              "213     115.864896\n",
              "214     115.483285\n",
              "215     116.169651\n",
              "216     116.206859\n",
              "217     116.396790\n",
              "218     116.280895\n",
              "219     116.028342\n",
              "220     115.038590\n",
              "221     115.272612\n",
              "222     115.237424\n",
              "223     115.383257\n",
              "224     114.826831\n",
              "225     114.265931\n",
              "226     114.636774\n",
              "227     115.312915\n",
              "228     116.151277\n",
              "229     116.002387\n",
              "230     115.651059\n",
              "231     115.505619\n",
              "232     116.627615\n",
              "233     117.182744\n",
              "234     118.574534\n",
              "235     119.100365\n",
              "236     118.100669\n",
              "237     117.639356\n",
              "238     116.127936\n",
              "239     116.938172\n",
              "240     116.268356\n",
              "241     117.921483\n",
              "242     119.238866\n",
              "243     119.201515\n",
              "244     118.892633\n",
              "245     117.212551\n",
              "246     116.652216\n",
              "247     116.123090\n",
              "248     116.313677\n",
              "249     114.291979\n",
              "250     110.911362\n",
              "251     113.583477\n",
              "252     114.796899\n",
              "253     116.685847\n",
              "254     117.792039\n",
              "255     117.913197\n",
              "256     117.509960\n",
              "257     117.712236\n",
              "258     116.986925\n",
              "259     116.530673\n",
              "260     115.555355\n",
              "261     116.872149\n",
              "262     117.528836\n",
              "263     117.376526\n",
              "264     115.519461\n",
              "265     114.388872\n",
              "266     114.666522\n",
              "267     116.354306\n",
              "268     117.131507\n",
              "269     117.684278\n",
              "270     117.188404\n",
              "271     116.627372\n",
              "272     116.925378\n",
              "273     119.386589\n",
              "274     121.147132\n",
              "275     123.450782\n",
              "276     122.230156\n",
              "277     122.130958\n",
              "278     121.380907\n",
              "279     119.824273\n",
              "280     118.881759\n",
              "281     118.170315\n",
              "282     115.689652\n",
              "283     114.322589\n",
              "284     113.891931\n",
              "285     114.397349\n",
              "286     115.795295\n",
              "287     117.532318\n",
              "288     117.488145\n",
              "289     116.847654\n",
              "290     116.050024\n",
              "291     115.546383\n",
              "292     115.035758\n",
              "293     115.732662\n",
              "294     115.868420\n",
              "295     116.025086\n",
              "296     115.255055\n",
              "297     115.853918\n",
              "298     116.146500\n",
              "299     116.325896\n",
              "300     115.704218\n",
              "301     114.608615\n",
              "302     114.354053\n",
              "303     114.231314\n",
              "304     115.064275\n",
              "305     117.381377\n",
              "306     117.084114\n",
              "307     116.340401\n",
              "308     117.065285\n",
              "309     117.625927\n",
              "310     119.488866\n",
              "311     117.337703\n",
              "312     115.776237\n",
              "313     116.840222\n",
              "314     116.214701\n",
              "315     116.572933\n",
              "316     117.128321\n",
              "317     118.752085\n",
              "318     118.860574\n",
              "319     117.579459\n",
              "320     117.118693\n",
              "321     117.167937\n",
              "322     118.550866\n",
              "323     118.230788\n",
              "324     118.986486\n",
              "325     119.039824\n",
              "326     117.307805\n",
              "327     116.360748\n",
              "328     115.409572\n",
              "329     114.808879\n",
              "330     114.523208\n",
              "331     117.056018\n",
              "332     117.357242\n",
              "333     118.491815\n",
              "334     119.055789\n",
              "335     120.304463\n",
              "336     119.964294\n",
              "337     118.928897\n",
              "338     117.599766\n",
              "339     117.608382\n",
              "340     118.162331\n",
              "341     118.005987\n",
              "342     118.129536\n",
              "343     118.589885\n",
              "344     117.109549\n",
              "345     116.654356\n",
              "346     117.594130\n",
              "347     117.387328\n",
              "348     117.185195\n",
              "349     116.789794\n",
              "350     116.207028\n",
              "351     115.303577\n",
              "352     115.196945\n",
              "353     115.501624\n",
              "354     115.295468\n",
              "355     114.913509\n",
              "356     114.853332\n",
              "357     114.261122\n",
              "358     115.557319\n",
              "359     116.729329\n",
              "360     116.361185\n",
              "361     117.215758\n",
              "362     117.883433\n",
              "363     118.455714\n",
              "364     117.534537\n",
              "365     115.941621\n",
              "366     115.740991\n",
              "367     115.678427\n",
              "368     116.303255\n",
              "369     116.806986\n",
              "370     117.290422\n",
              "371     117.476798\n",
              "372     116.832602\n",
              "373     116.261570\n",
              "374     116.181191\n",
              "375     116.885525\n",
              "376     116.851035\n",
              "377     116.272884\n",
              "378     116.159233\n",
              "379     115.403322\n",
              "380     114.797587\n",
              "381     115.453505\n",
              "382     115.780178\n",
              "383     115.852475\n",
              "384     115.924775\n",
              "385     116.323982\n",
              "386     116.914255\n",
              "387     116.052104\n",
              "388     115.943353\n",
              "389     115.521772\n",
              "390     116.336811\n",
              "391     117.247157\n",
              "392     117.348049\n",
              "393     117.588714\n",
              "394     117.645918\n",
              "395     117.595219\n",
              "396     118.466351\n",
              "397     119.902527\n",
              "398     119.624395\n",
              "399     119.542005\n",
              "400     118.315668\n",
              "401     117.815656\n",
              "402     117.720368\n",
              "403     117.187027\n",
              "404     116.961311\n",
              "405     117.467084\n",
              "406     117.627335\n",
              "407     117.986903\n",
              "408     118.759206\n",
              "409     118.682647\n",
              "410     118.568215\n",
              "411     118.465653\n",
              "412     117.597379\n",
              "413     117.543934\n",
              "414     116.697111\n",
              "415     118.044619\n",
              "416     118.890249\n",
              "417     119.400960\n",
              "418     119.524334\n",
              "419     120.263782\n",
              "420     119.848501\n",
              "421     119.792067\n",
              "422     118.918869\n",
              "423     118.407105\n",
              "424     119.441608\n",
              "425     118.975788\n",
              "426     119.767918\n",
              "427     118.526451\n",
              "428     118.112355\n",
              "429     118.248770\n",
              "430     118.494075\n",
              "431     118.078192\n",
              "432     118.170676\n",
              "433     118.563805\n",
              "434     117.876264\n",
              "435     117.482646\n",
              "436     116.985963\n",
              "437     116.868540\n",
              "438     116.761525\n",
              "439     117.009716\n",
              "440     117.321321\n",
              "441     117.569202\n",
              "442     117.813477\n",
              "443     117.975195\n",
              "444     118.876264\n",
              "445     119.613726\n",
              "446     119.783048\n",
              "447     120.103549\n",
              "448     119.810171\n",
              "449     118.181084\n",
              "450     118.173647\n",
              "451     117.846761\n",
              "452     117.687736\n",
              "453     117.725749\n",
              "454     117.610336\n",
              "455     117.799642\n",
              "456     117.774109\n",
              "457     117.905923\n",
              "458     117.965297\n",
              "459     118.856643\n",
              "460     119.169877\n",
              "461     119.172057\n",
              "462     119.029027\n",
              "463     118.772946\n",
              "464     118.666150\n",
              "465     118.067339\n",
              "466     117.939377\n",
              "467     118.440732\n",
              "468     119.119231\n",
              "469     119.452621\n",
              "470     119.148428\n",
              "471     119.539694\n",
              "472     119.574860\n",
              "473     120.172279\n",
              "474     120.243833\n",
              "475     121.417384\n",
              "476     121.227222\n",
              "477     121.710425\n",
              "478     121.770023\n",
              "479     121.102789\n",
              "480     121.179642\n",
              "481     120.967304\n",
              "482     120.142777\n",
              "483     120.083255\n",
              "484     119.898659\n",
              "485     119.306950\n",
              "486     118.461622\n",
              "487     118.621189\n",
              "488     118.571907\n",
              "489     118.552567\n",
              "490     118.836664\n",
              "491     118.382451\n",
              "492     118.359932\n",
              "493     118.216702\n",
              "494     118.328829\n",
              "495     118.871493\n",
              "496     119.283880\n",
              "497     119.108145\n",
              "498     119.264455\n",
              "499     119.586823\n",
              "500     119.838108\n",
              "501     119.966716\n",
              "502     120.697604\n",
              "503     119.423366\n",
              "504     119.250882\n",
              "505     119.156144\n",
              "506     118.684991\n",
              "507     118.369017\n",
              "508     118.978925\n",
              "509     119.917375\n",
              "510     119.794347\n",
              "511     121.620239\n",
              "512     121.593196\n",
              "513     121.591095\n",
              "514     121.928423\n",
              "515     122.560059\n",
              "516     123.390288\n",
              "517     123.211160\n",
              "518     122.833311\n",
              "519     121.938765\n",
              "520     121.070863\n",
              "521     120.497349\n",
              "522     119.921925\n",
              "523     120.024279\n",
              "524     120.026088\n",
              "525     120.492746\n",
              "526     120.537034\n",
              "527     119.913422\n",
              "528     119.763547\n",
              "529     120.939459\n",
              "530     121.301141\n",
              "531     120.799205\n",
              "532     120.393582\n",
              "533     120.142121\n",
              "534     119.814513\n",
              "535     119.744623\n",
              "536     119.125372\n",
              "537     118.714707\n",
              "538     117.411518\n",
              "539     118.619612\n",
              "540     117.634218\n",
              "541     117.776632\n",
              "542     116.499556\n",
              "543     116.193733\n",
              "544     114.777340\n",
              "545     113.950815\n",
              "546     113.074886\n",
              "547     113.867478\n",
              "548     116.275794\n",
              "549     119.578350\n",
              "550     125.590695\n",
              "551     130.283480\n",
              "552     133.227737\n",
              "553     139.177492\n",
              "554     139.687564\n",
              "555     141.596475\n",
              "556     144.269476\n",
              "557     140.959814\n",
              "558     138.971774\n",
              "559     139.056563\n",
              "560     138.654897\n",
              "561     132.270467\n",
              "562     127.800953\n",
              "563     123.929076\n",
              "564     121.714459\n",
              "565     127.113754\n",
              "566     134.410919\n",
              "567     137.456504\n",
              "568     138.316189\n",
              "569     136.129826\n",
              "570     134.183743\n",
              "571     134.559158\n",
              "572     136.260017\n",
              "573     137.686047\n",
              "574     133.807157\n",
              "575     130.931315\n",
              "576     129.652945\n",
              "577     129.319391\n",
              "578     129.342066\n",
              "579     129.287552\n",
              "580     130.020091\n",
              "581     132.142379\n",
              "582     139.475760\n",
              "583     145.140788\n",
              "584     153.985820\n",
              "585     146.052473\n",
              "586     146.963982\n",
              "587     145.699292\n",
              "588     145.316003\n",
              "589     142.019123\n",
              "590     135.862480\n",
              "591     132.908358\n",
              "592     130.765787\n",
              "593     126.136683\n",
              "594     121.876346\n",
              "595     120.844942\n",
              "596     118.778402\n",
              "597     116.738287\n",
              "598     117.971720\n",
              "599     118.400000\n",
              "600     120.061176\n",
              "601     120.816188\n",
              "602     120.815046\n",
              "603     119.773312\n",
              "604     118.403225\n",
              "605     118.161376\n",
              "606     119.182031\n",
              "607     120.423878\n",
              "608     122.523508\n",
              "609     122.888594\n",
              "610     126.479475\n",
              "611     128.991482\n",
              "612     127.819118\n",
              "613     124.974752\n",
              "614     120.690771\n",
              "615     120.001884\n",
              "616     118.195164\n",
              "617     118.522652\n",
              "618     119.912663\n",
              "619     119.495712\n",
              "620     118.243359\n",
              "621     118.155169\n",
              "622     118.688405\n",
              "623     118.768034\n",
              "624     118.952307\n",
              "625     119.755065\n",
              "626     120.569126\n",
              "627     121.258746\n",
              "628     119.748871\n",
              "629     119.001512\n",
              "630     118.170851\n",
              "631     118.169099\n",
              "632     120.958873\n",
              "633     123.811541\n",
              "634     123.719143\n",
              "635     126.077541\n",
              "636     128.653955\n",
              "637     128.466513\n",
              "638     125.397624\n",
              "639     133.700223\n",
              "640     133.326985\n",
              "641     132.379690\n",
              "642     128.403995\n",
              "643     129.614153\n",
              "644     124.853627\n",
              "645     121.256785\n",
              "646     121.977073\n",
              "647     117.203133\n",
              "648     116.833359\n",
              "649     120.150371\n",
              "650     121.299526\n",
              "651     125.320676\n",
              "652     132.599220\n",
              "653     135.244125\n",
              "654     134.714439\n",
              "655     130.081340\n",
              "656     132.977164\n",
              "657     138.715428\n",
              "658     137.977224\n",
              "659     140.538696\n",
              "660     137.595117\n",
              "661     133.857438\n",
              "662     130.775169\n",
              "663     126.619556\n",
              "664     126.919142\n",
              "665     130.883593\n",
              "666     131.980122\n",
              "667     132.952715\n",
              "668     133.043967\n",
              "669     133.045279\n",
              "670     133.047823\n",
              "671     133.161956\n",
              "672     134.867031\n",
              "673     132.429732\n",
              "674     131.915314\n",
              "675     132.807644\n",
              "676     132.255180\n",
              "677     133.445609\n",
              "678     134.318129\n",
              "679     134.428089\n",
              "680     125.902242\n",
              "681     131.851993\n",
              "682     133.032468\n",
              "683     135.430108\n",
              "684     136.327527\n",
              "685     137.279853\n",
              "686     134.949632\n",
              "687     132.300044\n",
              "688     131.217841\n",
              "689     133.314805\n",
              "690     135.372989\n",
              "691     138.841935\n",
              "692     142.808688\n",
              "693     135.895242\n",
              "694     129.501250\n",
              "695     127.598521\n",
              "696     129.464433\n",
              "697     132.812139\n",
              "698     139.166556\n",
              "699     146.963455\n",
              "700     151.245183\n",
              "701     145.725902\n",
              "702     137.246468\n",
              "703     136.773956\n",
              "704     136.449895\n",
              "705     136.347121\n",
              "706     137.511883\n",
              "707     138.102809\n",
              "708     138.880219\n",
              "709     143.609140\n",
              "710     143.538906\n",
              "711     149.670678\n",
              "712     151.429629\n",
              "713     153.507035\n",
              "714     155.678606\n",
              "715     153.034570\n",
              "716     149.974703\n",
              "717     145.827471\n",
              "718     146.106596\n",
              "719     147.120667\n",
              "720     150.422621\n",
              "721     150.829548\n",
              "722     149.947401\n",
              "723     140.296985\n",
              "724     138.238405\n",
              "725     138.477030\n",
              "726     139.810833\n",
              "727     135.298745\n",
              "728     133.557298\n",
              "729     135.099361\n",
              "730     135.632234\n",
              "731     138.976290\n",
              "732     140.549018\n",
              "733     144.040031\n",
              "734     146.574602\n",
              "735     153.334081\n",
              "736     146.072105\n",
              "737     145.017659\n",
              "738     145.158346\n",
              "739     145.736675\n",
              "740     146.923857\n",
              "741     144.604245\n",
              "742     138.731850\n",
              "743     138.176318\n",
              "744     137.633668\n",
              "745     136.259133\n",
              "746     133.915187\n",
              "747     131.552551\n",
              "748     134.236926\n",
              "749     125.911628\n",
              "750     125.095834\n",
              "751     123.216914\n",
              "752     128.077912\n",
              "753     134.469751\n",
              "754     138.940578\n",
              "755     132.704398\n",
              "756     128.955866\n",
              "757     128.970177\n",
              "758     129.812595\n",
              "759     131.556428\n",
              "760     132.938399\n",
              "761     134.349121\n",
              "762     132.667013\n",
              "763     130.649696\n",
              "764     130.507919\n",
              "765     133.373255\n",
              "766     132.614710\n",
              "767     134.809300\n",
              "768     133.205066\n",
              "769     133.381458\n",
              "770     130.570457\n",
              "771     132.820455\n",
              "772     131.104847\n",
              "773     130.954518\n",
              "774     132.813892\n",
              "775     132.706207\n",
              "776     130.422264\n",
              "777     131.509201\n",
              "778     127.856426\n",
              "779     126.941008\n",
              "780     125.273906\n",
              "781     124.153085\n",
              "782     122.069223\n",
              "783     119.222680\n",
              "784     117.203645\n",
              "785     118.171205\n",
              "786     118.825769\n",
              "787     119.909605\n",
              "788     122.662288\n",
              "789     125.395465\n",
              "790     125.670890\n",
              "791     123.226760\n",
              "792     121.790663\n",
              "793     122.344165\n",
              "794     122.877077\n",
              "795     124.093861\n",
              "796     124.211051\n",
              "797     123.590334\n",
              "798     122.023356\n",
              "799     121.963674\n",
              "800     121.349494\n",
              "801     119.249449\n",
              "802     117.478198\n",
              "803     115.953140\n",
              "804     115.162901\n",
              "805     116.370140\n",
              "806     115.516181\n",
              "807     118.602189\n",
              "808     117.244693\n",
              "809     116.270718\n",
              "810     117.712979\n",
              "811     118.320868\n",
              "812     116.790144\n",
              "813     116.741345\n",
              "814     116.723020\n",
              "815     117.215648\n",
              "816     119.631639\n",
              "817     122.553175\n",
              "818     123.272016\n",
              "819     122.675436\n",
              "820     122.267243\n",
              "821     122.278805\n",
              "822     121.797695\n",
              "823     121.366628\n",
              "824     121.901253\n",
              "825     122.615354\n",
              "826     123.550395\n",
              "827     123.606450\n",
              "828     123.207455\n",
              "829     122.190137\n",
              "830     122.357984\n",
              "831     122.440811\n",
              "832     123.633341\n",
              "833     124.067190\n",
              "834     124.707616\n",
              "835     122.667255\n",
              "836     121.655892\n",
              "837     121.605079\n",
              "838     119.540941\n",
              "839     119.389227\n",
              "840     121.104027\n",
              "841     122.671945\n",
              "842     124.756538\n",
              "843     125.626041\n",
              "844     127.620406\n",
              "845     128.878974\n",
              "846     129.119095\n",
              "847     129.296870\n",
              "848     129.863353\n",
              "849     129.659456\n",
              "850     129.542680\n",
              "851     129.929361\n",
              "852     129.506238\n",
              "853     128.566468\n",
              "854     127.824592\n",
              "855     126.654067\n",
              "856     125.910795\n",
              "857     123.355347\n",
              "858     122.347930\n",
              "859     121.236958\n",
              "860     119.764903\n",
              "861     122.551041\n",
              "862     126.349849\n",
              "863     126.901495\n",
              "864     125.881535\n",
              "865     123.765875\n",
              "866     124.223406\n",
              "867     124.209436\n",
              "868     124.011777\n",
              "869     124.044427\n",
              "870     122.075829\n",
              "871     120.857583\n",
              "872     119.506870\n",
              "873     119.519331\n",
              "874     120.790936\n",
              "875     121.681204\n",
              "876     121.459827\n",
              "877     121.563257\n",
              "878     121.300776\n",
              "879     121.773105\n",
              "880     121.704270\n",
              "881     121.945145\n",
              "882     123.666630\n",
              "883     123.662073\n",
              "884     125.496970\n",
              "885     127.479911\n",
              "886     128.325646\n",
              "887     129.045411\n",
              "888     127.588188\n",
              "889     125.173881\n",
              "890     122.890780\n",
              "891     120.993447\n",
              "892     116.510248\n",
              "893     112.695141\n",
              "894     117.799191\n",
              "895     122.143492\n",
              "896     124.861157\n",
              "897     124.683496\n",
              "898     124.370950\n",
              "899     123.669054\n",
              "900     121.917231\n",
              "901     121.799300\n",
              "902     120.326507\n",
              "903     119.741364\n",
              "904     118.960625\n",
              "905     119.082378\n",
              "906     119.518829\n",
              "907     120.626048\n",
              "908     121.643978\n",
              "909     124.938895\n",
              "910     126.195593\n",
              "911     127.694280\n",
              "912     128.100613\n",
              "913     128.175122\n",
              "914     127.337758\n",
              "915     127.424755\n",
              "916     126.134796\n",
              "917     125.752806\n",
              "918     125.662619\n",
              "919     124.912810\n",
              "920     125.859749\n",
              "921     126.058518\n",
              "922     126.262361\n",
              "923     126.119743\n",
              "924     126.014430\n",
              "925     125.880165\n",
              "926     126.669518\n",
              "927     126.011835\n",
              "928     126.940732\n",
              "929     128.039568\n",
              "930     129.199495\n",
              "931     130.024605\n",
              "932     131.278343\n",
              "933     131.668815\n",
              "934     131.648292\n",
              "935     132.935953\n",
              "936     131.712009\n",
              "937     131.141202\n",
              "938     130.098856\n",
              "939     128.375316\n",
              "940     126.835920\n",
              "941     127.362579\n",
              "942     129.067851\n",
              "943     129.885945\n",
              "944     128.591003\n",
              "945     129.096469\n",
              "946     129.858311\n",
              "947     130.341699\n",
              "948     130.641386\n",
              "949     133.575205\n",
              "950     132.729119\n",
              "951     131.981831\n",
              "952     133.048349\n",
              "953     133.790229\n",
              "954     136.465138\n",
              "955     139.764871\n",
              "956     141.112672\n",
              "957     138.336912\n",
              "958     136.820266\n",
              "959     134.657986\n",
              "960     136.397244\n",
              "961     138.170364\n",
              "962     140.960346\n",
              "963     139.495604\n",
              "964     140.161006\n",
              "965     140.707328\n",
              "966     137.191288\n",
              "967     135.396255\n",
              "968     134.775390\n",
              "969     138.180896\n",
              "970     138.827597\n",
              "971     139.633026\n",
              "972     138.904142\n",
              "973     139.146461\n",
              "974     137.621270\n",
              "975     136.716198\n",
              "976     137.141606\n",
              "977     138.099183\n",
              "978     141.052938\n",
              "979     138.354332\n",
              "980     137.657677\n",
              "981     137.107427\n",
              "982     136.520703\n",
              "983     136.207942\n",
              "984     134.983109\n",
              "985     134.723786\n",
              "986     135.386550\n",
              "987     136.819589\n",
              "988     137.497605\n",
              "989     137.876644\n",
              "990     135.905963\n",
              "991     134.320114\n",
              "992     134.704633\n",
              "993     135.832765\n",
              "994     136.648858\n",
              "995     135.025765\n",
              "996     135.182593\n",
              "997     133.208315\n",
              "998     133.720692\n",
              "999     130.769259\n",
              "1000    130.016541\n",
              "1001    130.271708\n",
              "1002    132.270746\n",
              "1003    133.320429\n",
              "1004    133.277520\n",
              "1005    131.815969\n",
              "1006    128.138599\n",
              "1007    129.360026\n",
              "1008    131.532951\n",
              "1009    131.611398\n",
              "1010    131.655197\n",
              "1011    131.727284\n",
              "1012    132.051408\n",
              "1013    131.682123\n",
              "1014    131.070736\n",
              "1015    130.560659\n",
              "1016    131.005213\n",
              "1017    131.069235\n",
              "1018    130.539505\n",
              "1019    130.063467\n",
              "1020    130.297401\n",
              "1021    128.052226\n",
              "1022    128.102929\n",
              "1023    128.246389\n",
              "1024    128.197670\n",
              "1025    128.398259\n",
              "1026    130.213470\n",
              "1027    130.227993\n",
              "1028    130.790796\n",
              "1029    131.918896\n",
              "1030    132.013284\n",
              "1031    136.843475\n",
              "1032    138.138096\n",
              "1033    138.898577\n",
              "1034    138.613705\n",
              "1035    136.922133\n",
              "1036    137.556871\n",
              "1037    137.102280\n",
              "1038    135.944649\n",
              "1039    131.200729\n",
              "1040    131.994659\n",
              "1041    133.028310\n",
              "1042    133.509220\n",
              "1043    132.715265\n",
              "1044    132.498317\n",
              "1045    133.514725\n",
              "1046    133.798371\n",
              "1047    132.844187\n",
              "1048    131.796433\n",
              "1049    132.273180\n",
              "1050    133.110507\n",
              "1051    132.086964\n",
              "1052    130.670661\n",
              "1053    130.697877\n",
              "1054    130.605295\n",
              "1055    130.138994\n",
              "1056    132.184729\n",
              "1057    134.771782\n",
              "1058    135.395919\n",
              "1059    135.925106\n",
              "1060    134.135510\n",
              "1061    132.437733\n",
              "1062    132.396875\n",
              "1063    133.199787\n",
              "1064    133.743551\n",
              "1065    134.173505\n",
              "1066    132.844131\n",
              "1067    132.729842\n",
              "1068    133.855810\n",
              "1069    136.491720\n",
              "1070    140.350767\n",
              "1071    142.277671\n",
              "1072    144.456312\n",
              "1073    144.772994\n",
              "1074    145.975818\n",
              "1075    145.708263\n",
              "1076    143.414235\n",
              "1077    141.677164\n",
              "1078    142.062627\n",
              "1079    138.547893\n",
              "1080    134.184767\n",
              "1081    131.731379\n",
              "1082    136.947363\n",
              "1083    137.910513\n",
              "1084    135.015419\n",
              "1085    135.852600\n",
              "1086    133.937183\n",
              "1087    132.353556\n",
              "1088    132.114473\n",
              "1089    130.929855\n",
              "1090    133.941996\n",
              "1091    136.862347\n",
              "1092    136.990960\n",
              "1093    136.874522\n",
              "1094    136.141661\n",
              "1095    135.730554\n",
              "1096    134.834856\n",
              "1097    136.268347\n",
              "1098    135.136377\n",
              "1099    135.004275\n",
              "1100    136.737060\n",
              "1101    139.996752\n",
              "1102    135.839493\n",
              "1103    132.630709\n",
              "1104    124.842180\n",
              "1105    120.808705\n",
              "1106    118.557475\n",
              "1107    122.260796\n",
              "1108    117.085475\n",
              "1109    122.012395\n",
              "1110    124.678464\n",
              "1111    126.412013\n",
              "1112    126.423833\n",
              "1113    126.745158\n",
              "1114    129.359305\n",
              "1115    130.002844\n",
              "1116    136.085817\n",
              "1117    133.649031\n",
              "1118    131.243544\n",
              "1119    130.705230\n",
              "1120    131.050719\n",
              "1121    121.051294\n",
              "1122    122.022068\n",
              "1123    125.065721\n",
              "1124    127.266318\n",
              "1125    128.555545\n",
              "1126    131.758742\n",
              "1127    132.658128\n",
              "1128    130.651270\n",
              "1129    128.440988\n",
              "1130    127.641157\n",
              "1131    129.290513\n",
              "1132    130.761611\n",
              "1133    131.986415\n",
              "1134    132.223815\n",
              "1135    132.506243\n",
              "1136    130.792231\n",
              "1137    131.980795\n",
              "1138    129.906579\n",
              "1139    128.361959\n",
              "1140    127.706989\n",
              "1141    126.546914\n",
              "1142    128.210860\n",
              "1143    128.721080\n",
              "1144    129.692899\n",
              "1145    132.517364\n",
              "1146    134.872834\n",
              "1147    134.407497\n",
              "1148    134.777487\n",
              "1149    136.759134\n",
              "1150    135.943459\n",
              "1151    135.300960\n",
              "1152    132.834313\n",
              "1153    132.901157\n",
              "1154    134.144115\n",
              "1155    134.368329\n",
              "1156    133.120937\n",
              "1157    133.446457\n",
              "1158    133.824397\n",
              "1159    132.029543\n",
              "1160    130.939569\n",
              "1161    132.345235\n",
              "1162    136.371381\n",
              "1163    135.868573\n",
              "1164    134.677673\n",
              "1165    135.683366\n",
              "1166    134.847609\n",
              "1167    135.919559\n",
              "1168    132.076011\n",
              "1169    137.928362\n",
              "1170    137.222534\n",
              "1171    135.002430\n",
              "1172    128.676234\n",
              "1173    126.732026\n",
              "1174    130.577427\n",
              "1175    130.053979\n",
              "1176    129.277551\n",
              "1177    129.886769\n",
              "1178    137.499208\n",
              "1179    140.212362\n",
              "1180    138.254359\n",
              "1181    137.977332\n",
              "1182    136.542303\n",
              "1183    136.387611\n",
              "1184    136.978774\n",
              "1185    140.560198\n",
              "1186    137.648589\n",
              "1187    135.254000\n",
              "1188    137.940975\n",
              "1189    140.960728\n",
              "1190    138.928025\n",
              "1191    137.841941\n",
              "1192    137.735939\n",
              "1193    139.535214\n",
              "1194    136.842417\n",
              "1195    135.424710\n",
              "1196    135.310814\n",
              "1197    136.714346\n",
              "1198    139.428262\n",
              "1199    140.762043\n",
              "1200    141.209378\n",
              "1201    140.026716\n",
              "1202    141.814987\n",
              "1203    141.923855\n",
              "1204    142.181180\n",
              "1205    142.855590\n",
              "1206    141.794175\n",
              "1207    141.539687\n",
              "1208    143.264189\n",
              "1209    140.911937\n",
              "1210    141.536747\n",
              "1211    142.710249\n",
              "1212    141.983768\n",
              "1213    142.014221\n",
              "1214    143.850177\n",
              "1215    144.057884\n",
              "1216    142.686280\n",
              "1217    140.945354\n",
              "1218    142.069114\n",
              "1219    145.578270\n",
              "1220    148.024478\n",
              "1221    144.690336\n",
              "1222    143.718282\n",
              "1223    140.424041\n",
              "1224    140.818690\n",
              "1225    143.184004\n",
              "1226    140.260698\n",
              "1227    141.817712\n",
              "1228    144.809213\n",
              "1229    141.857578\n",
              "1230    141.944944\n",
              "1231    146.482194\n",
              "1232    148.409487\n",
              "1233    145.613608\n",
              "1234    144.965383\n",
              "1235    142.644023\n",
              "1236    140.968973\n",
              "1237    138.644375\n",
              "1238    138.314388\n",
              "1239    140.017440\n",
              "1240    141.477455\n",
              "1241    141.598867\n",
              "1242    141.536136\n",
              "1243    140.442434\n",
              "1244    141.938776\n",
              "1245    140.287320\n",
              "1246    140.672717\n",
              "1247    141.429592\n",
              "1248    139.959056\n",
              "1249    139.214384\n",
              "1250    139.571423\n",
              "1251    139.564849\n",
              "1252    140.376068\n",
              "1253    138.727326\n",
              "1254    139.643163\n",
              "1255    139.729779\n",
              "1256    136.829623\n",
              "1257    136.428910\n",
              "1258    135.267227\n",
              "1259    135.433326\n",
              "1260    134.640175\n",
              "1261    133.864085\n",
              "1262    134.546824\n",
              "1263    134.730314\n",
              "1264    134.342505\n",
              "1265    134.368195\n",
              "1266    135.433656\n",
              "1267    137.857860\n",
              "1268    136.635032\n",
              "1269    133.870627\n",
              "1270    133.636939\n",
              "1271    134.281013\n",
              "1272    134.563083\n",
              "1273    134.693276\n",
              "1274    133.740335\n",
              "1275    132.755696\n",
              "1276    131.741231\n",
              "1277    130.347809\n",
              "1278    129.254869\n",
              "1279    127.093935\n",
              "1280    123.872385\n",
              "1281    121.049834\n",
              "1282    121.431138\n",
              "1283    126.150703\n",
              "1284    130.269403\n",
              "1285    133.585310\n",
              "1286    138.006471\n",
              "1287    144.197224\n",
              "1288    143.001590\n",
              "1289    140.522695\n",
              "1290    137.247039\n",
              "1291    136.384415\n",
              "1292    137.629572\n",
              "1293    137.563399\n",
              "1294    134.662698\n",
              "1295    130.034491\n",
              "1296    136.897999\n",
              "1297    140.773358\n",
              "1298    143.802888\n",
              "1299    142.202604\n",
              "1300    135.665766\n",
              "1301    132.254301\n",
              "1302    129.062911\n",
              "1303    123.630428\n",
              "1304    124.295833\n",
              "1305    124.205606\n",
              "1306    122.472371\n",
              "1307    127.898904\n",
              "1308    130.356574\n",
              "1309    134.665087\n",
              "1310    128.936659\n",
              "1311    130.133760\n",
              "1312    128.524907\n",
              "1313    128.966212\n",
              "1314    130.808815\n",
              "1315    126.588848\n",
              "1316    133.217811\n",
              "1317    132.694909\n",
              "1318    133.069917\n",
              "1319    132.627610\n",
              "1320    132.749509\n",
              "1321    133.038534\n",
              "1322    133.073153\n",
              "1323    132.524437\n",
              "1324    130.874870\n",
              "1325    130.125816\n",
              "1326    129.344933\n",
              "1327    130.564541\n",
              "1328    129.215874\n",
              "1329    127.144014\n",
              "1330    126.188539\n",
              "1331    125.835553\n",
              "1332    127.106711\n",
              "1333    127.027933\n",
              "1334    128.038312\n",
              "1335    129.192029\n",
              "1336    131.308867\n",
              "1337    130.119054\n",
              "1338    127.091733\n",
              "1339    127.833920\n",
              "1340    126.017866\n",
              "1341    126.156620\n",
              "1342    126.541257\n",
              "1343    125.708286\n",
              "1344    125.510202\n",
              "1345    125.976960\n",
              "1346    126.074923\n",
              "1347    127.156369\n",
              "1348    127.684605\n",
              "1349    127.965100\n",
              "1350    129.976730\n",
              "1351    127.559575\n",
              "1352    124.723018\n",
              "1353    123.454213\n",
              "1354    125.964894\n",
              "1355    125.313350\n",
              "1356    124.777290\n",
              "1357    125.581374\n",
              "1358    122.093645\n",
              "1359    122.597897\n",
              "1360    122.607826\n",
              "1361    122.657702\n",
              "1362    122.628850\n",
              "1363    123.069124\n",
              "1364    122.179922\n",
              "1365    122.728160\n",
              "1366    123.279235\n",
              "1367    122.101935\n",
              "1368    119.755564\n",
              "1369    127.616816\n",
              "1370    133.960879\n",
              "1371    139.224248\n",
              "1372    139.610295\n",
              "1373    143.712806\n",
              "1374    141.980548\n",
              "1375    148.930756\n",
              "1376    147.048216\n",
              "1377    145.476170\n",
              "1378    145.555937\n",
              "1379    145.828285\n",
              "1380    143.601039\n",
              "1381    142.372356\n",
              "1382    143.424440\n",
              "1383    141.733305\n",
              "1384    142.020981\n",
              "1385    140.623991\n",
              "1386    144.497043\n",
              "1387    144.314481\n",
              "1388    141.810617\n",
              "1389    142.127008\n",
              "1390    144.685663\n",
              "1391    145.937368\n",
              "1392    144.911582\n",
              "1393    145.932854\n",
              "1394    147.389952\n",
              "1395    150.380443\n",
              "1396    149.205529\n",
              "1397    148.155446\n",
              "1398    141.782138\n",
              "1399    135.388801\n",
              "1400    135.892170\n",
              "1401    135.590919\n",
              "1402    136.759624\n",
              "1403    137.868601\n",
              "1404    139.210097\n",
              "1405    144.488238\n",
              "1406    139.737445\n",
              "1407    138.829045\n",
              "1408    138.795131\n",
              "1409    139.369845\n",
              "1410    137.508176\n",
              "1411    140.241116\n",
              "1412    138.424893\n",
              "1413    133.545752\n",
              "1414    132.552570\n",
              "1415    132.616422\n",
              "1416    132.673030\n",
              "1417    135.124608\n",
              "1418    137.203057\n",
              "1419    136.091488\n",
              "1420    134.778718\n",
              "1421    134.364611\n",
              "1422    135.440055\n",
              "1423    136.282232\n",
              "1424    136.633560\n",
              "1425    137.346540\n",
              "1426    135.326665\n",
              "1427    135.157989\n",
              "1428    133.379687\n",
              "1429    135.220379\n",
              "1430    136.293997\n",
              "1431    133.125974\n",
              "1432    131.735658\n",
              "1433    129.923629\n",
              "1434    131.394082\n",
              "1435    132.942310\n",
              "1436    131.360236\n",
              "1437    130.128845\n",
              "1438    128.922037\n",
              "1439    128.996220\n",
              "1440    129.267053\n",
              "1441    130.274905\n",
              "1442    130.045905\n",
              "1443    128.856965\n",
              "1444    127.706511\n",
              "1445    126.493088\n",
              "1446    124.573429\n",
              "1447    122.892069\n",
              "1448    123.370717\n",
              "1449    126.147369\n",
              "1450    125.535256\n",
              "1451    126.293272\n",
              "1452    125.141793\n",
              "1453    124.250786\n",
              "1454    124.421716\n",
              "1455    124.629897\n",
              "1456    123.186627\n",
              "1457    123.139733\n",
              "1458    123.289443\n",
              "1459    123.781508\n",
              "1460    124.265632\n",
              "1461    125.020249\n",
              "1462    123.949514\n",
              "1463    124.764992\n",
              "1464    126.617770\n",
              "1465    129.892686\n",
              "1466    130.099953\n",
              "1467    132.953711\n",
              "1468    139.777480\n",
              "1469    143.123483\n",
              "1470    140.032541\n",
              "1471    141.000875\n",
              "1472    136.546526\n",
              "1473    135.698870\n",
              "1474    136.606568\n",
              "1475    138.052349\n",
              "1476    136.119321\n",
              "1477    136.122455\n",
              "1478    135.756256\n",
              "1479    136.912613\n",
              "1480    138.082165\n",
              "1481    138.530361\n",
              "1482    137.389947\n",
              "1483    138.139416\n",
              "1484    138.382667\n",
              "1485    139.724373\n",
              "1486    140.978496\n",
              "1487    138.899745\n",
              "1488    137.274665\n",
              "1489    137.595331\n",
              "1490    137.903827\n",
              "1491    139.290201\n",
              "1492    140.455239\n",
              "1493    140.439380\n",
              "1494    143.302779\n",
              "1495    144.011781\n",
              "1496    141.704799\n",
              "1497    140.608063\n",
              "1498    136.480431\n",
              "1499    134.867094\n",
              "1500    135.013057\n",
              "1501    138.412807\n",
              "1502    139.439764\n",
              "1503    141.889247\n",
              "1504    138.469340\n",
              "1505    134.823996\n",
              "1506    135.288676\n",
              "1507    132.529706\n",
              "1508    132.912716\n",
              "1509    134.741216\n",
              "1510    135.782296\n",
              "1511    136.865073\n",
              "1512    137.695958\n",
              "1513    138.472701\n",
              "1514    138.307776\n",
              "1515    137.788088\n",
              "1516    136.864658\n",
              "1517    132.539243\n",
              "1518    131.276089\n",
              "1519    133.307568\n",
              "1520    132.886466\n",
              "1521    132.136616\n",
              "1522    133.098712\n",
              "1523    133.372230\n",
              "1524    132.868136\n",
              "1525    132.291959\n",
              "1526    132.492373\n",
              "1527    138.529101\n",
              "1528    138.403430\n",
              "1529    138.443875\n",
              "1530    136.763421\n",
              "1531    136.942651\n",
              "1532    137.828363\n",
              "1533    137.900172\n",
              "1534    137.709204\n",
              "1535    134.199965\n",
              "1536    134.248596\n",
              "1537    132.152837\n",
              "1538    131.742795\n",
              "1539    133.488742\n",
              "1540    134.154054\n",
              "1541    136.098414\n",
              "1542    137.577669\n",
              "1543    138.440795\n",
              "1544    136.392701\n",
              "1545    136.088950\n",
              "1546    135.616631\n",
              "1547    135.139197\n",
              "1548    138.424405\n",
              "1549    135.030238\n",
              "1550    136.241600\n",
              "1551    137.518428\n",
              "1552    136.830767\n",
              "1553    137.192712\n",
              "1554    138.312993\n",
              "1555    133.541334\n",
              "1556    134.785210\n",
              "1557    137.589550\n",
              "1558    140.609223\n",
              "1559    141.345739\n",
              "1560    139.316649\n",
              "1561    137.710864\n",
              "1562    137.369907\n",
              "1563    138.090324\n",
              "1564    135.568163\n",
              "1565    132.908206\n",
              "1566    132.550765\n",
              "1567    129.250143\n",
              "1568    123.818108\n",
              "1569    126.715259\n",
              "1570    129.435817\n",
              "1571    131.650405\n",
              "1572    133.020239\n",
              "1573    131.670250\n",
              "1574    131.957205\n",
              "1575    129.754828\n",
              "1576    129.911989\n",
              "1577    128.588599\n",
              "1578    128.791170\n",
              "1579    129.438642\n",
              "1580    129.907539\n",
              "1581    130.512524\n",
              "1582    129.840881\n",
              "1583    129.499636\n",
              "1584    131.811834\n",
              "1585    129.677181\n",
              "1586    128.064405\n",
              "1587    131.214276\n",
              "1588    131.215510\n",
              "1589    133.483809\n",
              "1590    132.352152\n",
              "1591    134.076197\n",
              "1592    130.156694\n",
              "1593    124.990022\n",
              "1594    123.398951\n",
              "1595    120.495495\n",
              "1596    113.823594\n",
              "1597    109.743386\n",
              "1598    105.706911\n",
              "1599    108.466528\n",
              "1600    108.385698\n",
              "1601    108.118835\n",
              "1602    106.264076\n",
              "1603    102.033874\n",
              "1604     96.134200\n",
              "1605     97.236400\n",
              "1606    106.152615\n",
              "1607    110.178201\n",
              "1608    110.133261\n",
              "1609    112.654513\n",
              "1610    110.237935\n",
              "1611     83.671125\n",
              "1612     99.989649\n",
              "1613     99.927470\n",
              "1614    107.589055\n",
              "1615    111.510663\n",
              "1616    115.127234\n",
              "1617    114.051641\n",
              "1618    116.561115\n",
              "1619    113.686345\n",
              "1620    112.676592\n",
              "1621    109.373096\n",
              "1622    116.245272\n",
              "1623    110.316582\n",
              "1624    109.475883\n",
              "1625    115.100812\n",
              "1626    121.151822\n",
              "1627    113.013778\n",
              "1628    113.507967\n",
              "1629    114.686902\n",
              "1630    110.705305\n",
              "1631    102.660125\n",
              "1632    101.178999\n",
              "1633    103.941789\n",
              "1634    108.540198\n",
              "1635    107.539363\n",
              "1636    110.713018\n",
              "1637    108.510255\n",
              "1638    111.505747\n",
              "1639    108.618799\n",
              "1640    107.036638\n",
              "1641    103.964717\n",
              "1642    101.746564\n",
              "1643    109.295921\n",
              "1644    112.801640\n",
              "1645    116.202456\n",
              "1646    112.696576\n",
              "1647    107.363383\n",
              "1648    108.100700\n",
              "1649    105.530989\n",
              "1650    104.008105\n",
              "1651    103.854850\n",
              "1652    101.069863\n",
              "1653    100.106946\n",
              "1654    106.099694\n",
              "1655    106.999431\n",
              "1656    109.202399\n",
              "1657    107.107464\n",
              "1658    106.082078\n",
              "1659    103.151347\n",
              "1660    105.149433\n",
              "1661    102.217995\n",
              "1662    100.043265\n",
              "1663     96.735381\n",
              "1664     97.779452\n",
              "1665     97.187724\n",
              "1666     97.828783\n",
              "1667    100.798494\n",
              "1668    102.599402\n",
              "1669    100.178276\n",
              "1670    100.929156\n",
              "1671    100.765734\n",
              "1672     98.474079\n",
              "1673     99.254899\n",
              "1674    100.307398\n",
              "1675     98.328748\n",
              "1676     97.268514\n",
              "1677     97.721476\n",
              "1678     99.618173\n",
              "1679    103.601558\n",
              "1680    103.972517\n",
              "1681    101.847311\n",
              "1682    101.415237\n",
              "1683    102.461369\n",
              "1684     99.742490\n",
              "1685    101.810084\n",
              "1686    102.973496\n",
              "1687    100.041124\n",
              "1688     97.227113\n",
              "1689     97.684751\n",
              "1690     95.022716\n",
              "1691     92.597234\n",
              "1692     95.118482\n",
              "1693     94.829761\n",
              "1694     95.401341\n",
              "1695     90.959168\n",
              "1696     90.868478\n",
              "1697     88.657860\n",
              "1698     88.227248\n",
              "1699     91.042586\n",
              "1700     90.840547\n",
              "1701     93.908600\n",
              "1702     96.572975\n",
              "1703    100.531275\n",
              "1704    101.794877\n",
              "1705     99.911733\n",
              "1706     98.761944\n",
              "1707     97.115030\n",
              "1708    101.786760\n",
              "1709    102.894679\n",
              "1710    101.389372\n",
              "1711    101.635392\n",
              "1712    104.484722\n",
              "1713    107.198148\n",
              "1714    106.702702\n",
              "1715    109.351329\n",
              "1716    107.437656\n",
              "1717    105.681400\n",
              "1718    107.888835\n",
              "1719    110.756643\n",
              "1720    110.195403\n",
              "1721    107.955882\n",
              "1722    107.350339\n",
              "1723    105.597671\n",
              "1724    105.244543\n",
              "1725    104.964208\n",
              "1726    109.609912\n",
              "1727    105.059131\n",
              "1728    105.845004\n",
              "1729    105.903102\n",
              "1730    111.591284\n",
              "1731    112.548269\n",
              "1732    111.341677\n",
              "1733    107.871505\n",
              "1734    106.830080\n",
              "1735    106.513637\n",
              "1736    105.565858\n",
              "1737    105.964398\n",
              "1738    107.303934\n",
              "1739    103.635731\n",
              "1740    103.702198\n",
              "1741    104.745330\n",
              "1742    104.211105\n",
              "1743    103.229868\n",
              "1744    104.459983\n",
              "1745    103.993788\n",
              "1746    107.432163\n",
              "1747    110.948915\n",
              "1748    111.739656\n",
              "1749    110.713917\n",
              "1750    109.548929\n",
              "1751    112.000399\n",
              "1752    105.741433\n",
              "1753    104.784439\n",
              "1754    108.275466\n",
              "1755    117.386638\n",
              "1756    117.380079\n",
              "1757    109.052337\n",
              "1758    108.336905\n",
              "1759    108.609672\n",
              "1760    109.660413\n",
              "1761    111.348334\n",
              "1762    111.853789\n",
              "1763    111.673313\n",
              "1764    108.290953\n",
              "1765    105.667713\n",
              "1766    105.989322\n",
              "1767    106.478885\n",
              "1768    109.340115\n",
              "1769    111.511397\n",
              "1770    115.964964\n",
              "1771    117.142252\n",
              "1772    114.987388\n",
              "1773    109.704949\n",
              "1774    106.847745\n",
              "1775    107.444880\n",
              "1776    109.132339\n",
              "1777    111.022979\n",
              "1778    111.651638\n",
              "1779    113.141757\n",
              "1780    115.664985\n",
              "1781    117.131395\n",
              "1782    115.982109\n",
              "1783    115.955893\n",
              "1784    116.283702\n",
              "1785    117.592469\n",
              "1786    117.101721\n",
              "1787    116.080376\n",
              "1788    118.927158\n",
              "1789    118.927116\n",
              "1790    114.853901\n",
              "1791    113.460958\n",
              "1792    112.841277\n",
              "1793    111.920739\n",
              "1794    112.361321\n",
              "1795    111.577050\n",
              "1796    112.501860\n",
              "1797    113.594443\n",
              "1798    115.100712\n",
              "1799    116.049416\n",
              "1800    115.498759\n",
              "1801    115.137781\n",
              "1802    115.933497\n",
              "1803    116.034976\n",
              "1804    115.827428\n",
              "1805    114.606849\n",
              "1806    113.799208\n",
              "1807    113.225546\n",
              "1808    112.852678\n",
              "1809    111.633697\n",
              "1810    110.788025\n",
              "1811    110.607654\n",
              "1812    111.000846\n",
              "1813    114.149698\n",
              "1814    115.021178\n",
              "1815    116.491451\n",
              "1816    111.952345\n",
              "1817    110.370332\n",
              "1818    109.556670\n",
              "1819    109.223846\n",
              "1820    111.987157\n",
              "1821    111.950343\n",
              "1822    111.707236\n",
              "1823    111.759675\n",
              "1824    111.788013\n",
              "1825    110.718116\n",
              "1826    111.288135\n",
              "1827    111.311901\n",
              "1828    110.121077\n",
              "1829    110.537591\n",
              "1830    110.969959\n",
              "1831    111.521958\n",
              "1832    110.520220\n",
              "1833    111.195207\n",
              "1834    112.313126\n",
              "1835    114.797763\n",
              "1836    111.568550\n",
              "1837    112.666671\n",
              "1838    114.487543\n",
              "1839    113.040548\n",
              "1840    113.047806\n",
              "1841    112.503679\n",
              "1842    112.852029\n",
              "1843    112.075607\n",
              "1844    111.355355\n",
              "1845    109.080385\n",
              "1846    106.801094\n",
              "1847    112.804337\n",
              "1848    115.506154\n",
              "1849    117.839579\n",
              "1850    119.366727\n",
              "1851    122.591012\n",
              "1852    110.596018\n",
              "1853    110.367190\n",
              "1854    111.492873\n",
              "1855    111.243867\n",
              "1856    111.483963\n",
              "1857    112.135198\n",
              "1858    112.816624\n",
              "1859    111.742233\n",
              "1860    112.163265\n",
              "1861    111.721610\n",
              "1862    111.674735\n",
              "1863    112.798536\n",
              "1864    111.589671\n",
              "1865    110.496386\n",
              "1866    113.980263\n",
              "1867    114.049479\n",
              "1868    112.888706\n",
              "1869    111.358379\n",
              "1870    111.354441\n",
              "1871    112.759059\n",
              "1872    113.539708\n",
              "1873    115.046813\n",
              "1874    116.522611\n",
              "1875    117.816956\n",
              "1876    118.398385\n",
              "1877    119.566969\n",
              "1878    118.940749\n",
              "1879    118.102434\n",
              "1880    118.283443\n",
              "1881    117.506277\n",
              "1882    117.767897\n",
              "1883    118.305404\n",
              "1884    118.303370\n",
              "1885    118.456144\n",
              "1886    118.784076\n",
              "1887    118.846246\n",
              "1888    118.992678\n",
              "1889    119.396501\n",
              "1890    119.238727\n",
              "1891    119.015449\n",
              "1892    118.774477\n",
              "1893    117.603307\n",
              "1894    116.766058\n",
              "1895    116.192294\n",
              "1896    116.085607\n",
              "1897    116.182018\n",
              "1898    116.541235\n",
              "1899    117.134090\n",
              "1900    117.510095\n",
              "1901    117.497654\n",
              "1902    117.791471\n",
              "1903    118.242365\n",
              "1904    118.181617\n",
              "1905    118.423870\n",
              "1906    119.212480\n",
              "1907    119.347359\n",
              "1908    119.644969\n",
              "1909    119.912814\n",
              "1910    119.190842\n",
              "1911    117.939783\n",
              "1912    117.165729\n",
              "1913    116.708927\n",
              "1914    116.486799\n",
              "1915    116.251520\n",
              "1916    116.754053\n",
              "1917    116.815331\n",
              "1918    117.425729\n",
              "1919    116.310998\n",
              "1920    116.023277\n",
              "1921    114.350021\n",
              "1922    110.407941\n",
              "1923    112.068774\n",
              "1924    114.426773\n",
              "1925    116.940521\n",
              "1926    117.579269\n",
              "1927    118.660664\n",
              "1928    118.994620\n",
              "1929    118.663100\n",
              "1930    117.757862\n",
              "1931    116.917189\n",
              "1932    116.239016\n",
              "1933    117.250993\n",
              "1934    117.060951\n",
              "1935    116.184656\n",
              "1936    115.527538\n",
              "1937    115.797224\n",
              "1938    115.646114\n",
              "1939    116.557061\n",
              "1940    117.045357\n",
              "1941    118.082469\n",
              "1942    118.158485\n",
              "1943    118.883839\n",
              "1944    119.012242\n",
              "1945    116.955754\n",
              "1946    115.847564\n",
              "1947    116.131658\n",
              "1948    117.247999\n",
              "1949    118.661161\n",
              "1950    118.303627\n",
              "1951    117.512865\n",
              "1952    116.789408\n",
              "1953    117.114470\n",
              "1954    116.214661\n",
              "1955    116.306760\n",
              "1956    117.007903\n",
              "1957    118.080448\n",
              "1958    118.097182\n",
              "1959    117.811003\n",
              "1960    117.628756\n",
              "1961    117.189118\n",
              "1962    116.916640\n",
              "1963    117.136994\n",
              "1964    116.735253\n",
              "1965    117.293081\n",
              "1966    116.047039\n",
              "1967    114.424777\n",
              "1968    113.661774\n",
              "1969    113.636494\n",
              "1970    114.506455\n",
              "1971    115.880426\n",
              "1972    116.628391\n",
              "1973    117.012360\n",
              "1974    116.618020\n",
              "1975    116.112239\n",
              "1976    114.405657\n",
              "1977    112.741786\n",
              "1978    114.348935\n",
              "1979    115.805455\n",
              "1980    117.464509\n",
              "1981    118.370535\n",
              "1982    120.516060\n",
              "1983    118.745216\n",
              "1984    118.317832\n",
              "1985    117.355536\n",
              "1986    117.658772\n",
              "1987    118.010084\n",
              "1988    118.155986\n",
              "1989    117.876897\n",
              "1990    118.159001\n",
              "1991    117.653581\n",
              "1992    116.462990\n",
              "1993    114.730388\n",
              "1994    113.385543\n",
              "1995    117.108470\n",
              "1996    117.899978\n",
              "1997    119.780052\n",
              "1998    119.665081\n",
              "1999    121.305328\n",
              "2000    121.455547\n",
              "2001    119.842053\n",
              "2002    118.512703\n",
              "2003    118.036369\n",
              "2004    117.372052\n",
              "2005    117.026420\n",
              "2006    116.848034\n",
              "2007    117.801407\n",
              "2008    120.091665\n",
              "2009    122.347209\n",
              "2010    123.112870\n",
              "2011    123.442211\n",
              "2012    122.642740\n",
              "2013    117.922747\n",
              "2014    117.050470\n",
              "2015    117.817782\n",
              "2016    116.992196\n",
              "2017    118.464185\n",
              "2018    118.760825\n",
              "2019    118.484366\n",
              "2020    120.959189\n",
              "2021    123.295291\n",
              "2022    124.112534\n",
              "2023    123.765338\n",
              "2024    123.083869\n",
              "2025    122.181136\n",
              "2026    120.566600\n",
              "2027    119.499275\n",
              "2028    119.085160\n",
              "2029    119.341814\n",
              "2030    118.927797\n",
              "2031    118.660135\n",
              "2032    118.932383\n",
              "2033    121.156388\n",
              "2034    121.904908\n",
              "2035    121.988883\n",
              "2036    122.322703\n",
              "2037    122.556866\n",
              "2038    123.538710\n",
              "2039    123.896583\n",
              "2040    124.713793\n",
              "2041    125.034822\n",
              "2042    125.749210\n",
              "2043    126.222383\n",
              "2044    127.027968\n",
              "2045    126.570130\n",
              "2046    125.266834\n",
              "2047    123.156295\n",
              "2048    123.068715\n",
              "2049    123.112170\n",
              "2050    125.492916\n",
              "2051    126.115291\n",
              "2052    127.352516\n",
              "2053    128.473356\n",
              "2054    129.367980\n",
              "2055    129.412865\n",
              "2056    129.840722\n",
              "2057    128.028776\n",
              "2058    127.858678\n",
              "2059    127.633471\n",
              "2060    127.929498\n",
              "2061    128.239369\n",
              "2062    127.838351\n",
              "2063    127.932125\n",
              "2064    127.824892\n",
              "2065    128.232473\n",
              "2066    127.994323\n",
              "2067    129.137693\n",
              "2068    129.876130\n",
              "2069    130.460059\n",
              "2070    130.192007\n",
              "2071    129.786945\n",
              "2072    129.408459\n",
              "2073    129.563279\n",
              "2074    129.325381\n",
              "2075    131.070706\n",
              "2076    131.063423\n",
              "2077    131.832722\n",
              "2078    132.850287\n",
              "2079    133.663078\n",
              "2080    133.476621\n",
              "2081    132.427131\n",
              "2082    131.437924\n",
              "2083    130.831095\n",
              "2084    131.465825\n",
              "2085    131.439514\n",
              "2086    133.109709\n",
              "2087    131.666082\n",
              "2088    132.361920\n",
              "2089    132.072860\n",
              "2090    133.148063\n",
              "2091    132.261333\n",
              "2092    132.882453\n",
              "2093    134.693747\n",
              "2094    133.505435\n",
              "2095    133.079863\n",
              "2096    130.365327\n",
              "2097    133.309765\n",
              "2098    135.502210\n",
              "2099    136.986621\n",
              "2100    139.038998\n",
              "2101    131.512861\n",
              "2102    131.432728\n",
              "2103    133.038218\n",
              "2104    133.534369\n",
              "2105    132.416726\n",
              "2106    131.533448\n",
              "2107    134.176334\n",
              "2108    134.749095\n",
              "2109    137.576750\n",
              "2110    139.206664\n",
              "2111    142.443413\n",
              "2112    144.650536\n",
              "2113    142.719776\n",
              "2114    140.499490\n",
              "2115    140.926063\n",
              "2116    140.131973\n",
              "2117    138.911279\n",
              "2118    139.473581\n",
              "2119    135.195092\n",
              "2120    132.326287\n",
              "2121    133.403066\n",
              "2122    135.934089\n",
              "2123    136.997619\n",
              "2124    137.334804\n",
              "2125    135.722313\n",
              "2126    132.910753\n",
              "2127    134.170655\n",
              "2128    136.420864\n",
              "2129    138.694873\n",
              "2130    138.660709\n",
              "2131    140.176729\n",
              "2132    138.010929\n",
              "2133    135.866122\n",
              "2134    135.481154\n",
              "2135    133.135005\n",
              "2136    132.616660\n",
              "2137    133.273069\n",
              "2138    137.130315\n",
              "2139    141.436276\n",
              "2140    140.797172\n",
              "2141    140.837786\n",
              "2142    146.416817\n",
              "2143    148.143584\n",
              "2144    149.070712\n",
              "2145    144.087846\n",
              "2146    142.135672\n",
              "2147    142.117054\n",
              "2148    139.765313\n",
              "2149    139.031306\n",
              "2150    141.167361\n",
              "2151    142.594991\n",
              "2152    141.698026\n",
              "2153    140.802450\n",
              "2154    139.407877\n",
              "2155    139.856468\n",
              "2156    135.539432\n",
              "2157    135.407450\n",
              "2158    137.895753\n",
              "2159    136.226478\n",
              "2160    137.816574\n",
              "2161    139.087958\n",
              "2162    142.248643\n",
              "2163    144.074661\n",
              "2164    144.721647\n",
              "2165    142.003649\n",
              "2166    140.432568\n",
              "2167    140.612061\n",
              "2168    144.792987\n",
              "2169    144.496609\n",
              "2170    147.208618\n",
              "2171    149.721025\n",
              "2172    144.810126\n",
              "2173    143.618251\n",
              "2174    143.374783\n",
              "2175    142.725984\n",
              "2176    143.931245\n",
              "2177    141.870930\n",
              "2178    149.429651\n",
              "2179    151.256321\n",
              "2180    149.237549\n",
              "2181    152.814466\n",
              "2182    145.796221\n",
              "2183    143.953277\n",
              "2184    142.903708\n",
              "2185    142.911731\n",
              "2186    142.338061\n",
              "2187    141.687545\n",
              "2188    135.550286\n",
              "2189    132.854841\n",
              "2190    131.353693\n",
              "2191    130.056736\n",
              "2192    133.748212\n",
              "2193    137.957642\n",
              "2194    140.058634\n",
              "2195    140.247350\n",
              "2196    142.238630\n",
              "2197    142.767660\n",
              "2198    135.019209\n",
              "2199    132.431943\n",
              "2200    132.477137\n",
              "2201    134.546578\n",
              "2202    136.785079\n",
              "2203    139.036312\n",
              "2204    138.816590\n",
              "2205    141.259045\n",
              "2206    142.271579\n",
              "2207    146.745563\n",
              "2208    147.642422\n",
              "2209    142.697674\n",
              "2210    150.900715\n",
              "2211    154.704290\n",
              "2212    140.151588\n",
              "2213    139.919049\n",
              "2214    136.369342\n",
              "2215    131.379499\n",
              "2216    131.825851\n",
              "2217    130.066707\n",
              "2218    129.998016\n",
              "2219    131.554877\n",
              "2220    133.428948\n",
              "2221    134.977929\n",
              "2222    135.810687\n",
              "2223    135.486544\n",
              "2224    136.115877\n",
              "2225    136.366398\n",
              "2226    135.050271\n",
              "2227    134.199057\n",
              "2228    134.212675\n",
              "2229    134.100011\n",
              "2230    134.082970\n",
              "2231    133.223164\n",
              "2232    129.383080\n",
              "2233    129.389557\n",
              "2234    130.271409\n",
              "2235    128.082407\n",
              "2236    126.088643\n",
              "2237    126.874236\n",
              "2238    126.693635\n",
              "2239    127.369303\n",
              "2240    129.790121\n",
              "2241    130.172840\n",
              "2242    130.310584\n",
              "2243    129.766751\n",
              "2244    131.088683\n",
              "2245    131.569277\n",
              "2246    132.389916\n",
              "2247    131.053127\n",
              "2248    131.058425\n",
              "2249    134.323337\n",
              "2250    134.823530\n",
              "2251    135.416682\n",
              "2252    136.282982\n",
              "2253    135.425487\n",
              "2254    134.703583\n",
              "2255    134.941858\n",
              "2256    135.401964\n",
              "2257    136.867385\n",
              "2258    137.940357\n",
              "2259    138.564110\n",
              "2260    138.675145\n",
              "2261    136.818336\n",
              "2262    136.981511\n",
              "2263    136.064261\n",
              "2264    135.536065\n",
              "2265    133.807605\n",
              "2266    134.888522\n",
              "2267    133.198384\n",
              "2268    133.388069\n",
              "2269    132.193910\n",
              "2270    132.317364\n",
              "2271    132.469472\n",
              "2272    130.740581\n",
              "2273    129.751495\n",
              "2274    128.870341\n",
              "2275    127.984551\n",
              "2276    129.925042\n",
              "2277    133.223383\n",
              "2278    133.936594\n",
              "2279    133.984067\n",
              "2280    132.736702\n",
              "2281    127.741624\n",
              "2282    125.298063\n",
              "2283    125.312278\n",
              "2284    124.866324\n",
              "2285    125.962239\n",
              "2286    126.112604\n",
              "2287    124.773467\n",
              "2288    123.914462\n",
              "2289    122.835662\n",
              "2290    122.180766\n",
              "2291    122.227708\n",
              "2292    122.227603\n",
              "2293    122.244138\n",
              "2294    122.777364\n",
              "2295    122.836811\n",
              "2296    124.177625\n",
              "2297    124.914324\n",
              "2298    124.835434\n",
              "2299    123.748041\n",
              "2300    122.783827\n",
              "2301    123.161714\n",
              "2302    124.442566\n",
              "2303    123.277943\n",
              "2304    125.405130\n",
              "2305    125.885006\n",
              "2306    125.034758\n",
              "2307    124.152483\n",
              "2308    124.047777\n",
              "2309    122.471638\n",
              "2310    123.125839\n",
              "2311    123.783320\n",
              "2312    125.947943\n",
              "2313    126.232112\n",
              "2314    126.806277\n",
              "2315    127.483789\n",
              "2316    129.062254\n",
              "2317    129.296462\n",
              "2318    128.940257\n",
              "2319    129.273724\n",
              "2320    128.513170\n",
              "2321    129.598619\n",
              "2322    132.007626\n",
              "2323    136.543513\n",
              "2324    139.797205\n",
              "2325    137.709923\n",
              "2326    129.569654\n",
              "2327    157.606525\n",
              "2328    156.345292\n",
              "2329    159.031052\n",
              "2330    162.678210\n",
              "2331    165.473895\n",
              "2332    156.587094\n",
              "2333    147.260669\n",
              "2334    130.948669\n",
              "2335    127.445371\n",
              "2336    126.608851\n",
              "2337    126.494900\n",
              "2338    127.317881\n",
              "2339    127.908554\n",
              "2340    129.124931\n",
              "2341    129.258729\n",
              "2342    128.856966\n",
              "2343    129.177408\n",
              "2344    129.698213\n",
              "2345    129.353281\n",
              "2346    128.511316\n",
              "2347    128.910214\n",
              "2348    128.401328\n",
              "2349    130.181347\n",
              "2350    131.432316\n",
              "2351    130.727103\n",
              "2352    130.686742\n",
              "2353    131.151606\n",
              "2354    130.789859\n",
              "2355    130.621329\n",
              "2356    130.687710\n",
              "2357    130.644604\n",
              "2358    132.852651\n",
              "2359    133.003849\n",
              "2360    130.705873\n",
              "2361    130.718687\n",
              "2362    130.074141\n",
              "2363    130.824256\n",
              "2364    131.648696\n",
              "2365    131.741001\n",
              "2366    130.888124\n",
              "2367    130.664993\n",
              "2368    130.130342\n",
              "2369    129.673951\n",
              "2370    130.095665\n",
              "2371    130.935037\n",
              "2372    130.718432\n",
              "2373    131.644649\n",
              "2374    133.674413\n",
              "2375    133.689620\n",
              "2376    132.472310\n",
              "2377    132.235728\n",
              "2378    130.916706\n",
              "2379    130.785116\n",
              "2380    128.502289\n",
              "2381    129.884492\n",
              "2382    131.811705\n",
              "2383    131.428141\n",
              "2384    131.569513\n",
              "2385    132.435557\n",
              "2386    130.695734\n",
              "2387    129.251557\n",
              "2388    130.017962\n",
              "2389    129.076703\n",
              "2390    128.647340\n",
              "2391    129.138146\n",
              "2392    129.835154\n",
              "2393    129.949619\n",
              "2394    129.247398\n",
              "2395    129.986191\n",
              "2396    133.024587\n",
              "2397    137.266599\n",
              "2398    134.842979\n",
              "2399    135.443462\n",
              "2400    137.743890\n",
              "2401    139.991512\n",
              "2402    138.201067\n",
              "2403    137.350281\n",
              "2404    136.949585\n",
              "2405    135.457004\n",
              "2406    133.823723\n",
              "2407    134.971379\n",
              "2408    133.453264\n",
              "2409    132.915593\n",
              "2410    133.911356\n",
              "2411    135.586743\n",
              "2412    136.641354\n",
              "2413    137.349458\n",
              "2414    136.831553\n",
              "2415    137.524765\n",
              "2416    137.339377\n",
              "2417    136.856690\n",
              "2418    134.496803\n",
              "2419    133.717847\n",
              "2420    133.821829\n",
              "2421    136.002340\n",
              "2422    137.082030\n",
              "2423    137.410384\n",
              "2424    138.521475\n",
              "2425    137.124318\n",
              "2426    136.911896\n",
              "2427    135.933701\n",
              "2428    135.124503\n",
              "2429    136.145052\n",
              "2430    135.985829\n",
              "2431    137.632669\n",
              "2432    137.979131\n",
              "2433    138.276886\n",
              "2434    137.491518\n",
              "2435    137.037705\n",
              "2436    136.827784\n",
              "2437    137.426683\n",
              "2438    136.232830\n",
              "2439    137.177638\n",
              "2440    136.144133\n",
              "2441    136.305929\n",
              "2442    136.402376\n",
              "2443    135.224398\n",
              "2444    134.112614\n",
              "2445    136.825662\n",
              "2446    137.115992\n",
              "2447    134.581791\n",
              "2448    134.432302\n",
              "2449    135.670798\n",
              "2450    133.733347\n",
              "2451    135.640582\n",
              "2452    135.017331\n",
              "2453    135.192183\n",
              "2454    131.516107\n",
              "2455    132.473928\n",
              "2456    132.522720\n",
              "2457    134.764117\n",
              "2458    135.445382\n",
              "2459    136.565493\n",
              "2460    136.416130\n",
              "2461    136.150274\n",
              "2462    136.593666\n",
              "2463    136.008158\n",
              "2464    137.029916\n",
              "2465    136.885468\n",
              "2466    135.813022\n",
              "2467    135.337034\n",
              "2468    134.441841\n",
              "2469    134.932027\n",
              "2470    133.529851\n",
              "2471    133.523714\n",
              "2472    133.217364\n",
              "2473    133.133934\n",
              "2474    133.888649\n",
              "2475    133.599315\n",
              "2476    133.415046\n",
              "2477    134.579246\n",
              "2478    133.378674\n",
              "2479    133.610575\n",
              "2480    133.715333\n",
              "2481    134.662370\n",
              "2482    136.531596\n",
              "2483    136.595762\n",
              "2484    134.036533\n",
              "2485    132.536133\n",
              "2486    131.490937\n",
              "2487    129.446948\n",
              "2488    128.740116\n",
              "2489    128.738058\n",
              "2490    131.026009\n",
              "2491    132.575473\n",
              "2492    129.931735\n",
              "2493    127.213404\n",
              "2494    128.885782\n",
              "2495    130.671503\n",
              "2496    133.609243\n",
              "2497    131.004343\n",
              "2498    128.188432\n",
              "2499    129.050818\n",
              "2500    129.825454\n",
              "2501    132.278148\n",
              "2502    134.739294\n",
              "2503    135.714331\n",
              "2504    137.268173\n",
              "2505    136.887000\n",
              "2506    135.787285\n",
              "2507    135.124825\n",
              "2508    134.218333\n",
              "2509    134.151851\n",
              "2510    137.315401\n",
              "2511    140.443439\n",
              "2512    144.386913\n",
              "2513    137.626972\n",
              "2514    135.548553\n",
              "2515    132.819783\n",
              "2516    133.484600\n",
              "2517    132.624590\n",
              "2518    132.530622\n",
              "2519    130.460635\n",
              "2520    132.071813\n",
              "2521    136.138464\n",
              "2522    133.302197\n",
              "2523    135.365979\n",
              "2524    138.361518\n",
              "2525    137.255550\n",
              "2526    138.728562\n",
              "2527    138.175997\n",
              "2528    137.629516\n",
              "2529    135.493783\n",
              "2530    135.973807\n",
              "2531    133.927581\n",
              "2532    130.818643\n",
              "2533    130.094120\n",
              "2534    130.041443\n",
              "2535    130.113871\n",
              "2536    132.978835\n",
              "2537    134.278176\n",
              "2538    137.820804\n",
              "2539    140.139889\n",
              "2540    141.725830\n",
              "2541    139.644225\n",
              "2542    139.599929\n",
              "2543    134.122176\n",
              "2544    131.852302\n",
              "2545    126.710060\n",
              "2546    128.665619\n",
              "2547    124.707056\n",
              "2548    122.919956\n",
              "2549    121.153530\n",
              "2550    119.133148\n",
              "2551    118.633893\n",
              "2552    120.231824\n",
              "2553    120.116977\n",
              "2554    122.539600\n",
              "2555    125.911212\n",
              "2556    127.727378\n",
              "2557    127.290474\n",
              "2558    127.030788\n",
              "2559    126.931122\n",
              "2560    127.639694\n",
              "2561    127.357089\n",
              "2562    125.700011\n",
              "2563    123.828622\n",
              "2564    124.888823\n",
              "2565    125.665378\n",
              "2566    124.347728\n",
              "2567    124.587676\n",
              "2568    124.053591\n",
              "2569    123.657420\n",
              "2570    122.853811\n",
              "2571    122.828335\n",
              "2572    124.159497\n",
              "2573    125.193073\n",
              "2574    125.416284\n",
              "2575    125.503978\n",
              "2576    125.733620\n",
              "2577    126.170253\n",
              "2578    124.354053\n",
              "2579    124.258009\n",
              "2580    124.392432\n",
              "2581    123.356565\n",
              "2582    123.224016\n",
              "2583    124.139654\n",
              "2584    126.056151\n",
              "2585    126.372856\n",
              "2586    125.517607\n",
              "2587    122.929488\n",
              "2588    121.941373\n",
              "2589    120.771716\n",
              "2590    122.827898\n",
              "2591    123.037556\n",
              "2592    122.785635\n",
              "2593    123.114911\n",
              "2594    123.364000\n",
              "2595    123.740218\n",
              "2596    123.708703\n",
              "2597    120.259051\n",
              "2598    119.907105\n",
              "2599    118.499767\n",
              "2600    120.368164\n",
              "2601    122.618208\n",
              "2602    123.150614\n",
              "2603    124.297260\n",
              "2604    125.048068\n",
              "2605    124.429570\n",
              "2606    123.144787\n",
              "2607    119.293668\n",
              "2608    120.590608\n",
              "2609    121.596017\n",
              "2610    122.571669\n",
              "2611    122.794950\n",
              "2612    123.899490\n",
              "2613    126.767095\n",
              "2614    125.600753\n",
              "2615    126.281239\n",
              "2616    125.489616\n",
              "2617    125.599302\n",
              "2618    124.763842\n",
              "2619    123.332071\n",
              "2620    124.645424\n",
              "2621    127.071523\n",
              "2622    127.612561\n",
              "2623    127.083752\n",
              "2624    129.238395\n",
              "2625    130.857152\n",
              "2626    131.005848\n",
              "2627    131.662883\n",
              "2628    132.844826\n",
              "2629    132.412058\n",
              "2630    133.996551\n",
              "2631    134.699953\n",
              "2632    134.753885\n",
              "2633    133.752535\n",
              "2634    132.542262\n",
              "2635    131.634895\n",
              "2636    132.297870\n",
              "2637    131.954147\n",
              "2638    133.203680\n",
              "2639    132.487134\n",
              "2640    131.920958\n",
              "2641    132.230111\n",
              "2642    131.711886\n",
              "2643    131.495931\n",
              "2644    132.723415\n",
              "2645    133.635034\n",
              "2646    132.768409\n",
              "2647    131.691536\n",
              "2648    129.618271\n",
              "2649    127.991689\n",
              "2650    127.185649\n",
              "2651    127.790642\n",
              "2652    128.165800\n",
              "2653    129.413867\n",
              "2654    131.103679\n",
              "2655    130.429120\n",
              "2656    130.703814\n",
              "2657    131.043816\n",
              "2658    128.854729\n",
              "2659    129.985478\n",
              "2660    130.180389\n",
              "2661    129.972131\n",
              "2662    128.557178\n",
              "2663    128.418685\n",
              "2664    127.143990\n",
              "2665    125.366463\n",
              "2666    126.384999\n",
              "2667    127.858094\n",
              "2668    129.970841\n",
              "2669    129.998473\n",
              "2670    130.026048\n",
              "2671    130.651128\n",
              "2672    128.767257\n",
              "2673    129.081566\n",
              "2674    128.971122\n",
              "2675    131.271929\n",
              "2676    131.338479\n",
              "2677    132.627017\n",
              "2678    132.689142\n",
              "2679    130.222773\n",
              "2680    126.934927\n",
              "2681    124.307439\n",
              "2682    121.705574\n",
              "2683    120.152657\n",
              "2684    119.510759\n",
              "2685    120.684983\n",
              "2686    122.065100\n",
              "2687    122.720324\n",
              "2688    122.390825\n",
              "2689    120.852573\n",
              "2690    120.508142\n",
              "2691    120.847926\n",
              "2692    121.745020\n",
              "2693    121.624973\n",
              "2694    122.408877\n",
              "2695    122.390984\n",
              "2696    122.402854\n",
              "2697    121.908571\n",
              "2698    121.005838\n",
              "2699    120.907452\n",
              "2700    120.940343\n",
              "2701    120.369534\n",
              "2702    120.629375\n",
              "2703    120.997640\n",
              "2704    121.425933\n",
              "2705    122.158736\n",
              "2706    121.989575\n",
              "2707    123.026940\n",
              "2708    123.561825\n",
              "2709    124.013798\n",
              "2710    123.671061\n",
              "2711    124.259900\n",
              "2712    124.689970\n",
              "2713    124.939325\n",
              "2714    124.842876\n",
              "2715    123.394190\n",
              "2716    123.606371\n",
              "2717    122.922916\n",
              "2718    123.009589\n",
              "2719    124.569983\n",
              "2720    125.023528\n",
              "2721    125.394058\n",
              "2722    125.268769\n",
              "2723    124.409770\n",
              "2724    124.909190\n",
              "2725    125.233329\n",
              "2726    124.842165\n",
              "2727    124.324481\n",
              "2728    124.464411\n",
              "2729    126.733284\n",
              "2730    127.811765\n",
              "2731    128.730247\n",
              "2732    129.066538\n",
              "2733    128.822012\n",
              "2734    126.792202\n",
              "2735    125.276831\n",
              "2736    125.066191\n",
              "2737    125.859183\n",
              "2738    125.121268\n",
              "2739    125.374016\n",
              "2740    127.323587\n",
              "2741    128.141545\n",
              "2742    127.737081\n",
              "2743    126.757766\n",
              "2744    125.977953\n",
              "2745    125.590269\n",
              "2746    125.846913\n",
              "2747    126.164464\n",
              "2748    126.139348\n",
              "2749    125.316522\n",
              "2750    125.167464\n",
              "2751    125.083365\n",
              "2752    125.689871\n",
              "2753    126.274175\n",
              "2754    126.802190\n",
              "2755    126.491254\n",
              "2756    126.572626\n",
              "2757    125.956869\n",
              "2758    125.596429\n",
              "2759    125.296840\n",
              "2760    125.247691\n",
              "2761    125.797072\n",
              "2762    127.365127\n",
              "2763    126.764138\n",
              "2764    125.860881\n",
              "2765    125.874922\n",
              "2766    126.305475\n",
              "2767    124.903606\n",
              "2768    122.837506\n",
              "2769    122.845178\n",
              "2770    122.946860\n",
              "2771    123.908321\n",
              "2772    123.838437\n",
              "2773    123.320593\n",
              "2774    124.979953\n",
              "2775    126.224320\n",
              "2776    126.088342\n",
              "2777    125.288467\n",
              "2778    123.252419\n",
              "2779    123.882765\n",
              "2780    124.743229\n",
              "2781    125.227264\n",
              "2782    127.327521\n",
              "2783    126.198953\n",
              "2784    125.500048\n",
              "2785    123.075278\n",
              "2786    123.023498\n",
              "2787    124.509941\n",
              "2788    125.765513\n",
              "2789    128.511419\n",
              "2790    128.694391\n",
              "2791    128.105001\n",
              "2792    127.473850\n",
              "2793    127.159998\n",
              "2794    126.405943\n",
              "2795    123.504127\n",
              "2796    122.982895\n",
              "2797    123.500641\n",
              "2798    124.936687\n",
              "2799    127.562463\n",
              "2800    128.857453\n",
              "2801    129.777909\n",
              "2802    132.205508\n",
              "2803    134.070711\n",
              "2804    132.628080\n",
              "2805    132.360372\n",
              "2806    132.560437\n",
              "2807    131.441222\n",
              "2808    130.873538\n",
              "2809    129.961635\n",
              "2810    128.908939\n",
              "2811    128.700414\n",
              "2812    128.823740\n",
              "2813    128.548485\n",
              "2814    129.825269\n",
              "2815    129.271774\n",
              "2816    128.903636\n",
              "2817    129.108602\n",
              "2818    129.439816\n",
              "2819    130.430507\n",
              "2820    130.889769\n",
              "2821    130.520188\n",
              "2822    127.869434\n",
              "2823    119.955914\n",
              "2824    118.911955\n",
              "2825    111.212867\n",
              "2826    102.338628\n",
              "2827     95.467578\n",
              "2828     90.803544\n",
              "2829     88.527933\n",
              "2830     89.079986\n",
              "2831     92.568809\n",
              "2832     94.982039\n",
              "2833    100.224965\n",
              "2834    110.432321\n",
              "2835    121.075522\n",
              "2836    128.358053\n",
              "2837    129.237800\n",
              "2838    129.057932\n",
              "2839    131.394836\n",
              "2840    131.947707\n",
              "2841    132.761019\n",
              "2842    135.335453\n",
              "2843    136.954990\n",
              "2844    136.398045\n",
              "2845    134.138490\n",
              "2846    130.500910\n",
              "2847    130.432493\n",
              "2848    129.541023\n",
              "2849    130.150039\n",
              "2850    130.214456\n",
              "2851    127.312481\n",
              "2852    125.767978\n",
              "2853    127.734238\n",
              "2854    129.095801\n",
              "2855    130.207567\n",
              "2856    128.495247\n",
              "2857    127.650144\n",
              "2858    124.646954\n",
              "2859    124.202839\n",
              "2860    124.181042\n",
              "2861    124.031810\n",
              "2862    121.838211\n",
              "2863    119.697565\n",
              "2864    115.494354\n",
              "2865    112.151906\n",
              "2866    112.514434\n",
              "2867    113.061344\n",
              "2868    113.642440\n",
              "2869    120.201856\n",
              "2870    127.607595\n",
              "2871    138.629872\n",
              "2872    144.616645\n",
              "2873    148.387764\n",
              "2874    151.906102\n",
              "2875    160.092023\n",
              "2876    159.146071\n",
              "2877    158.507309\n",
              "2878    153.940095\n",
              "2879    155.528019\n",
              "2880    157.715878\n",
              "2881    163.752298\n",
              "2882    156.786854\n",
              "2883    153.656839\n",
              "2884    158.173541\n",
              "2885    157.681607\n",
              "2886    159.266549\n",
              "2887    157.111099\n",
              "2888    154.362578\n",
              "2889    150.679456\n",
              "2890    149.451847\n",
              "2891    141.975218\n",
              "2892    140.857564\n",
              "2893    132.108506\n",
              "2894    121.709392\n",
              "2895    111.396855\n",
              "2896    106.427678\n",
              "2897    105.197205\n",
              "2898    106.826087\n",
              "2899    106.096843\n",
              "2900    104.966580\n",
              "2901    109.221674\n",
              "2902    107.913666\n",
              "2903    108.947692\n",
              "2904    110.502890\n",
              "2905    110.949737\n",
              "2906    109.251569\n",
              "2907    104.922078\n",
              "2908    102.679000\n",
              "2909    102.871886\n",
              "2910    102.973126\n",
              "2911    103.511466\n",
              "2912    102.825488\n",
              "2913    103.163815\n",
              "2914    105.992394\n",
              "2915    122.273393\n",
              "2916    139.962450\n",
              "2917    145.829833\n",
              "2918    117.547800\n",
              "2919    115.400367\n",
              "2920    122.490877\n",
              "2921    122.987538\n",
              "2922    140.429192\n",
              "2923    156.915045\n",
              "2924    145.614679\n",
              "2925    136.990799\n",
              "2926    111.572953\n",
              "2927    107.551207\n",
              "2928    113.027842\n",
              "2929    115.017729\n",
              "2930    116.669529\n",
              "2931    123.325140\n",
              "2932    130.712442\n",
              "2933    136.999002\n",
              "2934    142.585103\n",
              "2935    138.310156\n",
              "2936    138.046351\n",
              "2937    137.477653\n",
              "2938    138.569036\n",
              "2939    136.578461\n",
              "2940    134.910319\n",
              "2941    133.712746\n",
              "2942    133.617233\n",
              "2943    126.929783\n",
              "2944    121.517935\n",
              "2945    123.334970\n",
              "2946    127.474033\n",
              "2947    129.909869\n",
              "2948    130.248812\n",
              "2949    129.390770\n",
              "2950    123.985635\n",
              "2951    125.132860\n",
              "2952    124.991671\n",
              "2953    124.787457\n",
              "2954    123.987989\n",
              "2955    123.516707\n",
              "2956    121.107043\n",
              "2957    119.812640\n",
              "2958    119.306698\n",
              "2959    119.634401\n",
              "2960    119.849141\n",
              "2961    120.242194\n",
              "2962    121.791468\n",
              "2963    123.917047\n",
              "2964    124.789662\n",
              "2965    126.892952\n",
              "2966    126.243939\n",
              "2967    127.030206\n",
              "2968    126.709743\n",
              "2969    126.430762\n",
              "2970    125.647989\n",
              "2971    125.230147\n",
              "2972    125.586564\n",
              "2973    123.907737\n",
              "2974    119.653407\n",
              "2975    119.895203\n",
              "2976    120.859998\n",
              "2977    122.858098\n",
              "2978    124.254563\n",
              "2979    124.228040\n",
              "2980    124.535328\n",
              "2981    124.302864\n",
              "2982    124.297900\n",
              "2983    124.066805\n",
              "2984    125.758050\n",
              "2985    125.626054\n",
              "2986    127.023453\n",
              "2987    126.087643\n",
              "2988    127.029473\n",
              "2989    127.764036\n",
              "2990    127.369623\n",
              "2991    124.700135\n",
              "2992    123.202660\n",
              "2993    123.298816\n",
              "2994    123.367669\n",
              "2995    122.192890\n",
              "2996    123.029105\n",
              "2997    124.950354\n",
              "2998    129.777461\n",
              "2999    129.122618\n",
              "3000    131.054445\n",
              "3001    133.174382\n",
              "3002    132.607217\n",
              "3003    132.792448\n",
              "3004    132.383513\n",
              "3005    132.437129\n",
              "3006    132.799685\n",
              "3007    133.076614\n",
              "3008    132.866319\n",
              "3009    133.547140\n",
              "3010    131.913326\n",
              "3011    131.808997\n",
              "3012    132.290414\n",
              "3013    133.022876\n",
              "3014    133.443875\n",
              "3015    132.855155\n",
              "3016    133.271371\n",
              "3017    135.179881\n",
              "3018    134.864096\n",
              "3019    135.060096\n",
              "3020    136.038476\n",
              "3021    133.815254\n",
              "3022    132.650960\n",
              "3023    132.374145\n",
              "3024    134.000259\n",
              "3025    134.809799\n",
              "3026    133.713694\n",
              "3027    133.438569\n",
              "3028    134.744230\n",
              "3029    136.771053\n",
              "3030    141.823458\n",
              "3031    137.131215\n",
              "3032    138.796561\n",
              "3033    139.390488\n",
              "3034    140.454592\n",
              "3035    139.290965\n",
              "3036    138.577632\n",
              "3037    135.420032\n",
              "3038    139.015552\n",
              "3039    136.987478\n",
              "3040    134.302591\n",
              "3041    125.244437\n",
              "3042    109.853757\n",
              "3043    103.390598\n",
              "3044    104.034309\n",
              "3045    100.987251\n",
              "3046     98.543702\n",
              "3047    100.057349\n",
              "3048    102.070363\n",
              "3049    100.942122\n",
              "3050    100.740442\n",
              "3051     99.783768\n",
              "3052     99.862582\n",
              "3053     99.331092\n",
              "3054     99.615869\n",
              "3055     99.680507\n",
              "3056    100.184085\n",
              "3057    101.559480\n",
              "3058    103.062000\n",
              "3059    103.112953\n",
              "3060    103.562430\n",
              "3061    103.261358\n",
              "3062    102.815261\n",
              "3063    102.961472\n",
              "3064    103.146513\n",
              "3065    104.737765\n",
              "3066    104.967625\n",
              "3067    106.061169\n",
              "3068    107.221900\n",
              "3069    106.935052\n",
              "3070    107.405392\n",
              "3071    106.262961\n",
              "3072    105.938509\n",
              "3073    106.439305\n",
              "3074    107.236098\n",
              "3075    106.747487\n",
              "3076    105.788736\n",
              "3077    105.605936\n",
              "3078    105.936871\n",
              "3079    107.153590\n",
              "3080    109.704588\n",
              "3081    108.122914\n",
              "3082    106.908484\n",
              "3083    106.507226\n",
              "3084    106.277831\n",
              "3085    107.325295\n",
              "3086    108.063774\n",
              "3087    111.583466\n",
              "3088    108.528770\n",
              "3089    106.407711\n",
              "3090    107.333906\n",
              "3091    106.766496\n",
              "3092    105.215096\n",
              "3093    108.434174\n",
              "3094    110.647610\n",
              "3095    111.012896\n",
              "3096    111.021536\n",
              "3097    109.137893\n",
              "3098    108.449461\n",
              "3099    107.640260\n",
              "3100    108.355048\n",
              "3101    107.980368\n",
              "3102    109.398970\n",
              "3103    109.757729\n",
              "3104    111.060530\n",
              "3105    111.636284\n",
              "3106    112.838254\n",
              "3107    109.175101\n",
              "3108    117.803510\n",
              "3109    117.913349\n",
              "3110    122.588831\n",
              "3111    122.768412\n",
              "3112    123.332823\n",
              "3113    124.937334\n",
              "3114    124.868162\n",
              "3115    125.688347\n",
              "3116    125.695405\n",
              "3117    125.771952\n",
              "3118    124.188998\n",
              "3119    126.040992\n",
              "3120    123.565224\n",
              "3121    124.475554\n",
              "3122    123.425712\n",
              "3123    122.220563\n",
              "3124    122.870000\n",
              "3125    122.325352\n",
              "3126    122.941727\n",
              "3127    121.263552\n",
              "3128    120.036200\n",
              "3129    118.571509\n",
              "3130    118.000648\n",
              "3131    121.435176\n",
              "3132    123.552745\n",
              "3133    122.863170\n",
              "3134    119.259899\n",
              "3135    115.213261\n",
              "3136    113.916194\n",
              "3137    107.521813\n",
              "3138    106.761633\n",
              "3139    102.218202\n",
              "3140    102.482946\n",
              "3141    109.621865\n",
              "3142    102.540678\n",
              "3143    100.501959\n",
              "3144    101.492555\n",
              "3145    103.024154\n",
              "3146    104.249701\n",
              "3147    103.061020\n",
              "3148    106.641847\n",
              "3149    109.374729\n",
              "3150    111.664792\n",
              "3151    115.250776\n",
              "3152    122.830017\n",
              "3153    125.810325\n",
              "3154    122.471061\n",
              "3155    118.298292\n",
              "3156    115.600199\n",
              "3157    113.585899\n",
              "3158    113.290971\n",
              "3159    112.150908\n",
              "3160    114.411327\n",
              "3161    113.184729\n",
              "3162    108.768768\n",
              "3163    110.636528\n",
              "3164     70.631923\n",
              "3165     94.154802\n",
              "3166     79.797902\n",
              "3167    100.819323\n",
              "3168    106.061522\n",
              "3169    107.121746\n",
              "3170    109.723946\n",
              "3171    114.867945\n",
              "3172    121.928589\n",
              "3173    127.239993\n",
              "3174    128.723422\n",
              "3175    128.377863\n",
              "3176    125.990582\n",
              "3177    123.384865\n",
              "3178    122.802853\n",
              "3179    121.004130\n",
              "3180    122.125536\n",
              "3181    122.355305\n",
              "3182    123.019935\n",
              "3183    124.306898\n",
              "3184    126.536293\n",
              "3185    127.538323\n",
              "3186    126.105404\n",
              "3187    125.459110\n",
              "3188    122.822544\n",
              "3189    122.564559\n",
              "3190    119.432232\n",
              "3191    115.916023\n",
              "3192    110.705625\n",
              "3193    111.288157\n",
              "3194    105.930493\n",
              "3195    105.644170\n",
              "3196    106.652085\n",
              "3197    106.796592\n",
              "3198    103.764648\n",
              "3199    106.094785\n",
              "3200    103.508909\n",
              "3201    105.315648\n",
              "3202    112.504391\n",
              "3203    112.444143\n",
              "3204    112.741871\n",
              "3205    111.165363\n",
              "3206    108.083653\n",
              "3207    115.319933\n",
              "3208    116.386849\n",
              "3209    109.436880\n",
              "3210    108.136614\n",
              "3211    109.083600\n",
              "3212    106.786379\n",
              "3213    107.680501\n",
              "3214    112.419981\n",
              "3215    113.829529\n",
              "3216    115.652162\n",
              "3217    120.903878\n",
              "3218    116.211988\n",
              "3219    112.199084\n",
              "3220    107.875507\n",
              "3221    113.246365\n",
              "3222    116.117237\n",
              "3223    108.154916\n",
              "3224    106.914096\n",
              "3225    109.617199\n",
              "3226    118.586543\n",
              "3227    119.924909\n",
              "3228    116.108958\n",
              "3229    118.566307\n",
              "3230    121.648961\n",
              "3231    121.711853\n",
              "3232    121.609862\n",
              "3233    123.451557\n",
              "3234    121.603868\n",
              "3235    121.323758\n",
              "3236    123.764698\n",
              "3237    122.682387\n",
              "3238    119.351238\n",
              "3239    113.668631\n",
              "3240    108.109099\n",
              "3241    105.850238\n",
              "3242     68.636809\n",
              "3243     92.814748\n",
              "3244     91.536366\n",
              "3245     94.652518\n",
              "3246     94.188107\n",
              "3247     91.777082\n",
              "3248     93.306092\n",
              "3249     91.719436\n",
              "3250     91.238943\n",
              "3251     91.860430\n",
              "3252     92.240311\n",
              "3253     93.652685\n",
              "3254     97.227476\n",
              "3255     97.054906\n",
              "3256     96.995361\n",
              "3257     98.947308\n",
              "3258    101.137352\n",
              "3259    105.408347\n",
              "3260    106.111193\n",
              "3261    106.845530\n",
              "3262    110.479502\n",
              "3263    110.990166\n",
              "3264    113.711586\n",
              "3265    113.991713\n",
              "3266    113.377486\n",
              "3267    109.759500\n",
              "3268    107.297170\n",
              "3269    105.641198\n",
              "3270    104.794342\n",
              "3271    103.224176\n",
              "3272    102.766908\n",
              "3273     99.056352\n",
              "3274    100.280419\n",
              "3275    100.137073\n",
              "3276    102.438587\n",
              "3277    101.844836\n",
              "3278    102.190954\n",
              "3279    104.024508\n",
              "3280    102.330485\n",
              "3281    100.128228\n",
              "3282    100.499493\n",
              "3283     98.274519\n",
              "3284     97.806393\n",
              "3285     97.775022\n",
              "3286     97.669587\n",
              "3287     95.890775\n",
              "3288     96.578125\n",
              "3289     95.427188\n",
              "3290     94.829376\n",
              "3291     94.380495\n",
              "3292     95.343866\n",
              "3293     95.695753\n",
              "3294     98.854604\n",
              "3295    103.635975\n",
              "3296    106.138021\n",
              "3297    106.203667\n",
              "3298    109.300598\n",
              "3299    110.651824\n",
              "3300    113.294248\n",
              "3301    113.832520\n",
              "3302    114.237224\n",
              "3303    116.051668\n",
              "3304    117.761575\n",
              "3305    118.608739\n",
              "3306    118.677167\n",
              "3307    117.159148\n",
              "3308    114.838605\n",
              "3309    115.791697\n",
              "3310    115.506637\n",
              "3311    113.661106\n",
              "3312    112.456448\n",
              "3313    111.458694\n",
              "3314    110.702617\n",
              "3315    109.377359\n",
              "3316    108.799930\n",
              "3317    109.622352\n",
              "3318    110.266452\n",
              "3319    111.953917\n",
              "3320    111.343679\n",
              "3321    110.878895\n",
              "3322    109.763981\n",
              "3323    109.509329\n",
              "3324    108.820638\n",
              "3325    108.553541\n",
              "3326    109.666216\n",
              "3327    109.836005\n",
              "3328    111.218167\n",
              "3329    113.058625\n",
              "3330    114.521802\n",
              "3331    117.154712\n",
              "3332    118.849940\n",
              "3333    120.220874\n",
              "3334    119.647697\n",
              "3335    118.955572\n",
              "3336    118.604717\n",
              "3337    119.824460\n",
              "3338    121.325828\n",
              "3339    121.266836\n",
              "3340    121.495738\n",
              "3341    121.382963\n",
              "3342    121.646363\n",
              "3343    122.293453\n",
              "3344    122.130290\n",
              "3345    121.337533\n",
              "3346    120.312060\n",
              "3347    121.037317\n",
              "3348    122.912433\n",
              "3349    123.038274\n",
              "3350    125.107805\n",
              "3351    123.113097\n",
              "3352    119.757321\n",
              "3353    118.871901\n",
              "3354    118.490973\n",
              "3355    117.348078\n",
              "3356    115.384094\n",
              "3357    112.986927\n",
              "3358    111.296060\n",
              "3359    109.539860\n",
              "3360    108.433676\n",
              "3361    107.763470\n",
              "3362    106.031227\n",
              "3363    104.580639\n",
              "3364    106.126139\n",
              "3365    103.656127\n",
              "3366    104.289673\n",
              "3367    105.009993\n",
              "3368    104.657407\n",
              "3369    104.708570\n",
              "3370    103.915008\n",
              "3371    104.134927\n",
              "3372    103.985233\n",
              "3373    103.560700\n",
              "3374    102.239649\n",
              "3375    101.366380\n",
              "3376    101.107482\n",
              "3377    103.050259\n",
              "3378    103.566382\n",
              "3379    102.683164\n",
              "3380    102.545642\n",
              "3381     99.905319\n",
              "3382     99.870407\n",
              "3383     99.704806\n",
              "3384    102.219663\n",
              "3385    105.538896\n",
              "3386    104.871128\n",
              "3387    104.203050\n",
              "3388    102.175595\n",
              "3389    101.947889\n",
              "3390     99.826159\n",
              "3391     96.898740\n",
              "3392     96.556670\n",
              "3393     97.227862\n",
              "3394     96.132789\n",
              "3395     95.811358\n",
              "3396     97.008698\n",
              "3397     96.751826\n",
              "3398     97.180963\n",
              "3399     98.285810\n",
              "3400     99.135303\n",
              "3401    100.814635\n",
              "3402    104.794577\n",
              "3403    108.439034\n",
              "3404    111.122039\n",
              "3405    113.905439\n",
              "3406    115.362789\n",
              "3407    115.173021\n",
              "3408    111.311255\n",
              "3409    110.258604\n",
              "3410    108.193175\n",
              "3411    110.193246\n",
              "3412    111.909093\n",
              "3413    114.376129\n",
              "3414    116.180272\n",
              "3415    119.344538\n",
              "3416    120.856849\n",
              "3417    122.052093\n",
              "3418    123.349267\n",
              "3419    126.945206\n",
              "3420    128.572148\n",
              "3421    128.237382\n",
              "3422    126.583748\n",
              "3423    126.168636\n",
              "3424    125.712907\n",
              "3425    124.737627\n",
              "3426    122.718552\n",
              "3427    121.091916\n",
              "3428    119.035831\n",
              "3429    116.554980\n",
              "3430    115.038905\n",
              "3431    115.006014\n",
              "3432    114.206739\n",
              "3433    114.183424\n",
              "3434    113.825836\n",
              "3435    114.157325\n",
              "3436    114.514941\n",
              "3437    115.390555\n",
              "3438    117.651516\n",
              "3439    121.123540\n",
              "3440    124.341982\n",
              "3441    125.561286\n",
              "3442    127.063695\n",
              "3443    126.288988\n",
              "3444    125.980252\n",
              "3445    123.161428\n",
              "3446    122.589225\n",
              "3447    121.258565\n",
              "3448    121.058944\n",
              "3449    120.991092\n",
              "3450    121.894930\n",
              "3451    122.059955\n",
              "3452    118.592988\n",
              "3453    117.169571\n",
              "3454    116.255910\n",
              "3455    113.143753\n",
              "3456    109.187310\n",
              "3457    107.235001\n",
              "3458    116.869470\n",
              "3459    114.962662\n",
              "3460    110.261849\n",
              "3461    112.270303\n",
              "3462    105.430290\n",
              "3463    106.809138\n",
              "3464    109.118648\n",
              "3465    110.867999\n",
              "3466    110.948017\n",
              "3467    112.292266\n",
              "3468    114.009564\n",
              "3469    113.179056\n",
              "3470    115.068028\n",
              "3471    118.502815\n",
              "3472    118.836773\n",
              "3473    119.461260\n",
              "3474    117.827975\n",
              "3475    115.780235\n",
              "3476    114.446879\n",
              "3477    112.248209\n",
              "3478    111.111913\n",
              "3479    112.644628\n",
              "3480    111.648559\n",
              "3481    114.025148\n",
              "3482    116.695556\n",
              "3483    116.734952\n",
              "3484    116.828171\n",
              "3485    118.407026\n",
              "3486    120.949760\n",
              "3487    122.831236\n",
              "3488    123.308287\n",
              "3489    122.757834\n",
              "3490    121.651964\n",
              "3491    120.759295\n",
              "3492    120.528193\n",
              "3493    122.613489\n",
              "3494    123.287134\n",
              "3495    123.854401\n",
              "3496    123.268202\n",
              "3497    122.862297\n",
              "3498    123.418233\n",
              "3499    123.811472\n",
              "3500    119.227562\n",
              "3501    114.903818\n",
              "3502    106.715740\n",
              "3503    104.957250\n",
              "3504    104.176609\n",
              "3505    107.156098\n",
              "3506    108.456050\n",
              "3507    110.060604\n",
              "3508    110.939495\n",
              "3509    110.642556\n",
              "3510    111.483519\n",
              "3511    112.805759\n",
              "3512    111.745746\n",
              "3513    113.288204\n",
              "3514    112.908716\n",
              "3515    113.420277\n",
              "3516    112.850697\n",
              "3517    112.176056\n",
              "3518    115.119909\n",
              "3519    113.012256\n",
              "3520    112.383937\n",
              "3521    112.069896\n",
              "3522    113.613989\n",
              "3523    115.633146\n",
              "3524    116.719229\n",
              "3525    116.238397\n",
              "3526    116.712211\n",
              "3527    116.543179\n",
              "3528    117.020966\n",
              "3529    116.333379\n",
              "3530    115.291580\n",
              "3531    115.761860\n",
              "3532    117.390478\n",
              "3533    118.905458\n",
              "3534    118.158899\n",
              "3535    118.262472\n",
              "3536    118.030655\n",
              "3537    118.131578\n",
              "3538    117.124436\n",
              "3539    117.184158\n",
              "3540    116.926865\n",
              "3541    116.088629\n",
              "3542    115.565786\n",
              "3543    116.190572\n",
              "3544    117.015727\n",
              "3545    116.661278\n",
              "3546    116.122792\n",
              "3547    117.626986\n",
              "3548    119.254348\n",
              "3549    118.823833\n",
              "3550    119.036858\n",
              "3551    120.504321\n",
              "3552    120.110114\n",
              "3553    119.786100\n",
              "3554    119.047080\n",
              "3555    118.641488\n",
              "3556    118.205093\n",
              "3557    118.448530\n",
              "3558    119.008374\n",
              "3559    119.574333\n",
              "3560    119.409234\n",
              "3561    119.625618\n",
              "3562    117.610847\n",
              "3563    117.736434\n",
              "3564    115.599617\n",
              "3565    113.078447\n",
              "3566    109.577423\n",
              "3567    113.000225\n",
              "3568    116.587590\n",
              "3569    121.523715\n",
              "3570    119.556701\n",
              "3571    116.571491\n",
              "3572    117.400267\n",
              "3573    117.669727\n",
              "3574    117.248572\n",
              "3575    118.348376\n",
              "3576    118.048277\n",
              "3577    117.414199\n",
              "3578    118.467603\n",
              "3579    118.440640\n",
              "3580    119.188309\n",
              "3581    120.481083\n",
              "3582    121.663140\n",
              "3583    122.904032\n",
              "3584    123.732318\n",
              "3585    124.287508\n",
              "3586    124.871741\n",
              "3587    126.264029\n",
              "3588    126.619079\n",
              "3589    126.729346\n",
              "3590    125.041326\n",
              "3591    124.352366\n",
              "3592    124.317844\n",
              "3593    125.443592\n",
              "3594    125.856339\n",
              "3595    126.523706\n",
              "3596    126.811081\n",
              "3597    126.990396\n",
              "3598    126.182625\n",
              "3599    124.749769\n",
              "3600    122.996759\n",
              "3601    121.913369\n",
              "3602    121.216987\n",
              "3603    119.954631\n",
              "3604    120.478867\n",
              "3605    121.190857\n",
              "3606    120.965809\n",
              "3607    120.226890\n",
              "3608    118.929240\n",
              "3609    118.933251\n",
              "3610    118.665314\n",
              "3611    117.446656\n",
              "3612    117.086781\n",
              "3613    117.142266\n",
              "3614    117.513864\n",
              "3615    117.342273\n",
              "3616    117.426922\n",
              "3617    117.644799\n",
              "3618    117.259782\n",
              "3619    117.379307\n",
              "3620    116.954022\n",
              "3621    116.182483\n",
              "3622    116.422726\n",
              "3623    116.193708\n",
              "3624    115.847842\n",
              "3625    115.690992\n",
              "3626    116.601052\n",
              "3627    113.411186\n",
              "3628    112.774524\n",
              "3629    112.773606\n",
              "3630    112.924640\n",
              "3631    113.100662\n",
              "3632    113.520327\n",
              "3633    114.955460\n",
              "3634    115.767305\n",
              "3635    115.790103\n",
              "3636    116.639912\n",
              "3637    117.470397\n",
              "3638    117.627566\n",
              "3639    117.987748\n",
              "3640    118.573794\n",
              "3641    118.358263\n",
              "3642    118.224557\n",
              "3643    119.219154\n",
              "3644    118.800338\n",
              "3645    117.774992\n",
              "3646    118.854445\n",
              "3647    119.886131\n",
              "3648    119.635544\n",
              "3649    119.233720\n",
              "3650    118.141538\n",
              "3651    118.478304\n",
              "3652    118.411755\n",
              "3653    118.111762\n",
              "3654    117.397097\n",
              "3655    117.402649\n",
              "3656    115.505863\n",
              "3657    115.030768\n",
              "3658    114.658367\n",
              "3659    114.750539\n",
              "3660    114.519946\n",
              "3661    113.831762\n",
              "3662    113.016138\n",
              "3663    112.077044\n",
              "3664    112.295033\n",
              "3665    112.512495\n",
              "3666    112.731210\n",
              "3667    111.891846\n",
              "3668    112.103254\n",
              "3669    111.697164\n",
              "3670    111.595491\n",
              "3671    112.450147\n",
              "3672    112.446438\n",
              "3673    113.831188\n",
              "3674    114.928249\n",
              "3675    115.213668\n",
              "3676    117.024192\n",
              "3677    118.175502\n",
              "3678    117.967371\n",
              "3679    118.208205\n",
              "3680    119.038769\n",
              "3681    119.754355\n",
              "3682    121.019985\n",
              "3683    121.535806\n",
              "3684    121.220684\n",
              "3685    120.715298\n",
              "3686    120.713381\n",
              "3687    120.893697\n",
              "3688    121.612807\n",
              "3689    122.465319\n",
              "3690    122.342701\n",
              "3691    122.745964\n",
              "3692    124.398011\n",
              "3693    124.830566\n",
              "3694    125.665012\n",
              "3695    128.084279\n",
              "3696    128.813460\n",
              "3697    129.464829\n",
              "3698    130.450199\n",
              "3699    132.105644\n",
              "3700    131.473680\n",
              "3701    130.470742\n",
              "3702    130.611571\n",
              "3703    130.079653\n",
              "3704    130.164038\n",
              "3705    130.901274\n",
              "3706    132.107045\n",
              "3707    133.895990\n",
              "3708    132.344520\n",
              "3709    132.354871\n",
              "3710    133.206960\n",
              "3711    133.806583\n",
              "3712    134.620066\n",
              "3713    134.289254\n",
              "3714    133.599262\n",
              "3715    131.476070\n",
              "3716    130.746557\n",
              "3717    129.940285\n",
              "3718    131.022705\n",
              "3719    132.334432\n",
              "3720    132.519978\n",
              "3721    133.421523\n",
              "3722    133.604781\n",
              "3723    134.237879\n",
              "3724    133.660237\n",
              "3725    132.445329\n",
              "3726    130.573313\n",
              "3727    128.816989\n",
              "3728    126.650589\n",
              "3729    125.586801\n",
              "3730    122.413836\n",
              "3731    120.958030\n",
              "3732    119.157256\n",
              "3733    117.073844\n",
              "3734    119.764265\n",
              "3735    121.347238\n",
              "3736    121.927624\n",
              "3737    122.476527\n",
              "3738    122.131879\n",
              "3739    121.673488\n",
              "3740    121.760802\n",
              "3741    121.533230\n",
              "3742    120.406722\n",
              "3743    119.531564\n",
              "3744    119.446891\n",
              "3745    119.832008\n",
              "3746    119.766359\n",
              "3747    119.998833\n",
              "3748    121.218501\n",
              "3749    121.991717\n",
              "3750    122.552322\n",
              "3751    122.415636\n",
              "3752    123.810440\n",
              "3753    124.772114\n",
              "3754    124.194397\n",
              "3755    123.969990\n",
              "3756    125.051383\n",
              "3757    125.845785\n",
              "3758    126.152733\n",
              "3759    126.917176\n",
              "3760    127.142279\n",
              "3761    127.596555\n",
              "3762    127.102933\n",
              "3763    128.155895\n",
              "3764    129.910300\n",
              "3765    131.959704\n",
              "3766    134.699866\n",
              "3767    134.711889\n",
              "3768    134.273351\n",
              "3769    133.741567\n",
              "3770    132.136999\n",
              "3771    134.927302\n",
              "3772    137.199256\n",
              "3773    138.360962\n",
              "3774    137.025074\n",
              "3775    139.308123\n",
              "3776    139.273498\n",
              "3777    139.869428\n",
              "3778    140.717679\n",
              "3779    141.060011\n",
              "3780    140.297725\n",
              "3781    141.272332\n",
              "3782    140.308663\n",
              "3783    139.564496\n",
              "3784    137.114116\n",
              "3785    136.542852\n",
              "3786    136.531978\n",
              "3787    138.634375\n",
              "3788    138.968645\n",
              "3789    139.260902\n",
              "3790    138.910068\n",
              "3791    139.423430\n",
              "3792    139.683598\n",
              "3793    140.904008\n",
              "3794    141.288420\n",
              "3795    141.071715\n",
              "3796    140.882975\n",
              "3797    141.570975\n",
              "3798    140.533359\n",
              "3799    140.592853\n",
              "3800    140.579403\n",
              "3801    140.852513\n",
              "3802    142.628485\n",
              "3803    142.518458\n",
              "3804    141.156617\n",
              "3805    141.482481\n",
              "3806    141.674624\n",
              "3807    142.404167\n",
              "3808    141.628243\n",
              "3809    142.233547\n",
              "3810    142.982112\n",
              "3811    142.246254\n",
              "3812    142.121851\n",
              "3813    140.632642\n",
              "3814    140.522360\n",
              "3815    140.367895\n",
              "3816    140.408787\n",
              "3817    140.776639\n",
              "3818    139.301152\n",
              "3819    138.269339\n",
              "3820    138.028808\n",
              "3821    137.747751\n",
              "3822    137.926868\n",
              "3823    137.010009\n",
              "3824    138.204926\n",
              "3825    139.419811\n",
              "3826    143.583108\n",
              "3827    146.211726\n",
              "3828    146.733374\n",
              "3829    146.152843\n",
              "3830    142.193435\n",
              "3831    138.287329\n",
              "3832    139.495866\n",
              "3833    139.926824\n",
              "3834    140.078267\n",
              "3835    139.961666\n",
              "3836    139.046251\n",
              "3837    138.460486\n",
              "3838    138.029644\n",
              "3839    138.560048\n",
              "3840    140.855826\n",
              "3841    140.381167\n",
              "3842    139.792144\n",
              "3843    139.817043\n",
              "3844    140.789148\n",
              "3845    140.187099\n",
              "3846    140.426151\n",
              "3847    139.637071\n",
              "3848    138.593810\n",
              "3849    138.844866\n",
              "3850    139.908503\n",
              "3851    139.618323\n",
              "3852    139.342769\n",
              "3853    140.222818\n",
              "3854    140.262175\n",
              "3855    136.603367\n",
              "3856    134.631455\n",
              "3857    133.036878\n",
              "3858    134.538063\n",
              "3859    135.342230\n",
              "3860    134.911692\n",
              "3861    135.505916\n",
              "3862    135.383236\n",
              "3863    135.806949\n",
              "3864    136.084582\n",
              "3865    137.427730\n",
              "3866    134.065340\n",
              "3867    134.836164\n",
              "3868    127.083084\n",
              "3869    117.540325\n",
              "3870    107.094768\n",
              "3871    104.958838\n",
              "3872    106.120230\n",
              "3873    107.934144\n",
              "3874    110.797622\n",
              "3875    112.105973\n",
              "3876    111.722446\n",
              "3877    111.112375\n",
              "3878    108.574112\n",
              "3879    106.074108\n",
              "3880    104.050574\n",
              "3881    103.747747\n",
              "3882    104.571272\n",
              "3883    105.506331\n",
              "3884    105.547956\n",
              "3885    106.023903\n",
              "3886    106.032030\n",
              "3887    108.924848\n",
              "3888    115.773094\n",
              "3889    122.853659\n",
              "3890    126.926034\n",
              "3891    131.345824\n",
              "3892    133.592896\n",
              "3893    128.910682\n",
              "3894    129.706993\n",
              "3895    137.768085\n",
              "3896    140.396428\n",
              "3897    141.344217\n",
              "3898    143.517111\n",
              "3899    138.767183\n",
              "3900    142.093945\n",
              "3901    146.964192\n",
              "3902    144.239313\n",
              "3903    144.516287\n",
              "3904    142.479297\n",
              "3905    135.237952\n",
              "3906    136.602998\n",
              "3907    134.708591\n",
              "3908    133.618822\n",
              "3909    133.204008\n",
              "3910    135.932500\n",
              "3911    138.607022\n",
              "3912    140.181967\n",
              "3913    139.384223\n",
              "3914    137.251026\n",
              "3915    135.481016\n",
              "3916    135.151818\n",
              "3917    135.202160\n",
              "3918    132.113065\n",
              "3919    126.239070\n",
              "3920    121.797373\n",
              "3921    120.520308\n",
              "3922    123.205820\n",
              "3923    126.389137\n",
              "3924    127.594168\n",
              "3925    126.805125\n",
              "3926    125.023715\n",
              "3927    121.071774\n",
              "3928    122.288485\n",
              "3929    129.534101\n",
              "3930    133.043157\n",
              "3931    135.949439\n",
              "3932    134.040781\n",
              "3933    122.937922\n",
              "3934    135.266052\n",
              "3935    129.654890\n",
              "3936    106.794456\n",
              "3937    107.060761\n",
              "3938    109.042878\n",
              "3939    119.810927\n",
              "3940    126.990438\n",
              "3941    118.506252\n",
              "3942    122.605430\n",
              "3943    120.663445\n",
              "3944    119.091838\n",
              "3945    123.802394\n",
              "3946    132.900310\n",
              "3947    133.298857\n",
              "3948    131.083898\n",
              "3949    137.551895\n",
              "3950    124.759957\n",
              "3951    129.625638\n",
              "3952    124.247032\n",
              "3953    126.785822\n",
              "3954    128.380595\n",
              "3955    130.014127\n",
              "3956    132.011009\n",
              "Name: DTSM, dtype: float64"
            ]
          },
          "metadata": {
            "tags": []
          },
          "execution_count": 54
        }
      ]
    },
    {
      "cell_type": "code",
      "metadata": {
        "id": "uhuhA0ri_kKG"
      },
      "source": [
        ""
      ],
      "execution_count": null,
      "outputs": []
    }
  ]
}