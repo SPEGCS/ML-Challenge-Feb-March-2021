{
  "nbformat": 4,
  "nbformat_minor": 0,
  "metadata": {
    "colab": {
      "name": "convert_test_files_tocsv",
      "provenance": [],
      "collapsed_sections": []
    },
    "kernelspec": {
      "name": "python3",
      "display_name": "Python 3"
    }
  },
  "cells": [
    {
      "cell_type": "code",
      "metadata": {
        "colab": {
          "base_uri": "https://localhost:8080/"
        },
        "id": "duVrUYCMthlU",
        "outputId": "7a175c36-aaee-4d02-936a-7f1946a7a68a"
      },
      "source": [
        "from google.colab import drive\n",
        "drive.mount('/content/drive')"
      ],
      "execution_count": null,
      "outputs": [
        {
          "output_type": "stream",
          "text": [
            "Mounted at /content/drive\n"
          ],
          "name": "stdout"
        }
      ]
    },
    {
      "cell_type": "code",
      "metadata": {
        "colab": {
          "base_uri": "https://localhost:8080/"
        },
        "id": "5vOwPFX5t_BG",
        "outputId": "2328f196-dc47-40e9-9c3c-b7dacc354bfc"
      },
      "source": [
        "pip install lasio"
      ],
      "execution_count": null,
      "outputs": [
        {
          "output_type": "stream",
          "text": [
            "Collecting lasio\n",
            "  Downloading https://files.pythonhosted.org/packages/5e/8e/ce58a22ec8454a12f92333a50f2add5f6131218c4815952d6ca7cbd578f0/lasio-0.28-py3-none-any.whl\n",
            "Requirement already satisfied: numpy in /usr/local/lib/python3.7/dist-packages (from lasio) (1.19.5)\n",
            "Installing collected packages: lasio\n",
            "Successfully installed lasio-0.28\n"
          ],
          "name": "stdout"
        }
      ]
    },
    {
      "cell_type": "code",
      "metadata": {
        "id": "3wT8l6u1t_Yr"
      },
      "source": [
        "#import lasio\n",
        "from sys import stdout\n",
        "import lasio\n",
        "import os\n",
        "import numpy as np\n",
        "import pandas as pd\n",
        "import matplotlib.pyplot as plt\n",
        "from math import isnan\n",
        "from joblib import dump, load"
      ],
      "execution_count": null,
      "outputs": []
    },
    {
      "cell_type": "code",
      "metadata": {
        "id": "7L_xMKIOtiFK"
      },
      "source": [
        "path = os.getcwd()+'/drive/My Drive/ML Challenge All Test Data'"
      ],
      "execution_count": null,
      "outputs": []
    },
    {
      "cell_type": "code",
      "metadata": {
        "colab": {
          "base_uri": "https://localhost:8080/"
        },
        "id": "GK7aGIApvF2Q",
        "outputId": "01340b60-3d67-4985-db1d-21968bf4004d"
      },
      "source": [
        "#convert test files to csv format\n",
        "for filename in os.listdir(path):\n",
        "  if filename.endswith(\".las\"):\n",
        "    path2 = path + '/'+ filename\n",
        "    las = lasio.read(path2)\n",
        "    dfs = []\n",
        "    dfs.append(las.df())\n",
        "    #print(dfs)\n",
        "    df = pd.DataFrame(dfs[0])\n",
        "    print(os.path.splitext(filename)[0])\n",
        "    path3 = os.getcwd() + '/drive/My Drive/test_wells_final/'+ os.path.splitext(filename)[0]+ '.csv'\n",
        "    df.to_csv(path3, index = True)"
      ],
      "execution_count": null,
      "outputs": [
        {
          "output_type": "stream",
          "text": [
            "302460e3021a_TGS\n",
            "0a7822c59487_TGS\n",
            "3369b6f8fb6f_TGS\n",
            "638f2cc65681_TGS\n",
            "7595ba9fb314_TGS\n",
            "84c5fb9cc880_TGS\n",
            "8e37531ba266_TGS\n",
            "94c1f5cae85c_TGS\n",
            "ed48bda2217f_TGS\n",
            "34a80ab7a5fa_TGS\n",
            "00d02be79f49_TGS\n",
            "113412eec2a6_TGS\n",
            "1684cc35f399_TGS\n",
            "20372701d5e2_TGS\n",
            "2f96a5f92418_TGS\n",
            "63250f7d463b_TGS\n",
            "ae16a9f64878_TGS\n",
            "eed1e9537976_TGS\n",
            "fca03aa6acde_TGS\n",
            "ff7845ea074d_TGS\n"
          ],
          "name": "stdout"
        }
      ]
    }
  ]
}